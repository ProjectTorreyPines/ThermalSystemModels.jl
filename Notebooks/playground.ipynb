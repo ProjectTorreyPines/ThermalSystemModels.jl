{
 "cells": [
  {
   "cell_type": "code",
   "execution_count": 2,
   "metadata": {},
   "outputs": [],
   "source": [
    "using Graphs, GraphMakie, CairoMakie, NetworkLayout\n",
    "# g = SimpleGraph(9)\n",
    "# nlabels_align = [(:right, :bottom),\n",
    "#                  (:center, :bottom),\n",
    "#                  (:left, :bottom),\n",
    "#                  (:right, :center),\n",
    "#                  (:center, :center),\n",
    "#                  (:left, :center),\n",
    "#                  (:right, :top),\n",
    "#                  (:center, :top),\n",
    "#                  (:left, :top)]\n",
    "\n",
    "# nlabels = repr.(nlabels_align)\n",
    "# nlabels_fontsize = 10\n",
    "\n",
    "# fig, ax, p = graphplot(g; layout=SquareGrid(), nlabels, nlabels_align, nlabels_fontsize)\n",
    "# graphplot!(g; layout=SquareGrid(), nlabels, nlabels_align, nlabels_distance=30,\n",
    "#            nlabels_color=:red, nlabels_fontsize)\n",
    "# hidedecorations!(ax); xlims!(-2,4); ylims!(-4,2)\n",
    "# fig"
   ]
  },
  {
   "cell_type": "code",
   "execution_count": 1,
   "metadata": {},
   "outputs": [
    {
     "data": {
      "text/plain": [
       "7.804146662238054e-9"
      ]
     },
     "metadata": {},
     "output_type": "display_data"
    }
   ],
   "source": [
    "mutable struct liq_prop_obj\n",
    "    P::Real     #   \n",
    "    T::Real     # \n",
    "    cp    # specific heat\n",
    "    v     # specific volume\n",
    "    h     # enthalpy (kJ/kg)\n",
    "    u\n",
    "    s\n",
    "end\n",
    "\n",
    "# for PbLI, scaled so min temp = 500 C\n",
    "cp(T)   = (195 - .00911 .* T)                   # J/kgK From source\n",
    "v(T)    = 1 / (10520.35 - 1.19051 .* T)         # m3/kg\n",
    "\n",
    "# reference variables - only for scale\n",
    "#   extrapolated from specific heat data (min temp 508 K)\n",
    "#   reference temp = 508 K\n",
    "u(T)    = 195 * T - 0.004555 * T^2 - 97884.51848               #   calculated for pbli -> incompressible, Δu = integral(cp(T) dT)\n",
    "s(T)    = 195*log(T) - .00911*T    - 1210.31600227                   #   Same as above\n",
    "\n",
    "\n",
    "\n",
    "# a = 195\n",
    "# b = 0.00911\n",
    "# s_pbli(T)   = 195*log(T) - 0.00911*T - 1210.316002277804        # found by integrating specific heat formulas\n",
    "# v(T)        = 1/(10520.35 - 1.19051 .* T)               # m3/kg\n",
    "# cp(T)       = 195 - .0009116 * T\n",
    "# u(T)        = 195 * T - .0009116/2 * T^2                # integral of cp\n",
    "# href        = u(Tref) + Pref*v(Tref)\n",
    "# h(T,p)       = u(T) + v(T) * bar2pascal(P) - href\n",
    "# href        = u(Tref) + Pref*v(Tref)\n",
    "# href        = u(Tref) + Pref*v(Tref)\n",
    "u(508)\n",
    "s(508)\n"
   ]
  },
  {
   "cell_type": "code",
   "execution_count": null,
   "metadata": {},
   "outputs": [],
   "source": [
    "abstract type fluid                             end\n",
    "abstract type ideal_gas <: fluid                end\n",
    "abstract type incompressible_liquid <: fluid    end\n",
    "\n"
   ]
  },
  {
   "cell_type": "code",
   "execution_count": 22,
   "metadata": {},
   "outputs": [
    {
     "data": {
      "text/plain": [
       "-3.0"
      ]
     },
     "metadata": {},
     "output_type": "display_data"
    }
   ],
   "source": [
    "mutable struct Ts\n",
    "    T\n",
    "    P\n",
    "    a\n",
    "    b\n",
    "    c\n",
    "end\n",
    "\n",
    "# want to able change temp and props will auto reference\n",
    "constructor_Ts(T,p,a,b) = Ts(T -> T,P -> P, a -> 10 * a, b -> -1.5 * b, c -> false)\n",
    "quic_construct(T,p) = constructor_Ts(T,p,T,T) \n",
    "Test = quic_construct(10,-1)\n",
    "Test.T(1)\n",
    "Test.T(5)\n",
    "\n",
    "Test.c(1)\n",
    "Test.b(2)"
   ]
  },
  {
   "cell_type": "code",
   "execution_count": null,
   "metadata": {},
   "outputs": [],
   "source": [
    "tes\n",
    "# F(t,p) = \n",
    "\n",
    "\n",
    "T(T -> T, P -> p, a -> 2*t, b -> 3*t)\n",
    "fout = F(1,2)\n",
    "\n",
    "typeof(fout)\n",
    "fout.T(1)\n",
    "fout.T(2)\n",
    "@show fout.a(15)\n",
    "fout.T(5)\n",
    "@show fout.a(3)\n"
   ]
  },
  {
   "cell_type": "code",
   "execution_count": null,
   "metadata": {},
   "outputs": [],
   "source": [
    "# include(\"02-nodes.jl\")\n",
    "# abstract type node <: component_nodes end\n",
    "\n",
    "#    Nodes - communicate between components\n",
    "#   \n",
    "\n",
    "abstract type model_node end\n",
    "\n",
    "mutable struct fluid_node <: model_node\n",
    "    operating_mode # :calculated, :controlled\n",
    "    data\n",
    "end\n",
    "\n",
    "mutable struct thermal_node  <: model_node\n",
    "    operating_mode # :calculated, :controlled\n",
    "    HeatLoad\n",
    "end\n",
    "\n",
    "mutable struct mechanical_node  <: model_node\n",
    "    operating_mode # :calculated, :controlled\n",
    "    WorkLoad\n",
    "end\n",
    "\n",
    "abstract type model_comp end\n",
    "abstract type heating_element <: model_comp end\n",
    "\n",
    "mutable struct working_element <: model_comp \n",
    "    fluid_in::fluid_node\n",
    "    fluid_out::fluid_node\n",
    "    mech_e::mechanical_node\n",
    "\n",
    "    id\n",
    "end\n",
    "\n",
    "\n",
    "\n"
   ]
  }
 ],
 "metadata": {
  "kernelspec": {
   "display_name": "Julia 1.8.5",
   "language": "julia",
   "name": "julia-1.8"
  },
  "language_info": {
   "file_extension": ".jl",
   "mimetype": "application/julia",
   "name": "julia",
   "version": "1.8.5"
  },
  "orig_nbformat": 4
 },
 "nbformat": 4,
 "nbformat_minor": 2
}
