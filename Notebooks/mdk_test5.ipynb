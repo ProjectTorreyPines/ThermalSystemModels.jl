{
 "cells": [
  {
   "cell_type": "code",
   "execution_count": 1,
   "metadata": {},
   "outputs": [
    {
     "data": {
      "text/plain": [
       "LogLevel(1001)"
      ]
     },
     "metadata": {},
     "output_type": "display_data"
    }
   ],
   "source": [
    "using ModelingToolkit, Plots, DifferentialEquations, Revise, ModelingToolkitStandardLibrary, Unitful\n",
    "using Symbolics, Logging\n",
    "\n",
    "@variables t\n",
    "# Logging.disable_logging(Logging.@warn)\n",
    "Logging.disable_logging(Logging.Warn)"
   ]
  },
  {
   "attachments": {},
   "cell_type": "markdown",
   "metadata": {},
   "source": [
    "## Connectors"
   ]
  },
  {
   "cell_type": "code",
   "execution_count": 31,
   "metadata": {},
   "outputs": [
    {
     "data": {
      "text/plain": [
       "HeatTransferPin (generic function with 1 method)"
      ]
     },
     "metadata": {},
     "output_type": "display_data"
    }
   ],
   "source": [
    "\n",
    "Sym = Symbolics\n",
    "\n",
    "cphe(x) = 5.192\n",
    "cvhe(x) = 5.192 - 2.0769\n",
    "@variables x\n",
    "@register_symbolic cpfunc(x)\n",
    "@register_symbolic kfunc(x)\n",
    "\n",
    "\n",
    "# display(methods(cpfunc))\n",
    "@connector function ThermoPin(; name, Pdef = 10.0, Tdef = 300, ṁdef = 0.0)\n",
    "    @variables P(t) = Pdef              #[unit = u\"bar\"] \n",
    "    @variables ṁ(t) = ṁdef              #[unit = u\"kg/s\"] \n",
    "    @variables T(t)  = Tdef             #[unit = u\"K\"]\n",
    "    @variables cp(t) = 5192\n",
    "    @variables k(t)  = 1.667\n",
    "    eq = [\n",
    "        cp ~ cpfunc(T)\n",
    "        k ~ kfunc(T)\n",
    "    ]\n",
    "    sts = [T, P, ṁ, cp, k]\n",
    "    ODESystem(eq, t, sts, []; name = name, defaults = [P => Pdef, T => Tdef, ṁ => ṁdef] )\n",
    "end\n",
    "\n",
    "@connector function WorkPin(; name)\n",
    "    sts = @variables Ẇ(t) = 0.0 #[output = true]\n",
    "    ODESystem(Equation[], t, sts, []; name = name)\n",
    "end\n",
    "\n",
    "# convention = +Q = Qin\n",
    "@connector function FixedHeatFlowPin(; name, Qin = 1e6)  #input in W\n",
    "    sts = @variables Q̇(t)=Qin #[input = true]\n",
    "    ps = @parameters Qin = Qin\n",
    "    eqs=[\n",
    "        Q̇ ~ Qin\n",
    "    ]\n",
    "    ODESystem(eqs,t, sts, ps; name = name, defaults = [Q̇ => Qin])\n",
    "end\n",
    "\n",
    "@connector function HeatTransferPin(; name)  #input in W\n",
    "    @variables Q̇(t) \n",
    "    ODESystem(Equation[],t, [Q̇], []; name = name, defaults = [Q̇ => 0.0])\n",
    "end\n",
    "\n",
    "\n",
    "# tp = ThermoPin(name = :thermopin)\n",
    "# hfp = HeatFlowPin(name = :hfp)\n",
    "# wfp = WorkPin(name = :wp)"
   ]
  },
  {
   "attachments": {},
   "cell_type": "markdown",
   "metadata": {},
   "source": [
    "#### Flow source"
   ]
  },
  {
   "cell_type": "code",
   "execution_count": 32,
   "metadata": {},
   "outputs": [
    {
     "data": {
      "text/plain": [
       "Regenerator (generic function with 1 method)"
      ]
     },
     "metadata": {},
     "output_type": "display_data"
    }
   ],
   "source": [
    "@component function FixedFlowSource(;name, mflow = 1.0, P = 10, T = 300)\n",
    "    @named src = ThermoPin(Pdef = P, Tdef = T, ṁdef = mflow)\n",
    "    ps = @parameters ṁ=mflow P=P T=T\n",
    "    # 0 variables, 3 equations for pin\n",
    "    eqs = [\n",
    "        src.T ~ T\n",
    "        src.P ~ P\n",
    "        ṁ + src.ṁ ~ 0   #has to be negative\n",
    "    ]\n",
    "    ODESystem(eqs, t, [], ps; name = name, systems = [src], defaults = [P => P, T =>T, ṁ => mflow] )\n",
    "end\n",
    "\n",
    "@component function FlowSource(;name, mflow = 1.0, P = 10, T = 300)\n",
    "    @named n = ThermoPin(Pdef = P, Tdef = T, ṁdef = mflow)\n",
    "    @named p = ThermoPin(Pdef = P, Tdef = T, ṁdef = mflow)\n",
    "    ps = @parameters ṁ=mflow P=P T=T\n",
    "    # 0 variables, 3 equations for pin\n",
    "    eqs = [\n",
    "            0 ~ n.T - T\n",
    "            0 ~ p.T - n.T \n",
    "            0 ~ P - n.P \n",
    "            0 ~ p.P - n.P\n",
    "            0 ~ p.ṁ - ṁ\n",
    "            0 ~ ṁ + n.ṁ]   #has to be negative]\n",
    "    ODESystem(eqs, t, [], ps; name = name, systems = [n,p], defaults = [P => P, T =>T, ṁ => mflow] )\n",
    "end\n",
    "\n",
    "@component function ThermoHeatSource(; name, Qin = 1e6)\n",
    "    @named p = ThermoPin()\n",
    "    @named n = ThermoPin()\n",
    "    @named h = FixedHeatFlowPin(Qin = Qin)\n",
    "    #   0 variables 3 equations for pin\n",
    "    eqs = [\n",
    "        0 ~ p.ṁ + n.ṁ# p.ṁ ~ n.ṁ                               # conservation of mass\n",
    "        n.T ~ p.T + h.Q̇/(p.ṁ*p.cp)\n",
    "        n.P ~ p.P\n",
    "    ]\n",
    "    ODESystem(eqs,t,[],[]; name = name, systems = [p,n,h])\n",
    "end\n",
    "\n",
    "@component function ThermoHeatTransfer(; name)\n",
    "    @named p = ThermoPin()\n",
    "    @named n = ThermoPin()\n",
    "    @named h = HeatTransferPin()\n",
    "    st = @variables Q̇(t) C(t)\n",
    "    eqs = [\n",
    "        0 ~ p.ṁ + n.ṁ       # p.ṁ ~ n.ṁ                               # conservation of mass\n",
    "        C ~ p.ṁ * p.cp          # duty\n",
    "        0 ~ h.Q̇ - Q̇ \n",
    "        n.T ~ p.T + h.Q̇/(p.ṁ*p.cp)\n",
    "        n.P ~ p.P\n",
    "    ]\n",
    "    ODESystem(eqs,t,[Q̇,C],[]; name = name, systems = [p,n,h])\n",
    "end\n",
    "\n",
    "@component function ThermoCompressor(; name, η = 1.0, rp = 3.5)\n",
    "    @named p = ThermoPin()\n",
    "    @named n = ThermoPin()\n",
    "    @named w = WorkPin()\n",
    "\n",
    "    ps = @parameters rp = rp η = η\n",
    "    eqs = [\n",
    "        0 ~ p.ṁ + n.ṁ #p.ṁ ~ n.ṁ                               # conservation of mass\n",
    "        n.P ~ p.P * rp\n",
    "        n.T ~ p.T * ((1.0 - η - (rp^((p.k-1)/p.k))) / (-η))\n",
    "        w.Ẇ ~ p.ṁ * p.cp * (n.T - p.T)\n",
    "    ]\n",
    "    ODESystem(eqs,t,[],ps; name = name, systems = [p,n,w], defaults = [η => η, rp => rp])\n",
    "end\n",
    "\n",
    "@component function ThermoTurbine(; name, η = 1.0, rp = 3.5)\n",
    "    @named p = ThermoPin(Pdef = 80, Tdef = 800)\n",
    "    @named n = ThermoPin(Pdef = 80/3.5, Tdef = 500)\n",
    "    @named w = WorkPin()\n",
    "    ps = @parameters rp = rp η = η\n",
    "    eqs = [\n",
    "        0 ~ p.ṁ + n.ṁ                               # conservation of mass\n",
    "        n.P ~ p.P * rp\n",
    "        n.T ~ p.T *(η + rp^((p.k-1)/p.k)- η*(rp^((p.k-1)/p.k))) / (rp^((p.k-1)/p.k))\n",
    "        w.Ẇ ~ p.ṁ * p.cp * (n.T - p.T)\n",
    "    ]\n",
    "    ODESystem(eqs,t,[],ps; name = name, systems =  [p,n,w],  defaults = [η => η, rp => rp])\n",
    "end\n",
    "\n",
    "@component function WorkSensor(;name)\n",
    "    @named src = WorkPin()\n",
    "    var = @variables Ẇ(t)\n",
    "    eqs= [0 ~ Ẇ - src.Ẇ]\n",
    "    ODESystem(eqs,t,var,[]; name = name, systems =  [src])\n",
    "end\n",
    "\n",
    "@component function PassiveElement(;name)\n",
    "    @named p = ThermoPin()\n",
    "    @named n = ThermoPin()\n",
    "    sts = @variables Q̇(t) = 0.0 ΔP(t) ΔT(t) Δṁ(t)\n",
    "    # 0 variables, 3 equations for pin\n",
    "\n",
    "    eqs = [\n",
    "        n.ṁ + p.ṁ ~ Δṁ    #has to be negative\n",
    "        ΔT ~ p.T - n.T\n",
    "        Q̇ ~ -(p.ṁ * p.cp * ΔT)\n",
    "        ΔP ~ p.P - n.P\n",
    "        ]\n",
    "    ODESystem(eqs, t, [Q̇,ΔP,ΔT,Δṁ], []; name = name, systems = [p,n], defaults = [Q̇ => 0, ΔT =>0, ΔP => 0, Δṁ => 0])\n",
    "end\n",
    "\n",
    "@component function Regenerator(;name, ϵ = 0.95)\n",
    "    @named A = ThermoHeatTransfer()\n",
    "    @named B = ThermoHeatTransfer()\n",
    "    ps = @parameters ϵ = ϵ\n",
    "    @variables Q̇(t) \n",
    "    eqs = [\n",
    "        Q̇ ~ ϵ * (A.p.T - B.p.T) * ((A.C < B.C) *  A.C + (A.C >= B.C) * B.C)\n",
    "        0~A.Q̇ + B.Q̇\n",
    "        A.Q̇ ~ Q̇\n",
    "    ]\n",
    "    ODESystem(eqs, t, [Q̇], ps; name = name, systems = [A,B], defaults = [ϵ =>0.95] )\n",
    "end\n"
   ]
  },
  {
   "cell_type": "code",
   "execution_count": 33,
   "metadata": {},
   "outputs": [
    {
     "data": {
      "text/plain": [
       "hx_connect (generic function with 1 method)"
      ]
     },
     "metadata": {},
     "output_type": "display_data"
    }
   ],
   "source": [
    "function connect_pins(pins...)\n",
    "    # mass balance\n",
    "    eqs = [\n",
    "        sum(pin -> pin.ṁ, pins) ~ 0.0, # sum(mdot) = 0\n",
    "    ]\n",
    "\n",
    "    # pressure balance\n",
    "    for pin in pins[2:end]\n",
    "        push!(eqs, pins[1].P ~ pin.P) # p_1 = p_2, p_1 = p_3,...\n",
    "    end\n",
    "\n",
    "    return eqs\n",
    "end\n",
    "\n",
    "\"\"\"\n",
    "    basic_connect(pinA,pinB) \n",
    "    Stuff\n",
    "\"\"\"\n",
    "function basic_connect(pinA,pinB)   # creates thermoPin connections  P = P, T = T, mflow = mflow\n",
    "    eqs = [\n",
    "        sum(pin -> pin.ṁ, [pinA,pinB]) ~ 0.0, # sum(mdot) = 0\n",
    "    ]\n",
    "    push!(eqs, pinA.P ~ pinB.P)\n",
    "    push!(eqs, pinA.T ~ pinB.T)\n",
    "    return eqs\n",
    "end\n",
    "\n",
    "\n",
    "\"\"\"\n",
    "    Dont use this for flowsource\n",
    "\"\"\"\n",
    "function series_connect(pins)\n",
    "    # @assert length(pins)>2\n",
    "    eqs =  basic_connect(pins[1].n,pins[2].p)   # n -> p\n",
    "\n",
    "    if length(pins)>2\n",
    "        for i = 2:length(pins)-1\n",
    "            eqs = vcat(eqs,  basic_connect(pins[i].n,pins[i+1].p))\n",
    "        end\n",
    "    end\n",
    "    return eqs\n",
    "end\n",
    "\n",
    "function hx_connect(hx, compAin, compAout, compBin, compBout)\n",
    "    sideA = series_connect([compAin,hx.A,compAout])\n",
    "    sideB = series_connect([compBin,hx.B,compBout])\n",
    "    return vcat(sideA,sideB)\n",
    "end0\n"
   ]
  },
  {
   "cell_type": "code",
   "execution_count": 38,
   "metadata": {},
   "outputs": [
    {
     "data": {
      "text/plain": [
       "Dict{Any, Any} with 2 entries:\n",
       "  rp => rp\n",
       "  η  => η"
      ]
     },
     "metadata": {},
     "output_type": "display_data"
    }
   ],
   "source": [
    "\n",
    "flow    = FlowSource(name = :flow)\n",
    "cmp     = ThermoCompressor(name = :cmp)\n",
    "reg     = Regenerator(name = :regen)\n",
    "heat    = ThermoHeatSource(name = :heat, Qin = 1e6)\n",
    "trb     = ThermoTurbine(name = :trb)\n",
    "psv     = PassiveElement(name = :psv)\n",
    "\n",
    "eqs = series_connect([psv,flow,cmp])\n",
    "eqs = vcat(eqs,series_connect([heat,trb]))\n",
    "\n",
    "all_connections = vcat(eqs,hx_connect(reg,cmp,heat,trb,psv))\n",
    "all_sys = [flow,cmp,reg,heat,trb,psv]\n",
    "\n",
    "\n",
    "cphe(x) = 5192\n",
    "khe(x) = 1.667\n",
    "propDict = Dict(cpfunc => cphe, kfunc => khe)\n",
    "all_connections\n",
    "\n",
    "# flow.defaults\n",
    "# cmp.defaults\n",
    "# all_connections"
   ]
  },
  {
   "cell_type": "code",
   "execution_count": 40,
   "metadata": {},
   "outputs": [
    {
     "data": {
      "text/plain": [
       "Dict{Any, Any} with 83 entries:\n",
       "  cmp₊n₊T(t)      => 300\n",
       "  regen₊B₊p₊k(t)  => 1.667\n",
       "  trb₊p₊T(t)      => 800\n",
       "  heat₊p₊P(t)     => 10.0\n",
       "  cmp₊n₊cp(t)     => 5192\n",
       "  psv₊p₊ṁ(t)      => 0.0\n",
       "  trb₊p₊P(t)      => 80\n",
       "  cmp₊w₊Ẇ(t)      => 0.0\n",
       "  psv₊p₊P(t)      => 10.0\n",
       "  flow₊p₊P(t)     => 10\n",
       "  heat₊p₊k(t)     => 1.667\n",
       "  regen₊A₊n₊cp(t) => 5192\n",
       "  flow₊T          => 300\n",
       "  heat₊p₊ṁ(t)     => 0.0\n",
       "  regen₊A₊n₊T(t)  => 300\n",
       "  regen₊B₊p₊T(t)  => 300\n",
       "  trb₊n₊P(t)      => 22.8571\n",
       "  psv₊Q̇(t)        => 0.0\n",
       "  cmp₊p₊ṁ(t)      => 0.0\n",
       "  ⋮               => ⋮"
      ]
     },
     "metadata": {},
     "output_type": "display_data"
    }
   ],
   "source": [
    "@named model = ODESystem(all_connections,t; systems = all_sys)\n",
    "model = substitute(model,propDict)\n",
    "odesys = structural_simplify(model)\n",
    "parameters(odesys)\n",
    "odesys.defaults"
   ]
  },
  {
   "cell_type": "code",
   "execution_count": 27,
   "metadata": {},
   "outputs": [
    {
     "data": {
      "text/plain": [
       "\u001b[38;2;86;182;194mODEProblem\u001b[0m with uType \u001b[38;2;86;182;194mVector{Float64}\u001b[0m and tType \u001b[38;2;86;182;194mFloat64\u001b[0m. In-place: \u001b[38;2;86;182;194mtrue\u001b[0m\n",
       "timespan: (0.0, 10.0)\n",
       "u0: 1-element Vector{Float64}:\n",
       " 300.0"
      ]
     },
     "metadata": {},
     "output_type": "display_data"
    }
   ],
   "source": [
    "params = [\n",
    "        flow.T    => 300\n",
    "        flow.P    => 10.0\n",
    "        flow.ṁ    => 10\n",
    "        cmp.rp  => 3.5\n",
    "        cmp.η   => 0.8\n",
    "        reg.ϵ => 0.9\n",
    "        heat.h.Qin => 1e6\n",
    "        trb.rp    => 3.5\n",
    "        trb.η     => 0.9\n",
    "        ]\n",
    "\n",
    "tspan = (0.0,10.0)\n",
    "prob = ODEProblem(odesys,odesys.defaults,tspan,params)\n"
   ]
  },
  {
   "cell_type": "code",
   "execution_count": 30,
   "metadata": {},
   "outputs": [
    {
     "ename": "ArgumentError",
     "evalue": "ArgumentError: p₊T(t) is neither an observed nor a state variable.",
     "output_type": "error",
     "traceback": [
      "ArgumentError: p₊T(t) is neither an observed nor a state variable.\n",
      "\n",
      "Stacktrace:\n",
      " [1] build_explicit_observed_function(sys::ODESystem, ts::SymbolicUtils.BasicSymbolic{Real}; expression::Bool, output_type::Type, checkbounds::Bool, throw::Bool)\n",
      "   @ ModelingToolkit C:\\Users\\harvey\\.julia\\packages\\ModelingToolkit\\FbXPg\\src\\systems\\diffeqs\\odesystem.jl:363\n",
      " [2] #517\n",
      "   @ C:\\Users\\harvey\\.julia\\packages\\ModelingToolkit\\FbXPg\\src\\systems\\diffeqs\\abstractodesystem.jl:355 [inlined]\n",
      " [3] get!(default::ModelingToolkit.var\"#517#529\"{SymbolicUtils.BasicSymbolic{Real}, Bool, ODESystem}, h::Dict{Any, Any}, key::SymbolicUtils.BasicSymbolic{Real})\n",
      "   @ Base .\\dict.jl:481\n",
      " [4] (::ModelingToolkit.var\"#545#generated_observed#528\"{Bool, ODESystem, Dict{Any, Any}})(::SymbolicUtils.BasicSymbolic{Real}, ::Vector{Float64}, ::Vararg{Any})\n",
      "   @ ModelingToolkit C:\\Users\\harvey\\.julia\\packages\\ModelingToolkit\\FbXPg\\src\\systems\\diffeqs\\abstractodesystem.jl:354\n",
      " [5] top-level scope\n",
      "   @ c:\\Users\\harvey\\.julia\\dev\\test\\ThermalSystem_Models.jl\\Notebooks\\mdk_test5.ipynb:4"
     ]
    }
   ],
   "source": [
    "# [println()]\n",
    "# using Printf\n",
    "for s in states(heat)\n",
    "    @printf \"\\t %s = %.2d\\n\" s prob.f.observed(s, prob.u0, prob.p, 10.0)\n",
    "end\n",
    "# @show   prob.f.observed(trb.n.T, prob.u0, prob.p, 10.0)\n",
    "# @show   prob.f.observed(reg.B.p.T, prob.u0, prob.p, 10.0)"
   ]
  },
  {
   "cell_type": "code",
   "execution_count": null,
   "metadata": {},
   "outputs": [],
   "source": [
    "\n",
    "@show win = prob.f.observed(cmp.w.Ẇ, prob.u0, prob.p, 1.0)\n",
    "@show prob.f.observed(cmp.p.T, prob.u0, prob.p, 1.0)\n",
    "@show prob.f.observed(cmp.n.T, prob.u0, prob.p, 1.0)\n",
    "@show qTi = prob.f.observed(heat.p.T, prob.u0, prob.p, 1.0)\n",
    "@show qTo = prob.f.observed(heat.n.T, prob.u0, prob.p, 1.0)\n",
    "@show qin = prob.f.observed(heat.h.Q̇, prob.u0, prob.p, 1.0)\n",
    "@show   twork = prob.f.observed(trb.w.Ẇ, prob.u0, prob.p, 1.0)\n",
    "@show   prob.f.observed(trb.n.T, prob.u0, prob.p, 1.0)\n",
    "@show prob.f.observed(reg.Q̇,prob.u0,prob.p,1.0)\n",
    "# @show  qwst = prob.f.observed(psv.Q̇, prob.u0, prob.p, 9.0)\n",
    "# @show qin + win \n",
    "# @show twork\n",
    "# @show twork + qin + win\n",
    "\n"
   ]
  },
  {
   "cell_type": "code",
   "execution_count": null,
   "metadata": {},
   "outputs": [],
   "source": [
    "\n",
    "mf = FlowSource(name = :mf);\n",
    "cc = ThermoCompressor(name = :cc)\n",
    "qq = ThermoHeat(name = :qq)\n",
    "tt = ThermoTurbine(name = :tt)\n",
    "\n",
    "con = [connect(mf.src,cc.p)\n",
    "        connect(cc.n,qq.p)\n",
    "        connect(qq.n,tt.p)]\n",
    "\n",
    "        \n",
    "@named connected_sys =  NonlinearSystem(con,[],[]; systems = [mf, cc, qq, tt]);\n",
    "# updaded_eq = substitute(equations(expand_connections(connected_sys)))\n",
    "@named newsys = NonlinearSystem(equations(expand_connections(connected_sys)),states(connected_sys),parameters(connected_sys))\n",
    "simple_sys = alias_elimination(newsys)\n",
    "parameters(simple_sys)\n",
    "# states(simple_sys)\n",
    "# showeq(simple_sys)"
   ]
  }
 ],
 "metadata": {
  "kernelspec": {
   "display_name": "Julia 1.8.5",
   "language": "julia",
   "name": "julia-1.8"
  },
  "language_info": {
   "file_extension": ".jl",
   "mimetype": "application/julia",
   "name": "julia",
   "version": "1.8.5"
  },
  "orig_nbformat": 4
 },
 "nbformat": 4,
 "nbformat_minor": 2
}
