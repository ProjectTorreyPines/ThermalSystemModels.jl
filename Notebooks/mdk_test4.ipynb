{
 "cells": [
  {
   "cell_type": "code",
   "execution_count": 1,
   "metadata": {},
   "outputs": [],
   "source": []
  },
  {
   "attachments": {},
   "cell_type": "markdown",
   "metadata": {},
   "source": [
    "## Incompressible liquids\n",
    "### Main Tank\n"
   ]
  },
  {
   "cell_type": "code",
   "execution_count": 39,
   "metadata": {},
   "outputs": [
    {
     "name": "stderr",
     "output_type": "stream",
     "text": [
      "┌ Warning: src contains 0 flow variables, yet 5 regular (non-flow, non-stream, non-input, non-output) variables. This could lead to imbalanced model that are difficult to debug. Consider marking some of the regular variables as input/output variables.\n",
      "└ @ ModelingToolkit C:\\Users\\harvey\\.julia\\packages\\ModelingToolkit\\FbXPg\\src\\systems\\connectors.jl:40\n",
      "┌ Warning: p contains 0 flow variables, yet 5 regular (non-flow, non-stream, non-input, non-output) variables. This could lead to imbalanced model that are difficult to debug. Consider marking some of the regular variables as input/output variables.\n",
      "└ @ ModelingToolkit C:\\Users\\harvey\\.julia\\packages\\ModelingToolkit\\FbXPg\\src\\systems\\connectors.jl:40\n",
      "┌ Warning: n contains 0 flow variables, yet 5 regular (non-flow, non-stream, non-input, non-output) variables. This could lead to imbalanced model that are difficult to debug. Consider marking some of the regular variables as input/output variables.\n",
      "└ @ ModelingToolkit C:\\Users\\harvey\\.julia\\packages\\ModelingToolkit\\FbXPg\\src\\systems\\connectors.jl:40\n",
      "┌ Warning: w contains 0 flow variables, yet 1 regular (non-flow, non-stream, non-input, non-output) variables. This could lead to imbalanced model that are difficult to debug. Consider marking some of the regular variables as input/output variables.\n",
      "└ @ ModelingToolkit C:\\Users\\harvey\\.julia\\packages\\ModelingToolkit\\FbXPg\\src\\systems\\connectors.jl:40\n"
     ]
    },
    {
     "name": "stderr",
     "output_type": "stream",
     "text": [
      "┌ Warning: p contains 0 flow variables, yet 5 regular (non-flow, non-stream, non-input, non-output) variables. This could lead to imbalanced model that are difficult to debug. Consider marking some of the regular variables as input/output variables.\n",
      "└ @ ModelingToolkit C:\\Users\\harvey\\.julia\\packages\\ModelingToolkit\\FbXPg\\src\\systems\\connectors.jl:40\n",
      "┌ Warning: n contains 0 flow variables, yet 5 regular (non-flow, non-stream, non-input, non-output) variables. This could lead to imbalanced model that are difficult to debug. Consider marking some of the regular variables as input/output variables.\n",
      "└ @ ModelingToolkit C:\\Users\\harvey\\.julia\\packages\\ModelingToolkit\\FbXPg\\src\\systems\\connectors.jl:40\n"
     ]
    },
    {
     "name": "stderr",
     "output_type": "stream",
     "text": [
      "┌ Warning: p contains 0 flow variables, yet 5 regular (non-flow, non-stream, non-input, non-output) variables. This could lead to imbalanced model that are difficult to debug. Consider marking some of the regular variables as input/output variables.\n",
      "└ @ ModelingToolkit C:\\Users\\harvey\\.julia\\packages\\ModelingToolkit\\FbXPg\\src\\systems\\connectors.jl:40\n",
      "┌ Warning: n contains 0 flow variables, yet 5 regular (non-flow, non-stream, non-input, non-output) variables. This could lead to imbalanced model that are difficult to debug. Consider marking some of the regular variables as input/output variables.\n",
      "└ @ ModelingToolkit C:\\Users\\harvey\\.julia\\packages\\ModelingToolkit\\FbXPg\\src\\systems\\connectors.jl:40\n",
      "┌ Warning: w contains 0 flow variables, yet 1 regular (non-flow, non-stream, non-input, non-output) variables. This could lead to imbalanced model that are difficult to debug. Consider marking some of the regular variables as input/output variables.\n",
      "└ @ ModelingToolkit C:\\Users\\harvey\\.julia\\packages\\ModelingToolkit\\FbXPg\\src\\systems\\connectors.jl:40\n"
     ]
    },
    {
     "data": {
      "text/plain": [
       "8-element Vector{SymbolicUtils.BasicSymbolic{Real}}:\n",
       " mf₊mflow\n",
       " mf₊P\n",
       " mf₊T\n",
       " cc₊rp\n",
       " cc₊η\n",
       " qq₊h₊Qin\n",
       " tt₊rp\n",
       " tt₊η"
      ]
     },
     "metadata": {},
     "output_type": "display_data"
    }
   ],
   "source": [
    "using ModelingToolkit, Plots, DifferentialEquations, Revise, ModelingToolkitStandardLibrary, Unitful\n",
    "using Symbolics\n",
    "\n",
    "Sym = Symbolics\n",
    "\n",
    "@variables temps\n",
    "@register_symbolic cpfunc(temps)\n",
    "@register_symbolic kfunc(temps)\n",
    "\n",
    "@connector function FlowPin(; name)\n",
    "    sts = @variables P=1.0 ṁ=1.0\n",
    "    ps = @parameters cp k\n",
    "    NonlinearSystem(Equation[],  sts, []; name = name)\n",
    "end\n",
    "\n",
    "@connector function HeatPin(; name)\n",
    "    sts = @variables T=300 Q̇=0.0 [connect = Flow]\n",
    "    NonlinearSystem(Equation[],  sts, []; name = name)\n",
    "end\n",
    "\n",
    "@connector function WorkPin(; name)\n",
    "    sts = @variables Ẇ = 0.0\n",
    "    NonlinearSystem(Equation[], sts, []; name = name)\n",
    "end\n",
    "\n",
    "# convention = +Q = Qin\n",
    "@connector function HeatFlowPin(; name, Qin = 0.0)\n",
    "    sts = @variables Q̇=Qin [input = true]\n",
    "    ps = @parameters Qin = Qin\n",
    "    eqs=[\n",
    "        Q̇ ~ Qin\n",
    "    ]\n",
    "    NonlinearSystem(eqs, sts, ps; name = name)\n",
    "end\n",
    "\n",
    "# convention = +W = Win\n",
    "@connector function WorkPort(; name)\n",
    "    sts = @variables Ẇ = 0.0 [output = true]\n",
    "    NonlinearSystem(Equation[],  sts, []; name = name)\n",
    "end\n",
    "\n",
    "@connector function ThermoPin(; name)\n",
    "    sts = @variables P=1.0 ṁ=1.0 T=293.15 cp k\n",
    "    # ps = @parameters cp k\n",
    "    eq = [\n",
    "        cp ~ cpfunc(T)\n",
    "        k ~ kfunc(T)\n",
    "    ]\n",
    "    NonlinearSystem(eq,  sts, []; name = name)\n",
    "end\n",
    "\n",
    "@component function FlowSource(;name, mflow = 1.0, P = 10, T = 300)\n",
    "    @named src = ThermoPin()\n",
    "    ps = @parameters mflow=mflow P=P T=T\n",
    "    # 0 variables, 3 equations for pin\n",
    "    eqs = [\n",
    "        src.T ~ T\n",
    "        src.P ~ P\n",
    "        src.ṁ ~ mflow\n",
    "    ]\n",
    "    compose(NonlinearSystem(eqs,  [], ps; name = name),src)\n",
    "end\n",
    "\n",
    "@component function ThermoGround(; name)\n",
    "    @named gnd = ThermoPin()\n",
    "    eqs = [gnd.P ~ 0;   gnd.T ~ 273.15]\n",
    "    compose(NonlinearSystem(eqs,  [], []; name = name), gnd)\n",
    "end\n",
    "\n",
    "@component function ThermoHeat(; name)\n",
    "    @named p = ThermoPin()\n",
    "    @named n = ThermoPin()\n",
    "    @named h = HeatFlowPin()\n",
    "    #   0 variables 3 equations for pin\n",
    "    eqs = [\n",
    "        p.ṁ ~ n.ṁ                               # conservation of mass\n",
    "        n.T ~ p.T + h.Q̇/(p.ṁ*p.cp)\n",
    "        n.P ~ p.P\n",
    "    ]\n",
    "    compose(NonlinearSystem(eqs,[],[]; name = name), p,n,h)\n",
    "end\n",
    "\n",
    "@component function ThermoCompressor(; name, η = 1.0, rp = 3.5)\n",
    "    @named p = ThermoPin()\n",
    "    @named n = ThermoPin()\n",
    "    @named w = WorkPin()\n",
    "\n",
    "    ps = @parameters rp = rp η = η\n",
    "    eqs = [\n",
    "        p.ṁ ~ n.ṁ                               # conservation of mass\n",
    "        n.P ~ p.P * rp\n",
    "        n.T ~ p.T * (η + rp^((p.k-1)/p.k)- η*(rp^((p.k-1)/p.k))) / (rp^((p.k-1)/p.k))\n",
    "        w.Ẇ ~ p.ṁ * p.cp * (n.T - p.T)\n",
    "    ]\n",
    "    compose(NonlinearSystem(eqs,[],ps; name = name), p,n,w)\n",
    "end\n",
    "\n",
    "@component function ThermoTurbine(; name, η = 1.0, rp = 3.5)\n",
    "    @named p = ThermoPin()\n",
    "    @named n = ThermoPin()\n",
    "    @named w = WorkPin()\n",
    "\n",
    "    ps = @parameters rp = rp η = η\n",
    "    eqs = [\n",
    "        p.ṁ ~ n.ṁ                               # conservation of mass\n",
    "        n.P ~ p.P * rp\n",
    "        n.T ~ p.T * ((1.0 - η - (rp^((p.k-1)/p.k))) / (-η))\n",
    "        w.Ẇ ~ p.ṁ * p.cp * (n.T - p.T)\n",
    "    ]\n",
    "    compose(NonlinearSystem(eqs,[],ps; name = name), p,n,w)\n",
    "end\n",
    "\n",
    "mf = FlowSource(name = :mf);\n",
    "cc = ThermoCompressor(name = :cc)\n",
    "qq = ThermoHeat(name = :qq)\n",
    "tt = ThermoTurbine(name = :tt)\n",
    "\n",
    "con = [connect(mf.src,cc.p)\n",
    "        connect(cc.n,qq.p)\n",
    "        connect(qq.n,tt.p)]\n",
    "\n",
    "        \n",
    "@named connected_sys =  NonlinearSystem(con,[],[]; systems = [mf, cc, qq, tt]);\n",
    "# updaded_eq = substitute(equations(expand_connections(connected_sys)))\n",
    "@named newsys = NonlinearSystem(equations(expand_connections(connected_sys)),states(connected_sys),parameters(connected_sys))\n",
    "simple_sys = alias_elimination(newsys)\n",
    "parameters(simple_sys)\n",
    "# states(simple_sys)\n",
    "# showeq(simple_sys)"
   ]
  },
  {
   "cell_type": "code",
   "execution_count": 27,
   "metadata": {},
   "outputs": [
    {
     "data": {
      "text/plain": [
       "5-element Vector{Any}:\n",
       " p₊cp\n",
       " p₊k\n",
       " n₊cp\n",
       " n₊k\n",
       " h₊Qin"
      ]
     },
     "metadata": {},
     "output_type": "display_data"
    }
   ],
   "source": [
    "# states(newsys)\n",
    "# ModelingToolkit.get_u0_p(newsys)\n",
    "parameters(qq)"
   ]
  },
  {
   "cell_type": "code",
   "execution_count": 20,
   "metadata": {},
   "outputs": [
    {
     "data": {
      "text/plain": [
       "22-element Vector{SymbolicUtils.BasicSymbolic{Real}}:\n",
       " mf₊mflow\n",
       " mf₊P\n",
       " mf₊T\n",
       " mf₊src₊cp(T)\n",
       " mf₊src₊k(T)\n",
       " cc₊rp\n",
       " cc₊η\n",
       " cc₊p₊cp(T)\n",
       " cc₊p₊k(T)\n",
       " cc₊n₊cp(T)\n",
       " ⋮\n",
       " qq₊n₊cp(T)\n",
       " qq₊n₊k(T)\n",
       " qq₊h₊Qin\n",
       " tt₊rp\n",
       " tt₊η\n",
       " tt₊p₊cp(T)\n",
       " tt₊p₊k(T)\n",
       " tt₊n₊cp(T)\n",
       " tt₊n₊k(T)"
      ]
     },
     "metadata": {},
     "output_type": "display_data"
    }
   ],
   "source": [
    "parameters(newsys)"
   ]
  },
  {
   "cell_type": "code",
   "execution_count": null,
   "metadata": {},
   "outputs": [],
   "source": [
    "parameters(newsys)\n",
    "\n",
    "\n",
    "\n",
    "# p = [mf.mflow => 100\n",
    "#     mf.P => 10\n",
    "#     mf.T => 300\n",
    "#     cc.rp => 3.5\n",
    "#     cc.η => .9\n",
    "#     qq.h.Qin => 10e6\n",
    "#     tt.rp => 3.5\n",
    "#     tt.η => 0.9]\n",
    "\n",
    "showeq(x) = equations(expand_connections(x))\n",
    "eq = showeq(newsys)\n",
    "\n",
    "# get_variables(newsys)\n",
    "# Sym.solve_for(eq,states(newsys))\n",
    "# Symbolics.build_function(equations(newsys),parameters(newsys))\n",
    "# simple_sys = structural_simplify(newsys)\n",
    "# showeq(newsys)\n",
    "# simplify(newsys)\n",
    "# # full_equations(simple_sys)\n",
    "# prob = NonlinearProblem(newsys,[],p)\n",
    "# # solve(simple_sys)\n",
    "# NonlinearSolve(prob)\n",
    "# solve(prob)\n",
    "# states(newsys)\n",
    "\n",
    "# para = parameters(newsys)\n",
    "# stat = states(newsys)\n",
    "\n",
    "# intersect(para,stat)\n",
    "# display(para)\n",
    "# display(stat)\n"
   ]
  }
 ],
 "metadata": {
  "kernelspec": {
   "display_name": "Julia 1.8.5",
   "language": "julia",
   "name": "julia-1.8"
  },
  "language_info": {
   "file_extension": ".jl",
   "mimetype": "application/julia",
   "name": "julia",
   "version": "1.8.5"
  },
  "orig_nbformat": 4
 },
 "nbformat": 4,
 "nbformat_minor": 2
}
