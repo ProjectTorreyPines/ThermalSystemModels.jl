{
 "cells": [
  {
   "cell_type": "code",
   "execution_count": 3,
   "metadata": {},
   "outputs": [
    {
     "data": {
      "text/latex": [
       "$$ \\begin{align}\n",
       "\\end{align}\n",
       " $$"
      ],
      "text/plain": [
       "\u001b[0m\u001b[1mModel sys with 0 \u001b[22m\u001b[0m\u001b[1mequations\u001b[22m\n",
       "\u001b[0m\u001b[1mStates (0):\u001b[22m\n",
       "\u001b[0m\u001b[1mParameters (1):\u001b[22m\n",
       "  vtest₊V [defaults to 1.0]\n",
       "\u001b[35mIncidence matrix:\u001b[39m0×0 SparseArrays.SparseMatrixCSC{Num, Int64} with 0 stored entries"
      ]
     },
     "metadata": {},
     "output_type": "display_data"
    }
   ],
   "source": [
    "using ModelingToolkit, OrdinaryDiffEq, Plots, DifferentialEquations\n",
    "\n",
    "\n",
    "@variables t\n",
    "@connector function Pin(; name)\n",
    "    sts = @variables v(t)=1.0 i(t)=1.0 [connect = Flow]\n",
    "    ODESystem(Equation[], t, sts, []; name = name)\n",
    "end\n",
    "\n",
    "@component function Ground(; name)\n",
    "    @named g = Pin()\n",
    "    eqs = [g.v ~ 0]\n",
    "    compose(ODESystem(eqs, t, [], []; name = name), g)\n",
    "end\n",
    "\n",
    "@component function OnePort(; name)\n",
    "    @named p = Pin()\n",
    "    @named n = Pin()\n",
    "    sts = @variables v(t)=1.0 i(t)=1.0\n",
    "    eqs = [v ~ p.v - n.v\n",
    "           0 ~ p.i + n.i\n",
    "           i ~ p.i]\n",
    "    compose(ODESystem(eqs, t, sts, []; name = name), p, n)\n",
    "end\n",
    "@component function ConstantVoltage(; name, V = 1.0)\n",
    "    @named oneport = OnePort()\n",
    "    @unpack v = oneport\n",
    "    ps = @parameters V = V\n",
    "    eqs = [\n",
    "        V ~ v,\n",
    "    ]\n",
    "    extend(ODESystem(eqs, t, [], ps; name = name), oneport)\n",
    "end\n",
    "\n",
    "@named vtest = ConstantVoltage()\n",
    "@named g = Ground()\n",
    "con = connect(g.g,vtest.n)\n",
    "@named sys = ODESystem(con,t; systems = [vtest,g])\n",
    "structural_simplify(sys)\n"
   ]
  },
  {
   "cell_type": "code",
   "execution_count": 9,
   "metadata": {},
   "outputs": [
    {
     "data": {
      "text/latex": [
       "$$ \\begin{align}\n",
       "mtest_{+}v\\left( t \\right) =&  - mtest_{+}n_{+}v\\left( t \\right) + mtest_{+}p_{+}v\\left( t \\right) \\\\\n",
       "0 =& mtest_{+}n_{+}i\\left( t \\right) + mtest_{+}p_{+}i\\left( t \\right) \\\\\n",
       "mtest_{+}i\\left( t \\right) =& mtest_{+}p_{+}i\\left( t \\right) \\\\\n",
       "mtest_{+}V =& mtest_{+}v\\left( t \\right) \\\\\n",
       "g_{+}g_{+}v\\left( t \\right) =& 0 \\\\\n",
       "g_{+}g_{+}v\\left( t \\right) =& mtest_{+}n_{+}v\\left( t \\right) \\\\\n",
       "0 =& g_{+}g_{+}i\\left( t \\right) + mtest_{+}n_{+}i\\left( t \\right) \\\\\n",
       "mtest_{+}p_{+}v\\left( t \\right) =& fr_{+}p_{+}v\\left( t \\right) \\\\\n",
       "0 =& fr_{+}p_{+}i\\left( t \\right) + mtest_{+}p_{+}i\\left( t \\right)\n",
       "\\end{align}\n",
       " $$"
      ],
      "text/plain": [
       "9-element Vector{Equation}:\n",
       " mtest₊v(t) ~ mtest₊p₊v(t) - mtest₊n₊v(t)\n",
       " 0 ~ mtest₊n₊i(t) + mtest₊p₊i(t)\n",
       " mtest₊i(t) ~ mtest₊p₊i(t)\n",
       " mtest₊V ~ mtest₊v(t)\n",
       " g₊g₊v(t) ~ 0\n",
       " g₊g₊v(t) ~ mtest₊n₊v(t)\n",
       " 0 ~ g₊g₊i(t) + mtest₊n₊i(t)\n",
       " mtest₊p₊v(t) ~ fr₊p₊v(t)\n",
       " 0 ~ fr₊p₊i(t) + mtest₊p₊i(t)"
      ]
     },
     "metadata": {},
     "output_type": "display_data"
    }
   ],
   "source": [
    "showeq(x) = equations(expand_connections(x))\n",
    "@component function Resistor(; name, R = 1.0)\n",
    "    @named oneport = OnePort()\n",
    "    @unpack v, i = oneport\n",
    "    ps = @parameters R = R\n",
    "    eqs = [\n",
    "        v ~ i * R,\n",
    "    ]\n",
    "    extend(ODESystem(eqs, t, [], ps; name = name), oneport)\n",
    "end\n",
    "\n",
    "@named mtest = ConstantVoltage()\n",
    "@named g = Ground()\n",
    "@named fr = Resistor()\n",
    "con = [connect(g.g,mtest.n)\n",
    "        connect(mtest.p,fr.p)]\n",
    "\n",
    "@named sys = ODESystem(con,t; systems = [mtest,g])\n",
    "structural_simplify(sys)\n",
    "showeq(sys)"
   ]
  },
  {
   "cell_type": "code",
   "execution_count": 12,
   "metadata": {},
   "outputs": [
    {
     "data": {
      "text/latex": [
       "$$ \\begin{align}\n",
       "\\frac{\\mathrm{d} capacitor_{+}v\\left( t \\right)}{\\mathrm{d}t} =& \\frac{capacitor_{+}i\\left( t \\right)}{capacitor_{+}C}\n",
       "\\end{align}\n",
       " $$"
      ],
      "text/plain": [
       "\u001b[0m\u001b[1mModel rc_model with 1 \u001b[22m\u001b[0m\u001b[1mequations\u001b[22m\n",
       "\u001b[0m\u001b[1mStates (1):\u001b[22m\n",
       "  capacitor₊v(t) [defaults to 1.0]\n",
       "\u001b[0m\u001b[1mParameters (3):\u001b[22m\n",
       "  resistor₊R [defaults to 1.0]\n",
       "  capacitor₊C [defaults to 1.0]\n",
       "  source₊V [defaults to 1.0]\n",
       "\u001b[35mIncidence matrix:\u001b[39m1×2 SparseArrays.SparseMatrixCSC{Num, Int64} with 2 stored entries:\n",
       " ×  ×"
      ]
     },
     "metadata": {},
     "output_type": "display_data"
    }
   ],
   "source": [
    "\n",
    "@component function Capacitor(; name, C = 1.0)\n",
    "    @named oneport = OnePort()\n",
    "    @unpack v, i = oneport\n",
    "    ps = @parameters C = C\n",
    "    D = Differential(t)\n",
    "    eqs = [\n",
    "        D(v) ~ i / C,\n",
    "    ]\n",
    "    extend(ODESystem(eqs, t, [], ps; name = name), oneport)\n",
    "end\n",
    "\n",
    "@component function ConstantVoltage(; name, V = 1.0)\n",
    "    @named oneport = OnePort()\n",
    "    @unpack v = oneport\n",
    "    ps = @parameters V = V\n",
    "    eqs = [\n",
    "        V ~ v,\n",
    "    ]\n",
    "    extend(ODESystem(eqs, t, [], ps; name = name), oneport)\n",
    "end\n",
    "\n",
    "R = 1.0\n",
    "C = 1.0\n",
    "V = 1.0\n",
    "@named resistor = Resistor(R = R)\n",
    "@named capacitor = Capacitor(C = C)\n",
    "@named source = ConstantVoltage(V = V)\n",
    "@named ground = Ground()\n",
    "\n",
    "rc_eqs = [connect(source.p, resistor.p)\n",
    "          connect(resistor.n, capacitor.p)\n",
    "          connect(capacitor.n, source.n)\n",
    "          connect(capacitor.n, ground.g)]\n",
    "\n",
    "@named _rc_model = ODESystem(rc_eqs, t)\n",
    "@named rc_model = compose(_rc_model,\n",
    "                          [resistor, capacitor, source, ground])\n",
    "sys = structural_simplify(rc_model)\n",
    "# u0 = [\n",
    "#     capacitor.v => 0.0,\n",
    "# ]\n",
    "# prob = ODAEProblem(sys, u0, (0, 10.0))\n",
    "# sol = solve(prob, Tsit5())\n",
    "# plot(sol)\n"
   ]
  },
  {
   "cell_type": "code",
   "execution_count": 192,
   "metadata": {},
   "outputs": [
    {
     "name": "stderr",
     "output_type": "stream",
     "text": [
      "┌ Warning: fp contains 1 flow variables, yet 2 regular (non-flow, non-stream, non-input, non-output) variables. This could lead to imbalanced model that are difficult to debug. Consider marking some of the regular variables as input/output variables.\n",
      "└ @ ModelingToolkit C:\\Users\\harvey\\.julia\\packages\\ModelingToolkit\\FbXPg\\src\\systems\\connectors.jl:40\n",
      "┌ Warning: fn contains 1 flow variables, yet 2 regular (non-flow, non-stream, non-input, non-output) variables. This could lead to imbalanced model that are difficult to debug. Consider marking some of the regular variables as input/output variables.\n",
      "└ @ ModelingToolkit C:\\Users\\harvey\\.julia\\packages\\ModelingToolkit\\FbXPg\\src\\systems\\connectors.jl:40\n"
     ]
    },
    {
     "ename": "SingularException",
     "evalue": "SingularException(1)",
     "output_type": "error",
     "traceback": [
      "SingularException(1)\n",
      "\n",
      "Stacktrace:\n",
      " [1] checknonsingular\n",
      "   @ C:\\Users\\harvey\\.julia\\juliaup\\julia-1.8.5+0.x64.w64.mingw32\\share\\julia\\stdlib\\v1.8\\LinearAlgebra\\src\\factorization.jl:19 [inlined]\n",
      " [2] checknonsingular\n",
      "   @ C:\\Users\\harvey\\.julia\\juliaup\\julia-1.8.5+0.x64.w64.mingw32\\share\\julia\\stdlib\\v1.8\\LinearAlgebra\\src\\factorization.jl:21 [inlined]\n",
      " [3] sym_lu(A::Matrix{Num}; check::Bool)\n",
      "   @ Symbolics C:\\Users\\harvey\\.julia\\packages\\Symbolics\\3jLt1\\src\\linear_algebra.jl:49\n",
      " [4] sym_lu\n",
      "   @ C:\\Users\\harvey\\.julia\\packages\\Symbolics\\3jLt1\\src\\linear_algebra.jl:11 [inlined]\n",
      " [5] _solve(A::Matrix{Num}, b::Vector{Num}, do_simplify::Bool)\n",
      "   @ Symbolics C:\\Users\\harvey\\.julia\\packages\\Symbolics\\3jLt1\\src\\linear_algebra.jl:121\n",
      " [6] solve_for(eq::Vector{Equation}, var::Vector{Num}; simplify::Bool, check::Bool)\n",
      "   @ Symbolics C:\\Users\\harvey\\.julia\\packages\\Symbolics\\3jLt1\\src\\linear_algebra.jl:104\n",
      " [7] solve_for(eq::Vector{Equation}, var::Vector{Num})\n",
      "   @ Symbolics C:\\Users\\harvey\\.julia\\packages\\Symbolics\\3jLt1\\src\\linear_algebra.jl:96\n",
      " [8] top-level scope\n",
      "   @ c:\\Users\\harvey\\.julia\\dev\\test\\ThermalSystem_Models.jl\\Notebooks\\mdk_test2.ipynb:38"
     ]
    }
   ],
   "source": [
    "using ModelingToolkit, OrdinaryDiffEq, Plots, DifferentialEquations\n",
    "\n",
    "@connector function FlowPin(; name)\n",
    "    sts = @variables T(t)=300.0 P(t)=20.0 ṁ(t)=1.0 [connect = Flow]\n",
    "    ODESystem(Equation[], t, sts, []; name = name)\n",
    "end\n",
    "\n",
    "@component function FlowPort(; name)\n",
    "    @named fp = FlowPin()\n",
    "    @named fn = FlowPin()\n",
    "    sts = @variables T(t) = 1.0 P(t)=1.0 ṁ(t)=1.0\n",
    "    eqs = [T ~ fp.T - fn.T\n",
    "            P ~ fp.P - fn.P\n",
    "            0 ~ fp.ṁ - fn.ṁ\n",
    "            ṁ ~ fp.ṁ]\n",
    "    compose(ODESystem(eqs, t, sts, []; name = name), fp, fn)\n",
    "end\n",
    "\n",
    "\n",
    "@component function compx(; name, rp = 3.5, cp = 5192.0,η = 0.9, k = 1.667)\n",
    "    @named flowport = FlowPort()\n",
    "    @unpack T,P,fp  = flowport\n",
    "    ps = @parameters CR = rp η = η cp = cp k =k\n",
    "    sts = @variables Ẇ(t)\n",
    "    eqs = [\n",
    "        P ~ fp.P * (rp - 1),\n",
    "        T ~ fp.T * ((-1 + η + rp^((k-1)/k))/η + 1),\n",
    "        Ẇ ~ fp.ṁ * cp * T\n",
    "    ]\n",
    "    extend(ODESystem(eqs, t, sts, ps; name = name), flowport)\n",
    "end\n",
    "\n"
   ]
  },
  {
   "cell_type": "code",
   "execution_count": null,
   "metadata": {},
   "outputs": [],
   "source": [
    "\n",
    "par = @parameters rp η k cp\n",
    "# sts = @variables Tin(t) [input = true] Pin(t) [input = true] ΔT(t) ΔP(t) ṁ(t) [input = true] Ẇ(t)\n",
    "@variables t\n",
    "D = Differential(t)\n",
    "\n",
    "State  = @variables Mcv(t) Ecv(t) # change in mass, change in Energy\n",
    "Input  = @variables ṁ_i(t) Q̇(t) T_i(t) P_i(t)\n",
    "output = @variables ṁ_o(t) Ẇ(t) T_o(t) P_o(t)\n",
    "\n",
    "@named CVodesys = ODESystem(eqs,t, [Mcv,Ecv],[])\n",
    "# @named odeprob = ODAEProblem(odesys,u0,tspan = (0.0,10.0), par)\n",
    "\n",
    "states(odesys)\n",
    "# parameters(odesys)\n",
    "# get_variables(odesys)\n",
    "# equations(odesys)\n",
    "u = [ṁ_i, Q̇_i, h_i]\n",
    "y = [ṁ_o, Ẇ_o, h_o]\n",
    "\n",
    "Teqs = [\n",
    "    Q̇_i ~ 0,\n",
    "    Ẇ_o ~ ṁ_o * h_o - ṁ_i * h_i];\n",
    "    # h_o ~ h_i *((-1 + η + rp^((k-1)/k))/η)]\n",
    "\n",
    "\n",
    "alleq = vcat(eqs,Teqs)\n",
    "\n",
    "\n",
    "using Symbolics\n",
    "Symbolics.solve_for(alleq, y)\n",
    "# @show structural_simplify(tsys)\n",
    "# matrices, simplified_sys = linearize(tsys,u,y) # Linearize from r to y\n",
    "# states(odesys)"
   ]
  }
 ],
 "metadata": {
  "kernelspec": {
   "display_name": "Julia 1.8.5",
   "language": "julia",
   "name": "julia-1.8"
  },
  "language_info": {
   "file_extension": ".jl",
   "mimetype": "application/julia",
   "name": "julia",
   "version": "1.8.5"
  },
  "orig_nbformat": 4
 },
 "nbformat": 4,
 "nbformat_minor": 2
}
