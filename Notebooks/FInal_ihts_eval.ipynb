{
 "cells": [
  {
   "cell_type": "code",
   "execution_count": 1,
   "metadata": {},
   "outputs": [],
   "source": [
    "using Plots\n",
    "using LinearAlgebra\n",
    "\n"
   ]
  },
  {
   "attachments": {},
   "cell_type": "markdown",
   "metadata": {},
   "source": [
    "# TURBINE"
   ]
  },
  {
   "cell_type": "code",
   "execution_count": 2,
   "metadata": {},
   "outputs": [
    {
     "name": "stdout",
     "output_type": "stream",
     "text": [
      "simplify(T2a / T1) = (η + rp^kcoeff - η*(rp^kcoeff)) / (rp^kcoeff)\n"
     ]
    },
    {
     "data": {
      "text/latex": [
       "$$ \\begin{equation}\n",
       "\\frac{\\eta + rp^{kcoeff} - rp^{kcoeff} \\eta}{rp^{kcoeff}}\n",
       "\\end{equation}\n",
       " $$"
      ],
      "text/plain": [
       "(η + rp^kcoeff - η*(rp^kcoeff)) / (rp^kcoeff)"
      ]
     },
     "metadata": {},
     "output_type": "display_data"
    }
   ],
   "source": [
    "using Symbolics\n",
    "@variables T1 rp cp cv η Nt kcoeff eta_c\n",
    "T2s = T1/(rp^kcoeff)\n",
    "T2a = T1 - η * (T1-T2s)\n",
    "@show simplify(T2a / T1)\n"
   ]
  },
  {
   "cell_type": "code",
   "execution_count": 3,
   "metadata": {},
   "outputs": [
    {
     "name": "stdout",
     "output_type": "stream",
     "text": [
      "simplify(T2ac / T1) = (η + rp^kcoeff - 1.0) / η\n"
     ]
    },
    {
     "data": {
      "text/latex": [
       "$$ \\begin{equation}\n",
       "\\frac{-1 + \\eta + rp^{kcoeff}}{\\eta}\n",
       "\\end{equation}\n",
       " $$"
      ],
      "text/plain": [
       "(η + rp^kcoeff - 1.0) / η"
      ]
     },
     "metadata": {},
     "output_type": "display_data"
    }
   ],
   "source": [
    "\n",
    "T2sc = T1*rp^kcoeff;\n",
    "T2ac = T1+(T2sc-T1)/η\n",
    "@show simplify(T2ac/T1)\n"
   ]
  },
  {
   "cell_type": "code",
   "execution_count": 24,
   "metadata": {},
   "outputs": [
    {
     "name": "stdout",
     "output_type": "stream",
     "text": [
      "expand(expand(Tmin_blk)) = Tmax_blk + (Tci*hx_eff_blk - Tmax_blk*hx_eff_blk) / X\n",
      "q_fus_blk = cp_blk*(Tmax_blk - ac_blk*(Tmax_blk + (-hx_eff_blk*(Tmax_blk - Tci)) / X))\n",
      "pump_blk = cp_blk*(ac_blk*(Tmax_blk + (-hx_eff_blk*(Tmax_blk - Tci)) / X) + (hx_eff_blk*(Tmax_blk - Tci)) / X - Tmax_blk)\n",
      "q_del_blk = cp_cycle*hx_eff_blk*(Tmax_blk - Tci)\n",
      "qd_blk = (cp_blk*hx_eff_blk*(Tmax_blk - Tci)) / X\n",
      "Tci_d = Tci + hx_eff_blk*(Tmax_blk - Tci)\n",
      "Tmin_div = Tmax_div + (-hx_eff_div*(Tmax_div - Tci - hx_eff_blk*(Tmax_blk - Tci))) / Y\n",
      "q_fus_div = cp_div*(Tmax_div - ac_div*(Tmax_div + (-hx_eff_div*(Tmax_div - Tci - hx_eff_blk*(Tmax_blk - Tci))) / Y))\n",
      "pump_div = cp_div*(ac_div*(Tmax_div + (-hx_eff_div*(Tmax_div - Tci - hx_eff_blk*(Tmax_blk - Tci))) / Y) + (hx_eff_div*(Tmax_div - Tci - hx_eff_blk*(Tmax_blk - Tci))) / Y - Tmax_div)\n",
      "q_del_div = cp_cycle*hx_eff_div*(Tmax_div - Tci - hx_eff_blk*(Tmax_blk - Tci))\n",
      "qd_div = (cp_div*hx_eff_div*(Tmax_div - Tci - hx_eff_blk*(Tmax_blk - Tci))) / Y\n",
      "Tco_cycle_div = Tci + hx_eff_blk*(Tmax_blk - Tci) + hx_eff_div*(Tmax_div - Tci - hx_eff_blk*(Tmax_blk - Tci))\n",
      "mflow_blk = Pblk / (cp_blk*(Tmax_blk - ac_blk*(Tmax_blk + (-hx_eff_blk*(Tmax_blk - Tci)) / X)))\n",
      "mflow_div = Pdiv / (cp_div*(Tmax_div - ac_div*(Tmax_div + (-hx_eff_div*(Tmax_div - Tci - hx_eff_blk*(Tmax_blk - Tci))) / Y)))\n",
      "expr_blk = (Pblk / (cp_blk*(Tmax_blk - ac_blk*(Tmax_blk + (-hx_eff_blk*(Tmax_blk - Tci)) / X)))) / X\n",
      "expr_div = (Pdiv / (cp_div*(Tmax_div - ac_div*(Tmax_div + (-hx_eff_div*(Tmax_div - Tci - hx_eff_blk*(Tmax_blk - Tci))) / Y)))) / Y\n"
     ]
    },
    {
     "data": {
      "text/latex": [
       "$$ \\begin{equation}\n",
       "\\frac{\\frac{Pdiv}{cp_{div} \\left( Tmax_{div} - ac_{div} \\left( Tmax_{div} + \\frac{ - hx_{eff\\_div} \\left( Tmax_{div} - Tci - hx_{eff\\_blk} \\left( Tmax_{blk} - Tci \\right) \\right)}{Y} \\right) \\right)}}{Y}\n",
       "\\end{equation}\n",
       " $$"
      ],
      "text/plain": [
       "(Pdiv / (cp_div*(Tmax_div - ac_div*(Tmax_div + (-hx_eff_div*(Tmax_div - Tci - hx_eff_blk*(Tmax_blk - Tci))) / Y)))) / Y"
      ]
     },
     "execution_count": 24,
     "metadata": {},
     "output_type": "execute_result"
    }
   ],
   "source": [
    "using Symbolics\n",
    "# cycle assumptions\n",
    "@variables Tci cp_cycle Pdiv Pblk cycle_mflow\n",
    "#blanket variables\n",
    "@variables Tmax_blk cp_blk ac_blk hx_eff_blk X \n",
    "@variables Tmax_div cp_div ac_div hx_eff_div Y\n",
    "\n",
    "print_for_copy = true\n",
    "\n",
    "\n",
    "blk_ΔT_bhx  = (1/X)*(Tmax_blk - Tci) * hx_eff_blk\n",
    "cyc_ΔT_bhx  = (Tmax_blk-Tci) * hx_eff_blk\n",
    "Tmin_blk    = Tmax_blk - blk_ΔT_bhx\n",
    "Tin_blk     = Tmin_blk*ac_blk\n",
    "q_fus_blk   = cp_blk * (Tmax_blk - Tin_blk)\n",
    "pump_blk    = cp_blk * (Tin_blk-Tmin_blk)\n",
    "q_del_blk   = cp_cycle * cyc_ΔT_bhx             # cycle sidew\n",
    "qd_blk      = cp_blk   * blk_ΔT_bhx             # blanket side\n",
    "\n",
    "Tci_d       = Tci + cyc_ΔT_bhx\n",
    "div_ΔT_dhx  = (1/Y)*(Tmax_div - Tci_d) * hx_eff_div\n",
    "cyc_ΔT_dhx  = (Tmax_div - Tci_d) * hx_eff_div\n",
    "Tmin_div    = Tmax_div - div_ΔT_dhx\n",
    "Tin_div     = Tmin_div * ac_div\n",
    "pump_div    = cp_div *(Tin_div-Tmin_div)\n",
    "q_fus_div   = cp_div * (Tmax_div - Tin_div)\n",
    "q_del_div   = cp_cycle * cyc_ΔT_dhx\n",
    "qd_div      = cp_div * div_ΔT_dhx\n",
    "\n",
    "mflow_b = cycle_mflow * X\n",
    "mflow_d = cycle_mflow * Y \n",
    "# blk_expr = Symbolics.solve_for([q_del_blk * cycle_mflow - qd_blk * mflow_b ~ 0 , q_del_div * cycle_mflow - qd_div * mflow_d ~ 0],[X, Y])\n",
    "mflow_div = Pdiv/q_fus_div\n",
    "mflow_blk = Pblk/q_fus_blk\n",
    "expr_blk = Symbolics.solve_for([cycle_mflow * X - mflow_blk ~ 0],cycle_mflow)\n",
    "expr_div = Symbolics.solve_for([cycle_mflow * Y - mflow_div ~ 0],cycle_mflow)\n",
    "\n",
    "Tco_cycle_div = Tci_d + cyc_ΔT_dhx\n",
    "\n",
    "if print_for_copy\n",
    "    @show expand(expand(Tmin_blk))\n",
    "    @show q_fus_blk\n",
    "    @show pump_blk\n",
    "    @show q_del_blk\n",
    "    @show qd_blk\n",
    "\n",
    "    @show Tci_d\n",
    "\n",
    "    @show Tmin_div\n",
    "    @show q_fus_div\n",
    "    @show pump_div\n",
    "    @show q_del_div\n",
    "    @show qd_div\n",
    "    @show Tco_cycle_div\n",
    "    @show mflow_blk\n",
    "    @show mflow_div\n",
    "\n",
    "    @show expr_blk\n",
    "    @show expr_div\n",
    "end\n"
   ]
  },
  {
   "cell_type": "code",
   "execution_count": 23,
   "metadata": {},
   "outputs": [
    {
     "data": {
      "text/plain": [
       "\"if Z > 1\""
      ]
     },
     "metadata": {},
     "output_type": "display_data"
    },
    {
     "ename": "LoadError",
     "evalue": "AssertionError: islinear",
     "output_type": "error",
     "traceback": [
      "AssertionError: islinear",
      "",
      "Stacktrace:",
      " [1] solve_for(eq::Vector{Equation}, var::Vector{Num}; simplify::Bool, check::Bool)",
      "   @ Symbolics C:\\Users\\harvey\\.julia\\packages\\Symbolics\\UrqtQ\\src\\linear_algebra.jl:100",
      " [2] solve_for(eq::Vector{Equation}, var::Vector{Num})",
      "   @ Symbolics C:\\Users\\harvey\\.julia\\packages\\Symbolics\\UrqtQ\\src\\linear_algebra.jl:96",
      " [3] top-level scope",
      "   @ In[23]:39",
      " [4] eval",
      "   @ .\\boot.jl:368 [inlined]",
      " [5] include_string(mapexpr::typeof(REPL.softscope), mod::Module, code::String, filename::String)",
      "   @ Base .\\loading.jl:1428"
     ]
    }
   ],
   "source": [
    "using Symbolics\n",
    "# regen and turbine\n",
    "@variables eff_regen Tmax_cycle Trci Trco Trho Trhi aturb cp_cycle cycle_mflow\n",
    "#breeder props\n",
    "@variables Tmax_br cp_br hx_eff_br Z v_br DP_br eta_pump P_br\n",
    "\n",
    "print_for_copy = true\n",
    "\n",
    "# Z = mcp_breeder / mcp_cycle\n",
    "\n",
    "#preliminaries\n",
    "win_br          = DP_br * v_br / eta_pump;\n",
    "ΔT_pump_br      = (win_br - v_br * DP_br)/cp_br;\n",
    "\n",
    "\n",
    "Trhi = aturb * Tmax_cycle       #turbine outlet\n",
    "# Trci = Tco_cycle_div          #after divertor hx\n",
    "\n",
    "ΔT_regen = eff_regen * (Trhi - Trci)    #temp chance\n",
    "Trco    = Trci + ΔT_regen               # regen outlet temp\n",
    "Trho    = Trhi - ΔT_regen\n",
    "@variables C_br C_cyc\n",
    "# C_cyc   = mflow_cycle * cp_cycle\n",
    "# C_br    = mflow_breeder * cp_br\n",
    "Cmin = min(C_br,C_cyc)\n",
    "\n",
    "display(\"if Z > 1\")\n",
    "# ΔT_hx_br    = Cmin/C_br  * (Tmax_br - Trco) * hx_eff_br\n",
    "# ΔT_hx_cyc   = Cmin/C_cyc * (Tmax_br - Trco) * hx_eff_br\n",
    "ΔT_hx_br    = (1/Z)  * (Tmax_br - Trco) * hx_eff_br\n",
    "ΔT_hx_cyc   = (Tmax_br - Trco) * hx_eff_br\n",
    "\n",
    "Tmax_cycle  = Trco  + ΔT_hx_cyc\n",
    "Tmin_br     = Tmax_br - ΔT_hx_br\n",
    "Tin_br      = Tmin_br + ΔT_pump_br\n",
    "q_fus_br    = cp_br * (Tmax_br - Tin_br)\n",
    "mflow_br    = P_br/q_fus_br\n",
    "expr_br    = Symbolics.solve_for([cycle_mflow * cp_cycle * Z - mflow_br * cp_br ~ 0],cycle_mflow)\n",
    "xy_from_breeder = Symbolics.solve_for([expr_br - expr_blk ~ 0, expr_br ~ expr_div = 0],[X, Y])\n",
    "\n",
    "\n",
    "\n",
    "if print_for_copy\n",
    "    println(\"Trhi     = @(Z) $(Trhi)\")\n",
    "    println(\"Trco     = @(Z) $(Trco)\")\n",
    "    println(\"Trho     = @(Z) $(Trho)\")\n",
    "    println(\"Tmax_cycle     = @(Z) $(Tmax_cycle)\")\n",
    "    println(\"Tmin_br  = @(Z) $(Tmin_br)\")\n",
    "    println(\"Tin_br   = @(Z) $(Tin_br)\")\n",
    "    println(\"q_fus_br = @(Z) $(q_fus_br)\")\n",
    "    println(\"mflow_br = @(Z) $(mflow_br)\")\n",
    "    println(\"expr_br  = @(Z) $(expr_br)\")\n",
    "end\n",
    "\n",
    "display(\"if Z < 1\")\n",
    "ΔT_hx_br    = (Tmax_br - Trco) * hx_eff_br\n",
    "ΔT_hx_cyc   = Z*(Tmax_br - Trco) * hx_eff_br\n",
    "\n",
    "Tmax_cycle  = Trco  + ΔT_hx_cyc\n",
    "Tmin_br     = Tmax_br - ΔT_hx_br\n",
    "Tin_br      = Tmin_br + ΔT_pump_br\n",
    "q_fus_br    = cp_br * (Tmax_br - Tin_br)\n",
    "mflow_br    = P_br/q_fus_br\n",
    "expr_br    = Symbolics.solve_for([cycle_mflow * cp_cycle * Z - mflow_br * cp_br ~ 0],cycle_mflow)\n",
    "\n",
    "if print_for_copy\n",
    "    println(\"Trhi     = @(Z) $(Trhi)\")\n",
    "    println(\"Trco     = @(Z) $(Trco)\")\n",
    "    println(\"Trho     = @(Z) $(Trho)\")\n",
    "    println(\"Tmax_cycle = @(Z) $(Tmax_cycle)\")\n",
    "    println(\"Tmin_br  = @(Z) $(Tmin_br)\")\n",
    "    println(\"Tin_br   = @(Z) $(Tin_br)\")\n",
    "    println(\"q_fus_br = @(Z) $(q_fus_br)\")\n",
    "    println(\"mflow_br = @(Z) $(mflow_br)\")\n",
    "    println(\"expr_br  = @(Z) $(expr_br)\")\n",
    "end"
   ]
  },
  {
   "cell_type": "code",
   "execution_count": null,
   "metadata": {},
   "outputs": [],
   "source": []
  }
 ],
 "metadata": {
  "kernelspec": {
   "display_name": "Julia 1.8.5",
   "language": "julia",
   "name": "julia-1.8"
  },
  "language_info": {
   "file_extension": ".jl",
   "mimetype": "application/julia",
   "name": "julia",
   "version": "1.8.5"
  },
  "orig_nbformat": 4,
  "vscode": {
   "interpreter": {
    "hash": "e59906e6498c42036d0d83d64d6a2caad89db3ae5c04188415a915882f91ee66"
   }
  }
 },
 "nbformat": 4,
 "nbformat_minor": 2
}
