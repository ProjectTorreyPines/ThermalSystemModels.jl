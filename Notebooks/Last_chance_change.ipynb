{
 "cells": [
  {
   "attachments": {},
   "cell_type": "markdown",
   "metadata": {},
   "source": [
    "### Using Symbolics"
   ]
  },
  {
   "attachments": {},
   "cell_type": "markdown",
   "metadata": {},
   "source": [
    "#####   Dependents"
   ]
  },
  {
   "cell_type": "code",
   "execution_count": 3,
   "metadata": {},
   "outputs": [],
   "source": [
    "using Symbolics, SymbolicUtils"
   ]
  },
  {
   "attachments": {},
   "cell_type": "markdown",
   "metadata": {},
   "source": [
    "#### First test\n",
    "Generalized Work equation\n",
    "\n",
    "dQ = PdE\n",
    "\n",
    "Q = Generalized Work (+ = Increase in internal energy, ie work into the system)"
   ]
  },
  {
   "cell_type": "code",
   "execution_count": 4,
   "metadata": {},
   "outputs": [
    {
     "ename": "ErrorException",
     "evalue": "Sym m(t) is not callable. Use @syms m(t)(var1, var2,...) to create it as a callable.",
     "output_type": "error",
     "traceback": [
      "Sym m(t) is not callable. Use @syms m(t)(var1, var2,...) to create it as a callable.\n",
      "\n",
      "Stacktrace:\n",
      " [1] error(s::String)\n",
      "   @ Base .\\error.jl:35\n",
      " [2] (::SymbolicUtils.BasicSymbolic{Real})(args::SymbolicUtils.BasicSymbolic{Real})\n",
      "   @ SymbolicUtils C:\\Users\\harvey\\.julia\\packages\\SymbolicUtils\\H684H\\src\\types.jl:882\n",
      " [3] (::Num)(args::Num)\n",
      "   @ Symbolics C:\\Users\\harvey\\.julia\\packages\\Symbolics\\bYtrk\\src\\num.jl:19\n",
      " [4] top-level scope\n",
      "   @ c:\\Users\\harvey\\.julia\\dev\\Thermal_Models\\Last_chance_change.ipynb:2"
     ]
    }
   ],
   "source": [
    "\n"
   ]
  }
 ],
 "metadata": {
  "kernelspec": {
   "display_name": "Julia 1.8.5",
   "language": "julia",
   "name": "julia-1.8"
  },
  "language_info": {
   "file_extension": ".jl",
   "mimetype": "application/julia",
   "name": "julia",
   "version": "1.8.5"
  },
  "orig_nbformat": 4
 },
 "nbformat": 4,
 "nbformat_minor": 2
}
