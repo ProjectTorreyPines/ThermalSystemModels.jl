{
 "cells": [
  {
   "attachments": {},
   "cell_type": "markdown",
   "metadata": {},
   "source": [
    "### Using Symbolics"
   ]
  },
  {
   "attachments": {},
   "cell_type": "markdown",
   "metadata": {},
   "source": [
    "#####   Dependents"
   ]
  },
  {
   "cell_type": "code",
   "execution_count": null,
   "metadata": {},
   "outputs": [],
   "source": [
    "using Symbolics, SymbolicUtils"
   ]
  },
  {
   "attachments": {},
   "cell_type": "markdown",
   "metadata": {},
   "source": [
    "### Using symbolics to generate system matrix\n",
    "First we will look at a turbine"
   ]
  },
  {
   "cell_type": "code",
   "execution_count": null,
   "metadata": {},
   "outputs": [],
   "source": [
    "#   State variables\n",
    "@variables Ti Pi ṁi To Po ṁo Ẇo \n",
    "\n",
    "#   Component parameters, assuming cp = constant (implies that k is also constant)\n",
    "#   For consistency, Im assuming that rp is in the format Pmax/Pmin (P1/P2)\n",
    "@variables rp k cp η_isen cp\n",
    "\n",
    "equations = [\n",
    "    ṁi ~ ṁo,\n",
    "    Po ~ rp * Pi,\n",
    "    To ~ Ti - η_isen * Ti * (1 - (1/rp) ^ ((k-1)/k)),\n",
    "    Ẇo ~ ṁo * cp * To - ṁi * cp * Ti]"
   ]
  },
  {
   "cell_type": "code",
   "execution_count": null,
   "metadata": {},
   "outputs": [],
   "source": [
    "# Symbolics.build_function(equations, [ṁi, Ti, Pi, rp, k, η_isen, cp])\n",
    "uknowns = [ṁo, Po, To, Ẇo]\n",
    "Symbolics.solve_for(equations, uknowns)\n",
    "\n"
   ]
  },
  {
   "attachments": {},
   "cell_type": "markdown",
   "metadata": {},
   "source": [
    "## More general case, \n",
    "#### What happens if we create a universal control volume system of equations and symbolically simplify based on the component\n",
    "#### What are the state variable required?"
   ]
  },
  {
   "cell_type": "code",
   "execution_count": null,
   "metadata": {},
   "outputs": [],
   "source": [
    "#   Universal SISO CV so we account for:\n",
    "#       Time: D =  d/dt\n",
    "@variables t\n",
    "D = Symbolics.Differential(t)\n",
    "\n",
    "#   Energy of the control volume\n",
    "@variables ΔE_cv\n",
    "Ė_cv = D(ΔE_cv)\n",
    "\n",
    "# Energy Balance Terms\n",
    "#   Thermal         \n",
    "#       Qh, Heat transfered in from Source @ Th\n",
    "#       Qc, Heat transfered to a Source @ Tc\n",
    "@variables Qh Qc Th Tc\n",
    "#   Sign convention, Qnet = Qin\n",
    "Q = Qh - Qc\n",
    "Q̇ = D(Q)\n",
    "\n",
    "#   Work Terms\n",
    "@variables Wout Win\n",
    "#   Sign convention, W = Wout - Win\n",
    "W = Wout - Win\n",
    "Ẇ = D(W)\n",
    "\n",
    "#   Mass and Mass Flow Rate\n",
    "@variables ΔM_cv m_i m_o          # mass in mass_out\n",
    "ṁ_i = D(m_i)\n",
    "ṁ_o = D(m_o)\n",
    "M_bal = ΔM_cv ~ m_i - m_o\n",
    "Ṁ_bal = D(ΔM_cv) ~ ṁ_i - ṁ_o\n",
    "\n",
    "#   Kinetic Energy\n",
    "@variables V_i V_o  ΔKE ΔKĖ # velocity\n",
    "KE_bal = ΔKE ~ (m_i * V_i^2/2 - m_o * V_o^2/2)\n",
    "KĖ_bal = ΔKĖ ~ (ṁ_i * V_i^2/2 - ṁ_o * V_o^2/2)\n",
    "\n",
    "#   Potential Energy\n",
    "@variables  gz_o  gz_i  ΔPE ΔPĖ # velocity\n",
    "PE_bal = ΔPE ~ (m_i * gz_i - m_o * gz_o)\n",
    "PĖ_bal = ΔPĖ ~ (ṁ_i * gz_i - ṁ_o * gz_o)\n",
    "\n",
    "#   Internal Energy Flow Work\n",
    "@variables u_i P_i v_i u_o P_o v_o ΔH ΔḢ\n",
    "h_bal = ΔH ~ m_i * (u_i + P_i * v_i) - m_o * (u_o + P_o * v_o)\n",
    "ḣ_bal = ΔḢ ~ ṁ_o * (u_i + P_i * v_i) - ṁ_o * (u_o + P_o * v_o)\n",
    "\n",
    "#   Component parameters, assuming cp = constant (implies that k is also constant)\n",
    "#   For consistency, Im assuming that rp is in the format Pmax/Pmin (P1/P2)\n",
    "\n",
    "# Unsteady Energy Balance\n",
    "energy_eq = [\n",
    "    M_bal,\n",
    "    KE_bal,\n",
    "    PE_bal,\n",
    "    h_bal,\n",
    "    ΔE_cv ~ Q - W + ΔH + ΔKE + ΔPE,\n",
    "    Ṁ_bal,\n",
    "    KĖ_bal,\n",
    "    PĖ_bal,\n",
    "    ḣ_bal,\n",
    "    Ė_cv ~ Q̇ - Ẇ + ΔḢ + ΔKĖ + ΔPĖ\n",
    "]\n",
    "\n",
    "\n",
    "# second law\n",
    "@variables s_i s_o S_gen ΔS_cv \n",
    "Ṡ_cv = D(ΔS_cv)\n",
    "Ṡ_gen = D(S_gen)\n",
    "\n",
    "entropy_eq = [\n",
    "    ΔS_cv ~ S_gen + Qh/Th + m_i * s_i - m_o * s_o - Qc/Tc\n",
    "    Ṡ_cv ~ Ṡ_gen + D(Qh)/Th - D(Qc)/Tc + ṁ_i * s_i - ṁ_o * s_o]\n",
    "\n",
    "CV_equations = vcat(energy_eq,entropy_eq)"
   ]
  },
  {
   "attachments": {},
   "cell_type": "markdown",
   "metadata": {},
   "source": [
    "### Lets see if we can use those to work back to turbine equations"
   ]
  },
  {
   "cell_type": "code",
   "execution_count": null,
   "metadata": {},
   "outputs": [],
   "source": [
    "#   State variables\n",
    "@variables T_i T_o\n",
    "\n",
    "#   Component parameters, assuming cp = constant (implies that k is also constant)\n",
    "#   For consistency, Im assuming that rp is in the format Pmax/Pmin (P1/P2)\n",
    "@variables rp η_isen cp cv\n",
    "R = cp - cv\n",
    "k = cp + cv\n",
    "\n",
    "ideal_gas_eq = [\n",
    "    v_i ~ R*T_i/P_i,\n",
    "    v_o ~ R*T_o/P_o,\n",
    "    u_i - u_o ~ cv * (T_i - T_o)]\n",
    "\n",
    "\n",
    "turbine_equations = [\n",
    "    ṁ_i ~ ṁ_o,\n",
    "    P_o ~ rp * P_i,\n",
    "    T_o ~ T_i - η_isen * T_i * (1 - (1/rp) ^ ((k-1)/k)),\n",
    "    Ẇ ~ ṁ_o * cp * T_o - ṁ_i * cp * T_i,\n",
    "    Win ~ 0,\n",
    "    V_i - V_o ~ 0,\n",
    "    gz_i - gz_o ~ 0,\n",
    "    Qh ~ 0,\n",
    "    Qc ~ 0,\n",
    "    ]\n",
    "\n",
    "turb_cv = vcat(CV_equations,turbine_equations, ideal_gas_eq)\n",
    "\n",
    "uknowns = [ṁ_o,T_o, P_o, u_o, Ẇ, Ė_cv]\n",
    "knowns = [u_i; T_i;P_i; v_i; gz_i; V_i; cp; cv; ṁ_i; s_i]\n",
    "# Symbolics.solve_for(turb_cv, uknowns)\n",
    "# Symbolics.solve_for(turb_cv,uknowns)\n",
    "# Symbolics.simplify(turb_cv)\n",
    "# display(turb_cv[1])\n"
   ]
  },
  {
   "cell_type": "code",
   "execution_count": null,
   "metadata": {},
   "outputs": [],
   "source": [
    "ideal_gas_dict = Dict(\n",
    "    v_i => R*T_i/P_i,\n",
    "    v_o => R*T_o/P_o,\n",
    "    u_o => cv  * T_o,\n",
    "    u_i => cv * T_i)\n",
    "\n",
    "to_zero = Dict(\n",
    "    Qh => 0, \n",
    "    Qc => 0, \n",
    "    Win => 0)\n",
    "\n",
    "\n",
    "stead_flow_dict = Dict(\n",
    "    M_bal.lhs => 0,\n",
    "    Ṁ_bal.lhs => 0\n",
    ")\n",
    "\n",
    "NO_KE = Dict(\n",
    "    KE_bal.lhs => 0,\n",
    "    KĖ_bal.lhs =>0\n",
    ")\n",
    "\n",
    "NO_PE = Dict(\n",
    "    PE_bal.lhs => 0,\n",
    "    PĖ_bal.lhs => 0\n",
    ")\n",
    "\n",
    "turb_relations = [\n",
    "    P_o ~ rp * P_i,\n",
    "    T_o ~ T_i - η_isen * T_i * (1 - (P_o/P_i) ^ ((k-1)/k)),\n",
    "    Ẇ ~ ṁ_o * cp * T_o - ṁ_i * cp * T_i,\n",
    "    Ṡ_gen ~ Ẇ * (1/η_isen-1)\n",
    "]\n",
    "\n",
    "Turb = vcat(CV_equations,turb_relations)\n",
    "\n",
    "# simplify(substitute(substitute(CV_equations, ideal_gas_dict,), to_zero,))\n",
    "# test_dict = Dict(ΔPE => 0, ΔKE => 0, ΔM_cv =>0)\n",
    "test_dict = Dict((gz_i - gz_o) => 0, (ṁ_i - ṁ_o) => 0)\n",
    "Turb = simplify(substitute(Turb,NO_KE,))\n",
    "Turb = simplify(substitute(Turb,NO_PE,))\n",
    "Turb = simplify(substitute(Turb,stead_flow_dict,))\n",
    "Turb = simplify(substitute(Turb,ideal_gas_dict,))\n",
    "Turb = simplify(substitute(Turb,to_zero,))\n",
    "\n",
    "\n",
    "# uknowns = [ṁ_o,T_o, P_o, u_o, Ẇ, Ė_cv]\n",
    "# knowns = [m_i;ṁ_i; V_i; T_i; P_i; gz_i; V_i; cp; cv; ṁ_i; s_i];\n"
   ]
  },
  {
   "attachments": {},
   "cell_type": "markdown",
   "metadata": {},
   "source": [
    "#### TRANSIENT DYNAMICS"
   ]
  },
  {
   "cell_type": "code",
   "execution_count": null,
   "metadata": {},
   "outputs": [],
   "source": [
    "using DifferentialEquations\n",
    "function vessel!(dvt,x,t,p)  \n",
    "    #q,qf,Tf)\n",
    "#   Inputs\n",
    "#   qf = inlet flow rate (m3/s)\n",
    "#   q  = outlet flow rate m3/s_i\n",
    "#   Tf = inlet temperature\n",
    "\n",
    "    q = p[1]\n",
    "    qf = p[2]\n",
    "    Tf = p[3]\n",
    "\n",
    "    V = x[1]\n",
    "    T = x[2]\n",
    "\n",
    "    dvt[1] = (qf - q)   #volume\n",
    "    dvt[2] = (qf*Tf-q*T)/V - T*dVdt/V\n",
    "end\n"
   ]
  },
  {
   "cell_type": "code",
   "execution_count": null,
   "metadata": {},
   "outputs": [],
   "source": [
    "\n",
    "V0 = 1.0\n",
    "T0 = 35\n",
    "y0 = [V0,T0]\n",
    "\n",
    "time = LinRange(0,10,100)  # time vector\n",
    "qf = vcat(ones(50)*5.2, ones(50)*5.1)\n",
    "qout = 5.0*ones(100)\n",
    "\n",
    "\n",
    "refvec = ones(100)\n",
    "Tf = refvec .* 300\n",
    "Tf[70:end] .= 325\n",
    "\n",
    "Vol = refvec .* V0\n",
    "Temp = refvec .* T0\n",
    "\n",
    "for (idx,t) in enumerate(time)\n",
    "\n",
    "    if idx == length(time)\n",
    "        return\n",
    "    end\n",
    "    \n",
    "    params = [qout[idx],qf[idx],Tf[idx]]\n",
    "    ts = (time[idx],time[idx+1])\n",
    "\n",
    "    prob = ODEProblem(vessel!,y0,ts,params)\n",
    "    sol = solve(prob,Tsit5())\n",
    "    Vol[idx+1]  = sol[1]\n",
    "    Temp[idx+1] = sol[2]\n",
    "\n",
    "    y0 .= sol\n",
    "end\n",
    "\n",
    "data = hcat(t,qf,q,Tf,V,T)\n",
    "\n",
    "\n"
   ]
  },
  {
   "cell_type": "code",
   "execution_count": 137,
   "metadata": {},
   "outputs": [
    {
     "data": {
      "image/png": "[encoded data removed]",
      "image/svg+xml": [
       "<?xml version=\"1.0\" encoding=\"utf-8\"?>\n",
       "<svg xmlns=\"http://www.w3.org/2000/svg\" xmlns:xlink=\"http://www.w3.org/1999/xlink\" width=\"600\" height=\"400\" viewBox=\"0 0 2400 1600\">\n",
       "<defs>\n",
       "  <clipPath id=\"clip350\">\n",
       "    <rect x=\"0\" y=\"0\" width=\"2400\" height=\"1600\"/>\n",
       "  </clipPath>\n",
       "</defs>\n",
       "<path clip-path=\"url(#clip350)\" d=\"M0 1600 L2400 1600 L2400 0 L0 0  Z\" fill=\"#ffffff\" fill-rule=\"evenodd\" fill-opacity=\"1\"/>\n",
       "<defs>\n",
       "  <clipPath id=\"clip351\">\n",
       "    <rect x=\"480\" y=\"0\" width=\"1681\" height=\"1600\"/>\n",
       "  </clipPath>\n",
       "</defs>\n",
       "<path clip-path=\"url(#clip350)\" d=\"M170.719 1423.18 L2352.76 1423.18 L2352.76 47.2441 L170.719 47.2441  Z\" fill=\"#ffffff\" fill-rule=\"evenodd\" fill-opacity=\"1\"/>\n",
       "<defs>\n",
       "  <clipPath id=\"clip352\">\n",
       "    <rect x=\"170\" y=\"47\" width=\"2183\" height=\"1377\"/>\n",
       "  </clipPath>\n",
       "</defs>\n",
       "<polyline clip-path=\"url(#clip352)\" style=\"stroke:#000000; stroke-linecap:round; stroke-linejoin:round; stroke-width:2; stroke-opacity:0.1; fill:none\" points=\"170.719,1423.18 170.719,47.2441 \"/>\n",
       "<polyline clip-path=\"url(#clip352)\" style=\"stroke:#000000; stroke-linecap:round; stroke-linejoin:round; stroke-width:2; stroke-opacity:0.1; fill:none\" points=\"607.126,1423.18 607.126,47.2441 \"/>\n",
       "<polyline clip-path=\"url(#clip352)\" style=\"stroke:#000000; stroke-linecap:round; stroke-linejoin:round; stroke-width:2; stroke-opacity:0.1; fill:none\" points=\"1043.53,1423.18 1043.53,47.2441 \"/>\n",
       "<polyline clip-path=\"url(#clip352)\" style=\"stroke:#000000; stroke-linecap:round; stroke-linejoin:round; stroke-width:2; stroke-opacity:0.1; fill:none\" points=\"1479.94,1423.18 1479.94,47.2441 \"/>\n",
       "<polyline clip-path=\"url(#clip352)\" style=\"stroke:#000000; stroke-linecap:round; stroke-linejoin:round; stroke-width:2; stroke-opacity:0.1; fill:none\" points=\"1916.35,1423.18 1916.35,47.2441 \"/>\n",
       "<polyline clip-path=\"url(#clip352)\" style=\"stroke:#000000; stroke-linecap:round; stroke-linejoin:round; stroke-width:2; stroke-opacity:0.1; fill:none\" points=\"2352.76,1423.18 2352.76,47.2441 \"/>\n",
       "<polyline clip-path=\"url(#clip350)\" style=\"stroke:#000000; stroke-linecap:round; stroke-linejoin:round; stroke-width:4; stroke-opacity:1; fill:none\" points=\"170.719,1423.18 2352.76,1423.18 \"/>\n",
       "<polyline clip-path=\"url(#clip350)\" style=\"stroke:#000000; stroke-linecap:round; stroke-linejoin:round; stroke-width:4; stroke-opacity:1; fill:none\" points=\"170.719,1423.18 170.719,1404.28 \"/>\n",
       "<polyline clip-path=\"url(#clip350)\" style=\"stroke:#000000; stroke-linecap:round; stroke-linejoin:round; stroke-width:4; stroke-opacity:1; fill:none\" points=\"607.126,1423.18 607.126,1404.28 \"/>\n",
       "<polyline clip-path=\"url(#clip350)\" style=\"stroke:#000000; stroke-linecap:round; stroke-linejoin:round; stroke-width:4; stroke-opacity:1; fill:none\" points=\"1043.53,1423.18 1043.53,1404.28 \"/>\n",
       "<polyline clip-path=\"url(#clip350)\" style=\"stroke:#000000; stroke-linecap:round; stroke-linejoin:round; stroke-width:4; stroke-opacity:1; fill:none\" points=\"1479.94,1423.18 1479.94,1404.28 \"/>\n",
       "<polyline clip-path=\"url(#clip350)\" style=\"stroke:#000000; stroke-linecap:round; stroke-linejoin:round; stroke-width:4; stroke-opacity:1; fill:none\" points=\"1916.35,1423.18 1916.35,1404.28 \"/>\n",
       "<polyline clip-path=\"url(#clip350)\" style=\"stroke:#000000; stroke-linecap:round; stroke-linejoin:round; stroke-width:4; stroke-opacity:1; fill:none\" points=\"2352.76,1423.18 2352.76,1404.28 \"/>\n",
       "<path clip-path=\"url(#clip350)\" d=\"M170.719 1454.1 Q167.107 1454.1 165.279 1457.66 Q163.473 1461.2 163.473 1468.33 Q163.473 1475.44 165.279 1479.01 Q167.107 1482.55 170.719 1482.55 Q174.353 1482.55 176.158 1479.01 Q177.987 1475.44 177.987 1468.33 Q177.987 1461.2 176.158 1457.66 Q174.353 1454.1 170.719 1454.1 M170.719 1450.39 Q176.529 1450.39 179.584 1455 Q182.663 1459.58 182.663 1468.33 Q182.663 1477.06 179.584 1481.67 Q176.529 1486.25 170.719 1486.25 Q164.908 1486.25 161.83 1481.67 Q158.774 1477.06 158.774 1468.33 Q158.774 1459.58 161.83 1455 Q164.908 1450.39 170.719 1450.39 Z\" fill=\"#000000\" fill-rule=\"nonzero\" fill-opacity=\"1\" /><path clip-path=\"url(#clip350)\" d=\"M601.779 1481.64 L618.098 1481.64 L618.098 1485.58 L596.154 1485.58 L596.154 1481.64 Q598.816 1478.89 603.399 1474.26 Q608.006 1469.61 609.186 1468.27 Q611.432 1465.74 612.311 1464.01 Q613.214 1462.25 613.214 1460.56 Q613.214 1457.8 611.27 1456.07 Q609.348 1454.33 606.246 1454.33 Q604.047 1454.33 601.594 1455.09 Q599.163 1455.86 596.385 1457.41 L596.385 1452.69 Q599.209 1451.55 601.663 1450.97 Q604.117 1450.39 606.154 1450.39 Q611.524 1450.39 614.719 1453.08 Q617.913 1455.77 617.913 1460.26 Q617.913 1462.39 617.103 1464.31 Q616.316 1466.2 614.209 1468.8 Q613.631 1469.47 610.529 1472.69 Q607.427 1475.88 601.779 1481.64 Z\" fill=\"#000000\" fill-rule=\"nonzero\" fill-opacity=\"1\" /><path clip-path=\"url(#clip350)\" d=\"M1046.54 1455.09 L1034.74 1473.54 L1046.54 1473.54 L1046.54 1455.09 M1045.32 1451.02 L1051.2 1451.02 L1051.2 1473.54 L1056.13 1473.54 L1056.13 1477.43 L1051.2 1477.43 L1051.2 1485.58 L1046.54 1485.58 L1046.54 1477.43 L1030.94 1477.43 L1030.94 1472.92 L1045.32 1451.02 Z\" fill=\"#000000\" fill-rule=\"nonzero\" fill-opacity=\"1\" /><path clip-path=\"url(#clip350)\" d=\"M1480.35 1466.44 Q1477.2 1466.44 1475.35 1468.59 Q1473.52 1470.74 1473.52 1474.49 Q1473.52 1478.22 1475.35 1480.39 Q1477.2 1482.55 1480.35 1482.55 Q1483.49 1482.55 1485.32 1480.39 Q1487.17 1478.22 1487.17 1474.49 Q1487.17 1470.74 1485.32 1468.59 Q1483.49 1466.44 1480.35 1466.44 M1489.63 1451.78 L1489.63 1456.04 Q1487.87 1455.21 1486.06 1454.77 Q1484.28 1454.33 1482.52 1454.33 Q1477.89 1454.33 1475.44 1457.45 Q1473.01 1460.58 1472.66 1466.9 Q1474.03 1464.89 1476.09 1463.82 Q1478.15 1462.73 1480.62 1462.73 Q1485.83 1462.73 1488.84 1465.9 Q1491.87 1469.05 1491.87 1474.49 Q1491.87 1479.82 1488.73 1483.03 Q1485.58 1486.25 1480.35 1486.25 Q1474.35 1486.25 1471.18 1481.67 Q1468.01 1477.06 1468.01 1468.33 Q1468.01 1460.14 1471.9 1455.28 Q1475.79 1450.39 1482.34 1450.39 Q1484.1 1450.39 1485.88 1450.74 Q1487.68 1451.09 1489.63 1451.78 Z\" fill=\"#000000\" fill-rule=\"nonzero\" fill-opacity=\"1\" /><path clip-path=\"url(#clip350)\" d=\"M1916.35 1469.17 Q1913.02 1469.17 1911.09 1470.95 Q1909.2 1472.73 1909.2 1475.86 Q1909.2 1478.98 1911.09 1480.77 Q1913.02 1482.55 1916.35 1482.55 Q1919.68 1482.55 1921.6 1480.77 Q1923.52 1478.96 1923.52 1475.86 Q1923.52 1472.73 1921.6 1470.95 Q1919.7 1469.17 1916.35 1469.17 M1911.67 1467.18 Q1908.66 1466.44 1906.97 1464.38 Q1905.31 1462.32 1905.31 1459.35 Q1905.31 1455.21 1908.25 1452.8 Q1911.21 1450.39 1916.35 1450.39 Q1921.51 1450.39 1924.45 1452.8 Q1927.39 1455.21 1927.39 1459.35 Q1927.39 1462.32 1925.7 1464.38 Q1924.03 1466.44 1921.05 1467.18 Q1924.43 1467.96 1926.3 1470.26 Q1928.2 1472.55 1928.2 1475.86 Q1928.2 1480.88 1925.12 1483.57 Q1922.07 1486.25 1916.35 1486.25 Q1910.63 1486.25 1907.55 1483.57 Q1904.5 1480.88 1904.5 1475.86 Q1904.5 1472.55 1906.39 1470.26 Q1908.29 1467.96 1911.67 1467.18 M1909.96 1459.79 Q1909.96 1462.48 1911.63 1463.98 Q1913.32 1465.49 1916.35 1465.49 Q1919.36 1465.49 1921.05 1463.98 Q1922.76 1462.48 1922.76 1459.79 Q1922.76 1457.11 1921.05 1455.6 Q1919.36 1454.1 1916.35 1454.1 Q1913.32 1454.1 1911.63 1455.6 Q1909.96 1457.11 1909.96 1459.79 Z\" fill=\"#000000\" fill-rule=\"nonzero\" fill-opacity=\"1\" /><path clip-path=\"url(#clip350)\" d=\"M2327.44 1481.64 L2335.08 1481.64 L2335.08 1455.28 L2326.77 1456.95 L2326.77 1452.69 L2335.04 1451.02 L2339.71 1451.02 L2339.71 1481.64 L2347.35 1481.64 L2347.35 1485.58 L2327.44 1485.58 L2327.44 1481.64 Z\" fill=\"#000000\" fill-rule=\"nonzero\" fill-opacity=\"1\" /><path clip-path=\"url(#clip350)\" d=\"M2366.8 1454.1 Q2363.18 1454.1 2361.36 1457.66 Q2359.55 1461.2 2359.55 1468.33 Q2359.55 1475.44 2361.36 1479.01 Q2363.18 1482.55 2366.8 1482.55 Q2370.43 1482.55 2372.23 1479.01 Q2374.06 1475.44 2374.06 1468.33 Q2374.06 1461.2 2372.23 1457.66 Q2370.43 1454.1 2366.8 1454.1 M2366.8 1450.39 Q2372.61 1450.39 2375.66 1455 Q2378.74 1459.58 2378.74 1468.33 Q2378.74 1477.06 2375.66 1481.67 Q2372.61 1486.25 2366.8 1486.25 Q2360.99 1486.25 2357.91 1481.67 Q2354.85 1477.06 2354.85 1468.33 Q2354.85 1459.58 2357.91 1455 Q2360.99 1450.39 2366.8 1450.39 Z\" fill=\"#000000\" fill-rule=\"nonzero\" fill-opacity=\"1\" /><path clip-path=\"url(#clip350)\" d=\"M1260.8 1522.27 L1260.8 1532.4 L1272.86 1532.4 L1272.86 1536.95 L1260.8 1536.95 L1260.8 1556.3 Q1260.8 1560.66 1261.98 1561.9 Q1263.19 1563.14 1266.85 1563.14 L1272.86 1563.14 L1272.86 1568.04 L1266.85 1568.04 Q1260.07 1568.04 1257.49 1565.53 Q1254.91 1562.98 1254.91 1556.3 L1254.91 1536.95 L1250.61 1536.95 L1250.61 1532.4 L1254.91 1532.4 L1254.91 1522.27 L1260.8 1522.27 Z\" fill=\"#000000\" fill-rule=\"nonzero\" fill-opacity=\"1\" /><polyline clip-path=\"url(#clip352)\" style=\"stroke:#000000; stroke-linecap:round; stroke-linejoin:round; stroke-width:2; stroke-opacity:0.1; fill:none\" points=\"170.719,1299.12 2352.76,1299.12 \"/>\n",
       "<polyline clip-path=\"url(#clip352)\" style=\"stroke:#000000; stroke-linecap:round; stroke-linejoin:round; stroke-width:2; stroke-opacity:0.1; fill:none\" points=\"170.719,1065.59 2352.76,1065.59 \"/>\n",
       "<polyline clip-path=\"url(#clip352)\" style=\"stroke:#000000; stroke-linecap:round; stroke-linejoin:round; stroke-width:2; stroke-opacity:0.1; fill:none\" points=\"170.719,832.058 2352.76,832.058 \"/>\n",
       "<polyline clip-path=\"url(#clip352)\" style=\"stroke:#000000; stroke-linecap:round; stroke-linejoin:round; stroke-width:2; stroke-opacity:0.1; fill:none\" points=\"170.719,598.526 2352.76,598.526 \"/>\n",
       "<polyline clip-path=\"url(#clip352)\" style=\"stroke:#000000; stroke-linecap:round; stroke-linejoin:round; stroke-width:2; stroke-opacity:0.1; fill:none\" points=\"170.719,364.994 2352.76,364.994 \"/>\n",
       "<polyline clip-path=\"url(#clip352)\" style=\"stroke:#000000; stroke-linecap:round; stroke-linejoin:round; stroke-width:2; stroke-opacity:0.1; fill:none\" points=\"170.719,131.461 2352.76,131.461 \"/>\n",
       "<polyline clip-path=\"url(#clip350)\" style=\"stroke:#000000; stroke-linecap:round; stroke-linejoin:round; stroke-width:4; stroke-opacity:1; fill:none\" points=\"170.719,1423.18 170.719,47.2441 \"/>\n",
       "<polyline clip-path=\"url(#clip350)\" style=\"stroke:#000000; stroke-linecap:round; stroke-linejoin:round; stroke-width:4; stroke-opacity:1; fill:none\" points=\"170.719,1299.12 189.616,1299.12 \"/>\n",
       "<polyline clip-path=\"url(#clip350)\" style=\"stroke:#000000; stroke-linecap:round; stroke-linejoin:round; stroke-width:4; stroke-opacity:1; fill:none\" points=\"170.719,1065.59 189.616,1065.59 \"/>\n",
       "<polyline clip-path=\"url(#clip350)\" style=\"stroke:#000000; stroke-linecap:round; stroke-linejoin:round; stroke-width:4; stroke-opacity:1; fill:none\" points=\"170.719,832.058 189.616,832.058 \"/>\n",
       "<polyline clip-path=\"url(#clip350)\" style=\"stroke:#000000; stroke-linecap:round; stroke-linejoin:round; stroke-width:4; stroke-opacity:1; fill:none\" points=\"170.719,598.526 189.616,598.526 \"/>\n",
       "<polyline clip-path=\"url(#clip350)\" style=\"stroke:#000000; stroke-linecap:round; stroke-linejoin:round; stroke-width:4; stroke-opacity:1; fill:none\" points=\"170.719,364.994 189.616,364.994 \"/>\n",
       "<polyline clip-path=\"url(#clip350)\" style=\"stroke:#000000; stroke-linecap:round; stroke-linejoin:round; stroke-width:4; stroke-opacity:1; fill:none\" points=\"170.719,131.461 189.616,131.461 \"/>\n",
       "<path clip-path=\"url(#clip350)\" d=\"M66.617 1297.77 Q69.9735 1298.49 71.8485 1300.75 Q73.7466 1303.02 73.7466 1306.36 Q73.7466 1311.47 70.2281 1314.27 Q66.7096 1317.07 60.2282 1317.07 Q58.0523 1317.07 55.7375 1316.63 Q53.4458 1316.22 50.9921 1315.36 L50.9921 1310.85 Q52.9366 1311.98 55.2514 1312.56 Q57.5662 1313.14 60.0893 1313.14 Q64.4874 1313.14 66.7791 1311.4 Q69.0939 1309.67 69.0939 1306.36 Q69.0939 1303.3 66.9411 1301.59 Q64.8115 1299.85 60.9921 1299.85 L56.9643 1299.85 L56.9643 1296.01 L61.1773 1296.01 Q64.6263 1296.01 66.455 1294.64 Q68.2837 1293.25 68.2837 1290.66 Q68.2837 1288 66.3856 1286.59 Q64.5106 1285.15 60.9921 1285.15 Q59.0708 1285.15 56.8717 1285.57 Q54.6727 1285.99 52.0338 1286.87 L52.0338 1282.7 Q54.6958 1281.96 57.0106 1281.59 Q59.3486 1281.22 61.4087 1281.22 Q66.7328 1281.22 69.8346 1283.65 Q72.9365 1286.06 72.9365 1290.18 Q72.9365 1293.05 71.2929 1295.04 Q69.6494 1297 66.617 1297.77 Z\" fill=\"#000000\" fill-rule=\"nonzero\" fill-opacity=\"1\" /><path clip-path=\"url(#clip350)\" d=\"M92.6123 1284.92 Q89.0012 1284.92 87.1725 1288.49 Q85.3669 1292.03 85.3669 1299.16 Q85.3669 1306.26 87.1725 1309.83 Q89.0012 1313.37 92.6123 1313.37 Q96.2465 1313.37 98.0521 1309.83 Q99.8808 1306.26 99.8808 1299.16 Q99.8808 1292.03 98.0521 1288.49 Q96.2465 1284.92 92.6123 1284.92 M92.6123 1281.22 Q98.4224 1281.22 101.478 1285.82 Q104.557 1290.41 104.557 1299.16 Q104.557 1307.88 101.478 1312.49 Q98.4224 1317.07 92.6123 1317.07 Q86.8021 1317.07 83.7234 1312.49 Q80.6679 1307.88 80.6679 1299.16 Q80.6679 1290.41 83.7234 1285.82 Q86.8021 1281.22 92.6123 1281.22 Z\" fill=\"#000000\" fill-rule=\"nonzero\" fill-opacity=\"1\" /><path clip-path=\"url(#clip350)\" d=\"M122.774 1284.92 Q119.163 1284.92 117.334 1288.49 Q115.529 1292.03 115.529 1299.16 Q115.529 1306.26 117.334 1309.83 Q119.163 1313.37 122.774 1313.37 Q126.408 1313.37 128.214 1309.83 Q130.043 1306.26 130.043 1299.16 Q130.043 1292.03 128.214 1288.49 Q126.408 1284.92 122.774 1284.92 M122.774 1281.22 Q128.584 1281.22 131.64 1285.82 Q134.719 1290.41 134.719 1299.16 Q134.719 1307.88 131.64 1312.49 Q128.584 1317.07 122.774 1317.07 Q116.964 1317.07 113.885 1312.49 Q110.83 1307.88 110.83 1299.16 Q110.83 1290.41 113.885 1285.82 Q116.964 1281.22 122.774 1281.22 Z\" fill=\"#000000\" fill-rule=\"nonzero\" fill-opacity=\"1\" /><path clip-path=\"url(#clip350)\" d=\"M66.617 1064.24 Q69.9735 1064.95 71.8485 1067.22 Q73.7466 1069.49 73.7466 1072.82 Q73.7466 1077.94 70.2281 1080.74 Q66.7096 1083.54 60.2282 1083.54 Q58.0523 1083.54 55.7375 1083.1 Q53.4458 1082.69 50.9921 1081.83 L50.9921 1077.32 Q52.9366 1078.45 55.2514 1079.03 Q57.5662 1079.61 60.0893 1079.61 Q64.4874 1079.61 66.7791 1077.87 Q69.0939 1076.13 69.0939 1072.82 Q69.0939 1069.77 66.9411 1068.06 Q64.8115 1066.32 60.9921 1066.32 L56.9643 1066.32 L56.9643 1062.48 L61.1773 1062.48 Q64.6263 1062.48 66.455 1061.11 Q68.2837 1059.72 68.2837 1057.13 Q68.2837 1054.47 66.3856 1053.06 Q64.5106 1051.62 60.9921 1051.62 Q59.0708 1051.62 56.8717 1052.04 Q54.6727 1052.45 52.0338 1053.33 L52.0338 1049.17 Q54.6958 1048.43 57.0106 1048.06 Q59.3486 1047.69 61.4087 1047.69 Q66.7328 1047.69 69.8346 1050.12 Q72.9365 1052.52 72.9365 1056.64 Q72.9365 1059.51 71.2929 1061.51 Q69.6494 1063.47 66.617 1064.24 Z\" fill=\"#000000\" fill-rule=\"nonzero\" fill-opacity=\"1\" /><path clip-path=\"url(#clip350)\" d=\"M83.4225 1078.94 L91.0614 1078.94 L91.0614 1052.57 L82.7512 1054.24 L82.7512 1049.98 L91.0151 1048.31 L95.691 1048.31 L95.691 1078.94 L103.33 1078.94 L103.33 1082.87 L83.4225 1082.87 L83.4225 1078.94 Z\" fill=\"#000000\" fill-rule=\"nonzero\" fill-opacity=\"1\" /><path clip-path=\"url(#clip350)\" d=\"M122.774 1051.39 Q119.163 1051.39 117.334 1054.95 Q115.529 1058.5 115.529 1065.63 Q115.529 1072.73 117.334 1076.3 Q119.163 1079.84 122.774 1079.84 Q126.408 1079.84 128.214 1076.3 Q130.043 1072.73 130.043 1065.63 Q130.043 1058.5 128.214 1054.95 Q126.408 1051.39 122.774 1051.39 M122.774 1047.69 Q128.584 1047.69 131.64 1052.29 Q134.719 1056.88 134.719 1065.63 Q134.719 1074.35 131.64 1078.96 Q128.584 1083.54 122.774 1083.54 Q116.964 1083.54 113.885 1078.96 Q110.83 1074.35 110.83 1065.63 Q110.83 1056.88 113.885 1052.29 Q116.964 1047.69 122.774 1047.69 Z\" fill=\"#000000\" fill-rule=\"nonzero\" fill-opacity=\"1\" /><path clip-path=\"url(#clip350)\" d=\"M66.617 830.704 Q69.9735 831.422 71.8485 833.69 Q73.7466 835.959 73.7466 839.292 Q73.7466 844.408 70.2281 847.209 Q66.7096 850.01 60.2282 850.01 Q58.0523 850.01 55.7375 849.57 Q53.4458 849.153 50.9921 848.297 L50.9921 843.783 Q52.9366 844.917 55.2514 845.496 Q57.5662 846.075 60.0893 846.075 Q64.4874 846.075 66.7791 844.338 Q69.0939 842.602 69.0939 839.292 Q69.0939 836.237 66.9411 834.524 Q64.8115 832.788 60.9921 832.788 L56.9643 832.788 L56.9643 828.945 L61.1773 828.945 Q64.6263 828.945 66.455 827.579 Q68.2837 826.19 68.2837 823.598 Q68.2837 820.936 66.3856 819.524 Q64.5106 818.089 60.9921 818.089 Q59.0708 818.089 56.8717 818.505 Q54.6727 818.922 52.0338 819.802 L52.0338 815.635 Q54.6958 814.894 57.0106 814.524 Q59.3486 814.153 61.4087 814.153 Q66.7328 814.153 69.8346 816.584 Q72.9365 818.991 72.9365 823.112 Q72.9365 825.982 71.2929 827.973 Q69.6494 829.94 66.617 830.704 Z\" fill=\"#000000\" fill-rule=\"nonzero\" fill-opacity=\"1\" /><path clip-path=\"url(#clip350)\" d=\"M86.6401 845.403 L102.959 845.403 L102.959 849.338 L81.0151 849.338 L81.0151 845.403 Q83.6771 842.649 88.2604 838.019 Q92.8669 833.366 94.0475 832.024 Q96.2928 829.501 97.1724 827.764 Q98.0752 826.005 98.0752 824.315 Q98.0752 821.561 96.1308 819.825 Q94.2095 818.089 91.1077 818.089 Q88.9086 818.089 86.4549 818.852 Q84.0244 819.616 81.2466 821.167 L81.2466 816.445 Q84.0707 815.311 86.5243 814.732 Q88.978 814.153 91.0151 814.153 Q96.3854 814.153 99.5798 816.839 Q102.774 819.524 102.774 824.014 Q102.774 826.144 101.964 828.065 Q101.177 829.963 99.0706 832.556 Q98.4919 833.227 95.39 836.445 Q92.2882 839.639 86.6401 845.403 Z\" fill=\"#000000\" fill-rule=\"nonzero\" fill-opacity=\"1\" /><path clip-path=\"url(#clip350)\" d=\"M122.774 817.857 Q119.163 817.857 117.334 821.422 Q115.529 824.964 115.529 832.093 Q115.529 839.2 117.334 842.764 Q119.163 846.306 122.774 846.306 Q126.408 846.306 128.214 842.764 Q130.043 839.2 130.043 832.093 Q130.043 824.964 128.214 821.422 Q126.408 817.857 122.774 817.857 M122.774 814.153 Q128.584 814.153 131.64 818.76 Q134.719 823.343 134.719 832.093 Q134.719 840.82 131.64 845.426 Q128.584 850.01 122.774 850.01 Q116.964 850.01 113.885 845.426 Q110.83 840.82 110.83 832.093 Q110.83 823.343 113.885 818.76 Q116.964 814.153 122.774 814.153 Z\" fill=\"#000000\" fill-rule=\"nonzero\" fill-opacity=\"1\" /><path clip-path=\"url(#clip350)\" d=\"M66.617 597.172 Q69.9735 597.89 71.8485 600.158 Q73.7466 602.427 73.7466 605.76 Q73.7466 610.876 70.2281 613.676 Q66.7096 616.477 60.2282 616.477 Q58.0523 616.477 55.7375 616.038 Q53.4458 615.621 50.9921 614.764 L50.9921 610.251 Q52.9366 611.385 55.2514 611.964 Q57.5662 612.542 60.0893 612.542 Q64.4874 612.542 66.7791 610.806 Q69.0939 609.07 69.0939 605.76 Q69.0939 602.704 66.9411 600.991 Q64.8115 599.255 60.9921 599.255 L56.9643 599.255 L56.9643 595.413 L61.1773 595.413 Q64.6263 595.413 66.455 594.047 Q68.2837 592.658 68.2837 590.065 Q68.2837 587.403 66.3856 585.991 Q64.5106 584.556 60.9921 584.556 Q59.0708 584.556 56.8717 584.973 Q54.6727 585.39 52.0338 586.269 L52.0338 582.103 Q54.6958 581.362 57.0106 580.991 Q59.3486 580.621 61.4087 580.621 Q66.7328 580.621 69.8346 583.052 Q72.9365 585.459 72.9365 589.579 Q72.9365 592.45 71.2929 594.44 Q69.6494 596.408 66.617 597.172 Z\" fill=\"#000000\" fill-rule=\"nonzero\" fill-opacity=\"1\" /><path clip-path=\"url(#clip350)\" d=\"M96.7789 597.172 Q100.135 597.89 102.01 600.158 Q103.909 602.427 103.909 605.76 Q103.909 610.876 100.39 613.676 Q96.8715 616.477 90.3901 616.477 Q88.2141 616.477 85.8993 616.038 Q83.6077 615.621 81.154 614.764 L81.154 610.251 Q83.0984 611.385 85.4132 611.964 Q87.728 612.542 90.2512 612.542 Q94.6493 612.542 96.941 610.806 Q99.2558 609.07 99.2558 605.76 Q99.2558 602.704 97.103 600.991 Q94.9734 599.255 91.1539 599.255 L87.1262 599.255 L87.1262 595.413 L91.3391 595.413 Q94.7882 595.413 96.6169 594.047 Q98.4456 592.658 98.4456 590.065 Q98.4456 587.403 96.5474 585.991 Q94.6724 584.556 91.1539 584.556 Q89.2327 584.556 87.0336 584.973 Q84.8345 585.39 82.1957 586.269 L82.1957 582.103 Q84.8577 581.362 87.1725 580.991 Q89.5104 580.621 91.5706 580.621 Q96.8947 580.621 99.9965 583.052 Q103.098 585.459 103.098 589.579 Q103.098 592.45 101.455 594.44 Q99.8113 596.408 96.7789 597.172 Z\" fill=\"#000000\" fill-rule=\"nonzero\" fill-opacity=\"1\" /><path clip-path=\"url(#clip350)\" d=\"M122.774 584.325 Q119.163 584.325 117.334 587.89 Q115.529 591.431 115.529 598.561 Q115.529 605.667 117.334 609.232 Q119.163 612.774 122.774 612.774 Q126.408 612.774 128.214 609.232 Q130.043 605.667 130.043 598.561 Q130.043 591.431 128.214 587.89 Q126.408 584.325 122.774 584.325 M122.774 580.621 Q128.584 580.621 131.64 585.228 Q134.719 589.811 134.719 598.561 Q134.719 607.288 131.64 611.894 Q128.584 616.477 122.774 616.477 Q116.964 616.477 113.885 611.894 Q110.83 607.288 110.83 598.561 Q110.83 589.811 113.885 585.228 Q116.964 580.621 122.774 580.621 Z\" fill=\"#000000\" fill-rule=\"nonzero\" fill-opacity=\"1\" /><path clip-path=\"url(#clip350)\" d=\"M66.617 363.64 Q69.9735 364.357 71.8485 366.626 Q73.7466 368.894 73.7466 372.228 Q73.7466 377.343 70.2281 380.144 Q66.7096 382.945 60.2282 382.945 Q58.0523 382.945 55.7375 382.505 Q53.4458 382.089 50.9921 381.232 L50.9921 376.718 Q52.9366 377.853 55.2514 378.431 Q57.5662 379.01 60.0893 379.01 Q64.4874 379.01 66.7791 377.274 Q69.0939 375.538 69.0939 372.228 Q69.0939 369.172 66.9411 367.459 Q64.8115 365.723 60.9921 365.723 L56.9643 365.723 L56.9643 361.88 L61.1773 361.88 Q64.6263 361.88 66.455 360.515 Q68.2837 359.126 68.2837 356.533 Q68.2837 353.871 66.3856 352.459 Q64.5106 351.024 60.9921 351.024 Q59.0708 351.024 56.8717 351.441 Q54.6727 351.857 52.0338 352.737 L52.0338 348.57 Q54.6958 347.83 57.0106 347.459 Q59.3486 347.089 61.4087 347.089 Q66.7328 347.089 69.8346 349.519 Q72.9365 351.927 72.9365 356.047 Q72.9365 358.917 71.2929 360.908 Q69.6494 362.876 66.617 363.64 Z\" fill=\"#000000\" fill-rule=\"nonzero\" fill-opacity=\"1\" /><path clip-path=\"url(#clip350)\" d=\"M95.4595 351.788 L83.654 370.237 L95.4595 370.237 L95.4595 351.788 M94.2326 347.714 L100.112 347.714 L100.112 370.237 L105.043 370.237 L105.043 374.126 L100.112 374.126 L100.112 382.274 L95.4595 382.274 L95.4595 374.126 L79.8577 374.126 L79.8577 369.612 L94.2326 347.714 Z\" fill=\"#000000\" fill-rule=\"nonzero\" fill-opacity=\"1\" /><path clip-path=\"url(#clip350)\" d=\"M122.774 350.792 Q119.163 350.792 117.334 354.357 Q115.529 357.899 115.529 365.028 Q115.529 372.135 117.334 375.7 Q119.163 379.241 122.774 379.241 Q126.408 379.241 128.214 375.7 Q130.043 372.135 130.043 365.028 Q130.043 357.899 128.214 354.357 Q126.408 350.792 122.774 350.792 M122.774 347.089 Q128.584 347.089 131.64 351.695 Q134.719 356.279 134.719 365.028 Q134.719 373.755 131.64 378.362 Q128.584 382.945 122.774 382.945 Q116.964 382.945 113.885 378.362 Q110.83 373.755 110.83 365.028 Q110.83 356.279 113.885 351.695 Q116.964 347.089 122.774 347.089 Z\" fill=\"#000000\" fill-rule=\"nonzero\" fill-opacity=\"1\" /><path clip-path=\"url(#clip350)\" d=\"M66.617 130.107 Q69.9735 130.825 71.8485 133.093 Q73.7466 135.362 73.7466 138.695 Q73.7466 143.811 70.2281 146.612 Q66.7096 149.413 60.2282 149.413 Q58.0523 149.413 55.7375 148.973 Q53.4458 148.556 50.9921 147.7 L50.9921 143.186 Q52.9366 144.32 55.2514 144.899 Q57.5662 145.478 60.0893 145.478 Q64.4874 145.478 66.7791 143.741 Q69.0939 142.005 69.0939 138.695 Q69.0939 135.64 66.9411 133.927 Q64.8115 132.191 60.9921 132.191 L56.9643 132.191 L56.9643 128.348 L61.1773 128.348 Q64.6263 128.348 66.455 126.982 Q68.2837 125.593 68.2837 123.001 Q68.2837 120.339 66.3856 118.927 Q64.5106 117.492 60.9921 117.492 Q59.0708 117.492 56.8717 117.908 Q54.6727 118.325 52.0338 119.205 L52.0338 115.038 Q54.6958 114.297 57.0106 113.927 Q59.3486 113.556 61.4087 113.556 Q66.7328 113.556 69.8346 115.987 Q72.9365 118.394 72.9365 122.515 Q72.9365 125.385 71.2929 127.376 Q69.6494 129.343 66.617 130.107 Z\" fill=\"#000000\" fill-rule=\"nonzero\" fill-opacity=\"1\" /><path clip-path=\"url(#clip350)\" d=\"M82.6586 114.181 L101.015 114.181 L101.015 118.117 L86.941 118.117 L86.941 126.589 Q87.9595 126.242 88.978 126.08 Q89.9965 125.894 91.0151 125.894 Q96.8021 125.894 100.182 129.066 Q103.561 132.237 103.561 137.654 Q103.561 143.232 100.089 146.334 Q96.6169 149.413 90.2975 149.413 Q88.1216 149.413 85.8531 149.042 Q83.6077 148.672 81.2003 147.931 L81.2003 143.232 Q83.2836 144.366 85.5058 144.922 Q87.728 145.478 90.2049 145.478 Q94.2095 145.478 96.5474 143.371 Q98.8854 141.265 98.8854 137.654 Q98.8854 134.042 96.5474 131.936 Q94.2095 129.83 90.2049 129.83 Q88.3299 129.83 86.4549 130.246 Q84.6031 130.663 82.6586 131.542 L82.6586 114.181 Z\" fill=\"#000000\" fill-rule=\"nonzero\" fill-opacity=\"1\" /><path clip-path=\"url(#clip350)\" d=\"M122.774 117.26 Q119.163 117.26 117.334 120.825 Q115.529 124.367 115.529 131.496 Q115.529 138.603 117.334 142.167 Q119.163 145.709 122.774 145.709 Q126.408 145.709 128.214 142.167 Q130.043 138.603 130.043 131.496 Q130.043 124.367 128.214 120.825 Q126.408 117.26 122.774 117.26 M122.774 113.556 Q128.584 113.556 131.64 118.163 Q134.719 122.746 134.719 131.496 Q134.719 140.223 131.64 144.829 Q128.584 149.413 122.774 149.413 Q116.964 149.413 113.885 144.829 Q110.83 140.223 110.83 131.496 Q110.83 122.746 113.885 118.163 Q116.964 113.556 122.774 113.556 Z\" fill=\"#000000\" fill-rule=\"nonzero\" fill-opacity=\"1\" /><polyline clip-path=\"url(#clip352)\" style=\"stroke:#009af9; stroke-linecap:round; stroke-linejoin:round; stroke-width:4; stroke-opacity:1; fill:none\" points=\"170.719,131.461 172.903,190.63 175.087,246.691 177.271,299.813 179.455,350.155 181.64,397.867 183.824,443.092 186.008,485.966 188.192,526.615 190.377,565.159 192.561,601.712 194.745,636.378 196.929,669.256 199.113,700.443 201.298,730.027 203.482,758.096 205.666,784.73 207.85,810.006 210.035,833.995 212.219,856.768 214.403,878.388 216.587,898.912 218.771,918.398 220.956,936.899 223.14,954.466 225.324,971.148 227.508,986.991 229.693,1002.04 231.877,1016.34 234.061,1029.92 236.245,1042.83 238.429,1055.1 240.614,1066.77 242.798,1077.85 244.982,1088.39 247.166,1098.41 249.351,1107.94 251.535,1116.99 253.719,1125.6 255.903,1133.79 258.087,1141.57 260.272,1148.97 262.456,1156.01 264.64,1162.71 266.824,1169.08 269.009,1175.15 271.193,1180.92 273.377,1186.42 275.561,1191.66 277.745,1196.65 279.93,1201.39 282.114,1205.91 284.298,1210.21 286.482,1214.31 288.666,1218.21 290.851,1221.92 293.035,1225.45 295.219,1228.81 297.403,1232.02 299.588,1235.07 301.772,1237.97 303.956,1240.74 306.14,1243.38 308.324,1245.89 310.509,1248.29 312.693,1250.58 314.877,1252.76 317.061,1254.85 319.246,1256.84 321.43,1258.74 323.614,1260.55 325.798,1262.27 327.982,1263.92 330.167,1265.49 332.351,1266.98 334.535,1268.41 336.719,1269.77 338.904,1271.06 341.088,1272.3 343.272,1273.48 345.456,1274.6 347.64,1275.67 349.825,1276.69 352.009,1277.67 354.193,1278.6 356.377,1279.49 358.562,1280.33 360.746,1281.15 362.93,1281.92 365.114,1282.67 367.298,1283.38 369.483,1284.06 371.667,1284.71 373.851,1285.33 376.035,1285.93 378.22,1286.5 380.404,1287.05 382.588,1287.57 384.772,1288.06 386.956,1288.54 389.141,1288.99 391.325,1289.42 393.509,1289.83 395.693,1290.23 397.878,1290.6 400.062,1290.96 402.246,1291.3 404.43,1291.63 406.614,1291.94 408.799,1292.24 410.983,1292.52 413.167,1292.79 415.351,1293.05 417.536,1293.3 419.72,1293.54 421.904,1293.76 424.088,1293.98 426.272,1294.19 428.457,1294.39 430.641,1294.59 432.825,1294.78 435.009,1294.96 437.194,1295.13 439.378,1295.3 441.562,1295.46 443.746,1295.61 445.93,1295.75 448.115,1295.9 450.299,1296.03 452.483,1296.16 454.667,1296.28 456.852,1296.4 459.036,1296.51 461.22,1296.62 463.404,1296.72 465.588,1296.82 467.773,1296.91 469.957,1297 472.141,1297.09 474.325,1297.17 476.51,1297.24 478.694,1297.32 480.878,1297.39 483.062,1297.45 485.246,1297.52 487.431,1297.58 489.615,1297.64 491.799,1297.69 493.983,1297.74 496.168,1297.8 498.352,1297.84 500.536,1297.89 502.72,1297.94 504.904,1297.98 507.089,1298.02 509.273,1298.07 511.457,1298.11 513.641,1298.15 515.826,1298.18 518.01,1298.22 520.194,1298.26 522.378,1298.29 524.562,1298.33 526.747,1298.36 528.931,1298.39 531.115,1298.42 533.299,1298.45 535.484,1298.48 537.668,1298.5 539.852,1298.53 542.036,1298.55 544.22,1298.58 546.405,1298.6 548.589,1298.62 550.773,1298.64 552.957,1298.66 555.142,1298.68 557.326,1298.7 559.51,1298.71 561.694,1298.73 563.878,1298.75 566.063,1298.76 568.247,1298.77 570.431,1298.79 572.615,1298.8 574.8,1298.81 576.984,1298.82 579.168,1298.83 581.352,1298.84 583.536,1298.85 585.721,1298.86 587.905,1298.87 590.089,1298.87 592.273,1298.88 594.458,1298.89 596.642,1298.89 598.826,1298.9 601.01,1298.91 603.194,1298.91 605.379,1298.92 607.563,1298.92 609.747,1298.93 611.931,1298.94 614.116,1298.94 616.3,1298.95 618.484,1298.95 620.668,1298.96 622.852,1298.97 625.037,1298.97 627.221,1298.98 629.405,1298.98 631.589,1298.99 633.774,1298.99 635.958,1299 638.142,1299 640.326,1299.01 642.51,1299.01 644.695,1299.02 646.879,1299.02 649.063,1299.03 651.247,1299.03 653.432,1299.04 655.616,1299.04 657.8,1299.05 659.984,1299.05 662.168,1299.05 664.353,1299.06 666.537,1299.06 668.721,1299.06 670.905,1299.07 673.089,1299.07 675.274,1299.07 677.458,1299.07 679.642,1299.08 681.826,1299.08 684.011,1299.08 686.195,1299.08 688.379,1299.08 690.563,1299.09 692.747,1299.09 694.932,1299.09 697.116,1299.09 699.3,1299.09 701.484,1299.09 703.669,1299.09 705.853,1299.09 708.037,1299.09 710.221,1299.09 712.405,1299.09 714.59,1299.09 716.774,1299.09 718.958,1299.09 721.142,1299.09 723.327,1299.09 725.511,1299.09 727.695,1299.09 729.879,1299.09 732.063,1299.09 734.248,1299.09 736.432,1299.09 738.616,1299.09 740.8,1299.09 742.985,1299.09 745.169,1299.09 747.353,1299.09 749.537,1299.09 751.721,1299.09 753.906,1299.09 756.09,1299.09 758.274,1299.1 760.458,1299.1 762.643,1299.1 764.827,1299.1 767.011,1299.1 769.195,1299.1 771.379,1299.1 773.564,1299.1 775.748,1299.1 777.932,1299.1 780.116,1299.1 782.301,1299.1 784.485,1299.11 786.669,1299.11 788.853,1299.11 791.037,1299.11 793.222,1299.11 795.406,1299.11 797.59,1299.11 799.774,1299.11 801.959,1299.11 804.143,1299.11 806.327,1299.11 808.511,1299.12 810.695,1299.12 812.88,1299.12 815.064,1299.12 817.248,1299.12 819.432,1299.12 821.617,1299.12 823.801,1299.12 825.985,1299.12 828.169,1299.12 830.353,1299.12 832.538,1299.12 834.722,1299.12 836.906,1299.12 839.09,1299.12 841.275,1299.12 843.459,1299.13 845.643,1299.13 847.827,1299.13 850.011,1299.13 852.196,1299.13 854.38,1299.13 856.564,1299.13 858.748,1299.13 860.933,1299.13 863.117,1299.13 865.301,1299.13 867.485,1299.13 869.669,1299.13 871.854,1299.13 874.038,1299.13 876.222,1299.13 878.406,1299.13 880.591,1299.13 882.775,1299.13 884.959,1299.13 887.143,1299.13 889.327,1299.13 891.512,1299.13 893.696,1299.12 895.88,1299.12 898.064,1299.12 900.249,1299.12 902.433,1299.12 904.617,1299.12 906.801,1299.12 908.985,1299.12 911.17,1299.12 913.354,1299.12 915.538,1299.12 917.722,1299.12 919.907,1299.12 922.091,1299.12 924.275,1299.12 926.459,1299.12 928.643,1299.12 930.828,1299.12 933.012,1299.12 935.196,1299.12 937.38,1299.12 939.565,1299.12 941.749,1299.12 943.933,1299.11 946.117,1299.11 948.301,1299.11 950.486,1299.11 952.67,1299.11 954.854,1299.11 957.038,1299.11 959.223,1299.11 961.407,1299.11 963.591,1299.11 965.775,1299.11 967.959,1299.11 970.144,1299.11 972.328,1299.11 974.512,1299.11 976.696,1299.11 978.881,1299.11 981.065,1299.12 983.249,1299.12 985.433,1299.12 987.617,1299.12 989.802,1299.12 991.986,1299.12 994.17,1299.12 996.354,1299.12 998.539,1299.12 1000.72,1299.12 1002.91,1299.12 1005.09,1299.12 1007.28,1299.12 1009.46,1299.12 1011.64,1299.12 1013.83,1299.12 1016.01,1299.12 1018.2,1299.12 1020.38,1299.12 1022.56,1299.12 1024.75,1299.12 1026.93,1299.12 1029.12,1299.12 1031.3,1299.12 1033.49,1299.12 1035.67,1299.12 1037.85,1299.12 1040.04,1299.12 1042.22,1299.12 1044.41,1299.12 1046.59,1299.12 1048.78,1299.12 1050.96,1299.12 1053.14,1299.12 1055.33,1299.12 1057.51,1299.12 1059.7,1299.12 1061.88,1299.12 1064.07,1299.12 1066.25,1299.12 1068.43,1299.12 1070.62,1299.12 1072.8,1299.12 1074.99,1299.12 1077.17,1299.12 1079.35,1299.12 1081.54,1299.12 1083.72,1299.12 1085.91,1299.12 1088.09,1299.12 1090.28,1299.12 1092.46,1299.12 1094.64,1299.12 1096.83,1299.12 1099.01,1299.12 1101.2,1299.12 1103.38,1299.12 1105.57,1299.12 1107.75,1299.12 1109.93,1299.12 1112.12,1299.12 1114.3,1299.12 1116.49,1299.12 1118.67,1299.12 1120.85,1299.12 1123.04,1299.12 1125.22,1299.12 1127.41,1299.12 1129.59,1299.12 1131.78,1299.12 1133.96,1299.12 1136.14,1299.12 1138.33,1299.12 1140.51,1299.12 1142.7,1299.12 1144.88,1299.12 1147.07,1299.12 1149.25,1299.12 1151.43,1299.12 1153.62,1299.12 1155.8,1299.12 1157.99,1299.12 1160.17,1299.12 1162.36,1299.12 1164.54,1299.12 1166.72,1299.12 1168.91,1299.12 1171.09,1299.12 1173.28,1299.12 1175.46,1299.12 1177.64,1299.12 1179.83,1299.12 1182.01,1299.12 1184.2,1299.12 1186.38,1299.12 1188.57,1299.12 1190.75,1299.13 1192.93,1299.13 1195.12,1299.13 1197.3,1299.13 1199.49,1299.13 1201.67,1299.14 1203.86,1299.14 1206.04,1299.14 1208.22,1299.15 1210.41,1299.15 1212.59,1299.15 1214.78,1299.16 1216.96,1299.16 1219.14,1299.17 1221.33,1299.17 1223.51,1299.17 1225.7,1299.18 1227.88,1299.18 1230.07,1299.19 1232.25,1299.19 1234.43,1299.2 1236.62,1299.2 1238.8,1299.2 1240.99,1299.21 1243.17,1299.21 1245.36,1299.22 1247.54,1299.22 1249.72,1299.23 1251.91,1299.23 1254.09,1299.24 1256.28,1299.24 1258.46,1299.24 1260.65,1299.25 1262.83,1299.25 1265.01,1299.26 1267.2,1299.26 1269.38,1299.27 1271.57,1299.27 1273.75,1299.27 1275.93,1299.28 1278.12,1299.28 1280.3,1299.28 1282.49,1299.29 1284.67,1299.29 1286.86,1299.29 1289.04,1299.3 1291.22,1299.3 1293.41,1299.3 1295.59,1299.3 1297.78,1299.31 1299.96,1299.31 1302.15,1299.31 1304.33,1299.31 1306.51,1299.31 1308.7,1299.31 1310.88,1299.31 1313.07,1299.32 1315.25,1299.32 1317.43,1299.32 1319.62,1299.32 1321.8,1299.32 1323.99,1299.32 1326.17,1299.32 1328.36,1299.32 1330.54,1299.32 1332.72,1299.32 1334.91,1299.31 1337.09,1299.31 1339.28,1299.31 1341.46,1299.31 1343.65,1299.31 1345.83,1299.31 1348.01,1299.3 1350.2,1299.3 1352.38,1299.3 1354.57,1299.3 1356.75,1299.29 1358.94,1299.29 1361.12,1299.29 1363.3,1299.28 1365.49,1299.28 1367.67,1299.27 1369.86,1299.27 1372.04,1299.27 1374.22,1299.26 1376.41,1299.26 1378.59,1299.25 1380.78,1299.25 1382.96,1299.24 1385.15,1299.24 1387.33,1299.23 1389.51,1299.22 1391.7,1299.22 1393.88,1299.21 1396.07,1299.21 1398.25,1299.2 1400.44,1299.19 1402.62,1299.19 1404.8,1299.18 1406.99,1299.17 1409.17,1299.17 1411.36,1299.16 1413.54,1299.15 1415.72,1299.15 1417.91,1299.14 1420.09,1299.13 1422.28,1299.12 1424.46,1299.12 1426.65,1299.11 1428.83,1299.1 1431.01,1299.09 1433.2,1299.08 1435.38,1299.08 1437.57,1299.07 1439.75,1299.06 1441.94,1299.05 1444.12,1299.05 1446.3,1299.04 1448.49,1299.03 1450.67,1299.02 1452.86,1299.01 1455.04,1299.01 1457.23,1299 1459.41,1298.99 1461.59,1298.98 1463.78,1298.98 1465.96,1298.97 1468.15,1298.96 1470.33,1298.96 1472.51,1298.95 1474.7,1298.94 1476.88,1298.94 1479.07,1298.93 1481.25,1298.92 1483.44,1298.92 1485.62,1298.91 1487.8,1298.91 1489.99,1298.9 1492.17,1298.9 1494.36,1298.89 1496.54,1298.89 1498.73,1298.88 1500.91,1298.88 1503.09,1298.88 1505.28,1298.87 1507.46,1298.87 1509.65,1298.87 1511.83,1298.87 1514.01,1298.86 1516.2,1298.86 1518.38,1298.86 1520.57,1298.86 1522.75,1298.86 1524.94,1298.86 1527.12,1298.86 1529.3,1298.87 1531.49,1298.87 1533.67,1298.87 1535.86,1298.87 1538.04,1298.88 1540.23,1298.88 1542.41,1298.89 1544.59,1299.05 1546.78,1299.77 1548.96,1301.05 1551.15,1302.83 1553.33,1305.05 1555.52,1307.67 1557.7,1310.64 1559.88,1313.92 1562.07,1317.45 1564.25,1321.2 1566.44,1325.12 1568.62,1329.17 1570.8,1333.31 1572.99,1337.51 1575.17,1341.71 1577.36,1345.89 1579.54,1350.01 1581.73,1354.03 1583.91,1357.93 1586.09,1361.67 1588.28,1365.21 1590.46,1368.54 1592.65,1371.62 1594.83,1374.42 1597.02,1376.92 1599.2,1379.09 1601.38,1380.9 1603.57,1382.35 1605.75,1383.4 1607.94,1384.04 1610.12,1384.24 1612.3,1383.99 1614.49,1383.27 1616.67,1382.07 1618.86,1380.37 1621.04,1378.16 1623.23,1375.42 1625.41,1372.16 1627.59,1368.35 1629.78,1363.99 1631.96,1359.08 1634.15,1353.6 1636.33,1347.55 1638.52,1340.93 1640.7,1333.74 1642.88,1325.98 1645.07,1317.64 1647.25,1308.72 1649.44,1299.24 1651.62,1289.19 1653.8,1278.59 1655.99,1267.42 1658.17,1255.71 1660.36,1243.46 1662.54,1230.68 1664.73,1217.38 1666.91,1203.58 1669.09,1189.28 1671.28,1174.51 1673.46,1159.27 1675.65,1143.59 1677.83,1127.48 1680.02,1110.97 1682.2,1094.07 1684.38,1076.8 1686.57,1059.19 1688.75,1041.26 1690.94,1023.04 1693.12,1004.55 1695.31,985.829 1697.49,966.895 1699.67,947.781 1701.86,928.52 1704.04,909.143 1706.23,889.685 1708.41,870.18 1710.59,850.665 1712.78,831.177 1714.96,811.754 1717.15,792.436 1719.33,773.264 1721.52,754.28 1723.7,735.528 1725.88,717.052 1728.07,698.898 1730.25,681.113 1732.44,663.744 1734.62,646.841 1736.81,630.455 1738.99,614.638 1741.17,599.441 1743.36,584.92 1745.54,571.129 1747.73,558.126 1749.91,545.967 1752.09,534.713 1754.28,524.318 1756.46,514.21 1758.65,504.29 1760.83,494.555 1763.02,485.006 1765.2,475.641 1767.38,466.46 1769.57,457.461 1771.75,448.644 1773.94,440.007 1776.12,431.548 1778.31,423.268 1780.49,415.164 1782.67,407.235 1784.86,399.48 1787.04,391.897 1789.23,384.485 1791.41,377.242 1793.6,370.167 1795.78,363.259 1797.96,356.514 1800.15,349.933 1802.33,343.512 1804.52,337.251 1806.7,331.146 1808.88,325.197 1811.07,319.402 1813.25,313.758 1815.44,308.263 1817.62,302.915 1819.81,297.713 1821.99,292.653 1824.17,287.734 1826.36,282.953 1828.54,278.308 1830.73,273.796 1832.91,269.415 1835.1,265.163 1837.28,261.037 1839.46,257.035 1841.65,253.153 1843.83,249.389 1846.02,245.741 1848.2,242.205 1850.38,238.778 1852.57,235.459 1854.75,232.243 1856.94,229.128 1859.12,226.111 1861.31,223.189 1863.49,220.358 1865.67,217.616 1867.86,214.959 1870.04,212.384 1872.23,209.887 1874.41,207.466 1876.6,205.116 1878.78,202.835 1880.96,200.618 1883.15,198.463 1885.33,196.365 1887.52,194.321 1889.7,192.328 1891.89,190.381 1894.07,188.476 1896.25,186.61 1898.44,184.78 1900.62,182.979 1902.81,181.206 1904.99,179.456 1907.17,177.724 1909.36,176.007 1911.54,174.301 1913.73,172.6 1915.91,170.901 1918.1,169.2 1920.28,167.492 1922.46,165.772 1924.65,164.037 1926.83,162.289 1929.02,160.57 1931.2,158.884 1933.39,157.231 1935.57,155.611 1937.75,154.022 1939.94,152.466 1942.12,150.942 1944.31,149.448 1946.49,147.986 1948.67,146.555 1950.86,145.154 1953.04,143.782 1955.23,142.441 1957.41,141.128 1959.6,139.845 1961.78,138.59 1963.96,137.363 1966.15,136.164 1968.33,134.993 1970.52,133.848 1972.7,132.731 1974.89,131.639 1977.07,130.574 1979.25,129.534 1981.44,128.519 1983.62,127.53 1985.81,126.564 1987.99,125.622 1990.18,124.704 1992.36,123.809 1994.54,122.937 1996.73,122.087 1998.91,121.259 2001.1,120.453 2003.28,119.667 2005.46,118.902 2007.65,118.157 2009.83,117.432 2012.02,116.726 2014.2,116.039 2016.39,115.371 2018.57,114.72 2020.75,114.086 2022.94,113.47 2025.12,112.87 2027.31,112.287 2029.49,111.719 2031.68,111.165 2033.86,110.627 2036.04,110.103 2038.23,109.592 2040.41,109.095 2042.6,108.61 2044.78,108.137 2046.96,107.676 2049.15,107.226 2051.33,106.787 2053.52,106.358 2055.7,105.938 2057.89,105.528 2060.07,105.126 2062.25,104.732 2064.44,104.345 2066.62,103.966 2068.81,103.593 2070.99,103.226 2073.18,102.864 2075.36,102.507 2077.54,102.154 2079.73,101.805 2081.91,101.458 2084.1,101.115 2086.28,100.773 2088.47,100.433 2090.65,100.096 2092.83,99.7633 2095.02,99.4359 2097.2,99.1134 2099.39,98.7958 2101.57,98.4832 2103.75,98.1756 2105.94,97.8729 2108.12,97.5754 2110.31,97.2828 2112.49,96.9953 2114.68,96.7129 2116.86,96.4356 2119.04,96.1634 2121.23,95.8962 2123.41,95.6342 2125.6,95.3773 2127.78,95.1254 2129.97,94.8787 2132.15,94.637 2134.33,94.4004 2136.52,94.1689 2138.7,93.9425 2140.89,93.7211 2143.07,93.5047 2145.25,93.2933 2147.44,93.0868 2149.62,92.8854 2151.81,92.6889 2153.99,92.4972 2156.18,92.3104 2158.36,92.1285 2160.54,91.9513 2162.73,91.7789 2164.91,91.6113 2167.1,91.4482 2169.28,91.2898 2171.47,91.136 2173.65,90.9867 2175.83,90.8419 2178.02,90.7015 2180.2,90.5654 2182.39,90.4336 2184.57,90.3061 2186.76,90.1827 2188.94,90.0635 2191.12,89.9483 2193.31,89.837 2195.49,89.7296 2197.68,89.626 2199.86,89.5262 2202.04,89.43 2204.23,89.3373 2206.41,89.2482 2208.6,89.1624 2210.78,89.0799 2212.97,89.0006 2215.15,88.9245 2217.33,88.8513 2219.52,88.7811 2221.7,88.7137 2223.89,88.6489 2226.07,88.5868 2228.26,88.5272 2230.44,88.4699 2232.62,88.4149 2234.81,88.3621 2236.99,88.3112 2239.18,88.2623 2241.36,88.2152 2243.54,88.1697 2245.73,88.1257 2247.91,88.0831 2250.1,88.0418 2252.28,88.0016 2254.47,87.9625 2256.65,87.9241 2258.83,87.8865 2261.02,87.8494 2263.2,87.8127 2265.39,87.7763 2267.57,87.7401 2269.76,87.7037 2271.94,87.6672 2274.12,87.6303 2276.31,87.593 2278.49,87.5549 2280.68,87.516 2282.86,87.476 2285.05,87.4349 2287.23,87.3924 2289.41,87.3484 2291.6,87.3027 2293.78,87.255 2295.97,87.2054 2298.15,87.1549 2300.33,87.1055 2302.52,87.0572 2304.7,87.0098 2306.89,86.9635 2309.07,86.9181 2311.26,86.8737 2313.44,86.8302 2315.62,86.7876 2317.81,86.7459 2319.99,86.7051 2322.18,86.6651 2324.36,86.626 2326.55,86.5877 2328.73,86.5501 2330.91,86.5134 2333.1,86.4775 2335.28,86.4422 2337.47,86.4078 2339.65,86.374 2341.83,86.3409 2344.02,86.3086 2346.2,86.2769 2348.39,86.2458 2350.57,86.2154 2352.76,86.1857 \"/>\n",
       "<path clip-path=\"url(#clip350)\" d=\"M1960.27 1377.32 L2280.02 1377.32 L2280.02 1273.64 L1960.27 1273.64  Z\" fill=\"#ffffff\" fill-rule=\"evenodd\" fill-opacity=\"1\"/>\n",
       "<polyline clip-path=\"url(#clip350)\" style=\"stroke:#000000; stroke-linecap:round; stroke-linejoin:round; stroke-width:4; stroke-opacity:1; fill:none\" points=\"1960.27,1377.32 2280.02,1377.32 2280.02,1273.64 1960.27,1273.64 1960.27,1377.32 \"/>\n",
       "<polyline clip-path=\"url(#clip350)\" style=\"stroke:#009af9; stroke-linecap:round; stroke-linejoin:round; stroke-width:4; stroke-opacity:1; fill:none\" points=\"1984.51,1325.48 2129.98,1325.48 \"/>\n",
       "<path clip-path=\"url(#clip350)\" d=\"M2154.23 1308.2 L2183.46 1308.2 L2183.46 1312.13 L2171.19 1312.13 L2171.19 1342.76 L2166.49 1342.76 L2166.49 1312.13 L2154.23 1312.13 L2154.23 1308.2 Z\" fill=\"#000000\" fill-rule=\"nonzero\" fill-opacity=\"1\" /><path clip-path=\"url(#clip350)\" d=\"M2189.78 1319.82 Q2186.36 1319.82 2184.36 1322.5 Q2182.37 1325.16 2182.37 1329.82 Q2182.37 1334.47 2184.34 1337.15 Q2186.33 1339.82 2189.78 1339.82 Q2193.18 1339.82 2195.17 1337.13 Q2197.17 1334.45 2197.17 1329.82 Q2197.17 1325.21 2195.17 1322.52 Q2193.18 1319.82 2189.78 1319.82 M2189.78 1316.2 Q2195.34 1316.2 2198.51 1319.82 Q2201.68 1323.43 2201.68 1329.82 Q2201.68 1336.18 2198.51 1339.82 Q2195.34 1343.43 2189.78 1343.43 Q2184.2 1343.43 2181.03 1339.82 Q2177.88 1336.18 2177.88 1329.82 Q2177.88 1323.43 2181.03 1319.82 Q2184.2 1316.2 2189.78 1316.2 Z\" fill=\"#000000\" fill-rule=\"nonzero\" fill-opacity=\"1\" /><path clip-path=\"url(#clip350)\" d=\"M2218.97 1306.78 Q2215.87 1312.11 2214.36 1317.32 Q2212.86 1322.52 2212.86 1327.87 Q2212.86 1333.22 2214.36 1338.47 Q2215.89 1343.7 2218.97 1349.01 L2215.27 1349.01 Q2211.8 1343.57 2210.06 1338.31 Q2208.35 1333.06 2208.35 1327.87 Q2208.35 1322.71 2210.06 1317.48 Q2211.77 1312.25 2215.27 1306.78 L2218.97 1306.78 Z\" fill=\"#000000\" fill-rule=\"nonzero\" fill-opacity=\"1\" /><path clip-path=\"url(#clip350)\" d=\"M2231.45 1309.47 L2231.45 1316.83 L2240.22 1316.83 L2240.22 1320.14 L2231.45 1320.14 L2231.45 1334.21 Q2231.45 1337.38 2232.3 1338.29 Q2233.18 1339.19 2235.85 1339.19 L2240.22 1339.19 L2240.22 1342.76 L2235.85 1342.76 Q2230.92 1342.76 2229.04 1340.93 Q2227.17 1339.07 2227.17 1334.21 L2227.17 1320.14 L2224.04 1320.14 L2224.04 1316.83 L2227.17 1316.83 L2227.17 1309.47 L2231.45 1309.47 Z\" fill=\"#000000\" fill-rule=\"nonzero\" fill-opacity=\"1\" /><path clip-path=\"url(#clip350)\" d=\"M2245.15 1306.78 L2248.86 1306.78 Q2252.33 1312.25 2254.04 1317.48 Q2255.78 1322.71 2255.78 1327.87 Q2255.78 1333.06 2254.04 1338.31 Q2252.33 1343.57 2248.86 1349.01 L2245.15 1349.01 Q2248.23 1343.7 2249.73 1338.47 Q2251.26 1333.22 2251.26 1327.87 Q2251.26 1322.52 2249.73 1317.32 Q2248.23 1312.11 2245.15 1306.78 Z\" fill=\"#000000\" fill-rule=\"nonzero\" fill-opacity=\"1\" /></svg>\n"
      ],
      "text/html": [
       "<?xml version=\"1.0\" encoding=\"utf-8\"?>\n",
       "<svg xmlns=\"http://www.w3.org/2000/svg\" xmlns:xlink=\"http://www.w3.org/1999/xlink\" width=\"600\" height=\"400\" viewBox=\"0 0 2400 1600\">\n",
       "<defs>\n",
       "  <clipPath id=\"clip400\">\n",
       "    <rect x=\"0\" y=\"0\" width=\"2400\" height=\"1600\"/>\n",
       "  </clipPath>\n",
       "</defs>\n",
       "<path clip-path=\"url(#clip400)\" d=\"M0 1600 L2400 1600 L2400 0 L0 0  Z\" fill=\"#ffffff\" fill-rule=\"evenodd\" fill-opacity=\"1\"/>\n",
       "<defs>\n",
       "  <clipPath id=\"clip401\">\n",
       "    <rect x=\"480\" y=\"0\" width=\"1681\" height=\"1600\"/>\n",
       "  </clipPath>\n",
       "</defs>\n",
       "<path clip-path=\"url(#clip400)\" d=\"M170.719 1423.18 L2352.76 1423.18 L2352.76 47.2441 L170.719 47.2441  Z\" fill=\"#ffffff\" fill-rule=\"evenodd\" fill-opacity=\"1\"/>\n",
       "<defs>\n",
       "  <clipPath id=\"clip402\">\n",
       "    <rect x=\"170\" y=\"47\" width=\"2183\" height=\"1377\"/>\n",
       "  </clipPath>\n",
       "</defs>\n",
       "<polyline clip-path=\"url(#clip402)\" style=\"stroke:#000000; stroke-linecap:round; stroke-linejoin:round; stroke-width:2; stroke-opacity:0.1; fill:none\" points=\"170.719,1423.18 170.719,47.2441 \"/>\n",
       "<polyline clip-path=\"url(#clip402)\" style=\"stroke:#000000; stroke-linecap:round; stroke-linejoin:round; stroke-width:2; stroke-opacity:0.1; fill:none\" points=\"607.126,1423.18 607.126,47.2441 \"/>\n",
       "<polyline clip-path=\"url(#clip402)\" style=\"stroke:#000000; stroke-linecap:round; stroke-linejoin:round; stroke-width:2; stroke-opacity:0.1; fill:none\" points=\"1043.53,1423.18 1043.53,47.2441 \"/>\n",
       "<polyline clip-path=\"url(#clip402)\" style=\"stroke:#000000; stroke-linecap:round; stroke-linejoin:round; stroke-width:2; stroke-opacity:0.1; fill:none\" points=\"1479.94,1423.18 1479.94,47.2441 \"/>\n",
       "<polyline clip-path=\"url(#clip402)\" style=\"stroke:#000000; stroke-linecap:round; stroke-linejoin:round; stroke-width:2; stroke-opacity:0.1; fill:none\" points=\"1916.35,1423.18 1916.35,47.2441 \"/>\n",
       "<polyline clip-path=\"url(#clip402)\" style=\"stroke:#000000; stroke-linecap:round; stroke-linejoin:round; stroke-width:2; stroke-opacity:0.1; fill:none\" points=\"2352.76,1423.18 2352.76,47.2441 \"/>\n",
       "<polyline clip-path=\"url(#clip400)\" style=\"stroke:#000000; stroke-linecap:round; stroke-linejoin:round; stroke-width:4; stroke-opacity:1; fill:none\" points=\"170.719,1423.18 2352.76,1423.18 \"/>\n",
       "<polyline clip-path=\"url(#clip400)\" style=\"stroke:#000000; stroke-linecap:round; stroke-linejoin:round; stroke-width:4; stroke-opacity:1; fill:none\" points=\"170.719,1423.18 170.719,1404.28 \"/>\n",
       "<polyline clip-path=\"url(#clip400)\" style=\"stroke:#000000; stroke-linecap:round; stroke-linejoin:round; stroke-width:4; stroke-opacity:1; fill:none\" points=\"607.126,1423.18 607.126,1404.28 \"/>\n",
       "<polyline clip-path=\"url(#clip400)\" style=\"stroke:#000000; stroke-linecap:round; stroke-linejoin:round; stroke-width:4; stroke-opacity:1; fill:none\" points=\"1043.53,1423.18 1043.53,1404.28 \"/>\n",
       "<polyline clip-path=\"url(#clip400)\" style=\"stroke:#000000; stroke-linecap:round; stroke-linejoin:round; stroke-width:4; stroke-opacity:1; fill:none\" points=\"1479.94,1423.18 1479.94,1404.28 \"/>\n",
       "<polyline clip-path=\"url(#clip400)\" style=\"stroke:#000000; stroke-linecap:round; stroke-linejoin:round; stroke-width:4; stroke-opacity:1; fill:none\" points=\"1916.35,1423.18 1916.35,1404.28 \"/>\n",
       "<polyline clip-path=\"url(#clip400)\" style=\"stroke:#000000; stroke-linecap:round; stroke-linejoin:round; stroke-width:4; stroke-opacity:1; fill:none\" points=\"2352.76,1423.18 2352.76,1404.28 \"/>\n",
       "<path clip-path=\"url(#clip400)\" d=\"M170.719 1454.1 Q167.107 1454.1 165.279 1457.66 Q163.473 1461.2 163.473 1468.33 Q163.473 1475.44 165.279 1479.01 Q167.107 1482.55 170.719 1482.55 Q174.353 1482.55 176.158 1479.01 Q177.987 1475.44 177.987 1468.33 Q177.987 1461.2 176.158 1457.66 Q174.353 1454.1 170.719 1454.1 M170.719 1450.39 Q176.529 1450.39 179.584 1455 Q182.663 1459.58 182.663 1468.33 Q182.663 1477.06 179.584 1481.67 Q176.529 1486.25 170.719 1486.25 Q164.908 1486.25 161.83 1481.67 Q158.774 1477.06 158.774 1468.33 Q158.774 1459.58 161.83 1455 Q164.908 1450.39 170.719 1450.39 Z\" fill=\"#000000\" fill-rule=\"nonzero\" fill-opacity=\"1\" /><path clip-path=\"url(#clip400)\" d=\"M601.779 1481.64 L618.098 1481.64 L618.098 1485.58 L596.154 1485.58 L596.154 1481.64 Q598.816 1478.89 603.399 1474.26 Q608.006 1469.61 609.186 1468.27 Q611.432 1465.74 612.311 1464.01 Q613.214 1462.25 613.214 1460.56 Q613.214 1457.8 611.27 1456.07 Q609.348 1454.33 606.246 1454.33 Q604.047 1454.33 601.594 1455.09 Q599.163 1455.86 596.385 1457.41 L596.385 1452.69 Q599.209 1451.55 601.663 1450.97 Q604.117 1450.39 606.154 1450.39 Q611.524 1450.39 614.719 1453.08 Q617.913 1455.77 617.913 1460.26 Q617.913 1462.39 617.103 1464.31 Q616.316 1466.2 614.209 1468.8 Q613.631 1469.47 610.529 1472.69 Q607.427 1475.88 601.779 1481.64 Z\" fill=\"#000000\" fill-rule=\"nonzero\" fill-opacity=\"1\" /><path clip-path=\"url(#clip400)\" d=\"M1046.54 1455.09 L1034.74 1473.54 L1046.54 1473.54 L1046.54 1455.09 M1045.32 1451.02 L1051.2 1451.02 L1051.2 1473.54 L1056.13 1473.54 L1056.13 1477.43 L1051.2 1477.43 L1051.2 1485.58 L1046.54 1485.58 L1046.54 1477.43 L1030.94 1477.43 L1030.94 1472.92 L1045.32 1451.02 Z\" fill=\"#000000\" fill-rule=\"nonzero\" fill-opacity=\"1\" /><path clip-path=\"url(#clip400)\" d=\"M1480.35 1466.44 Q1477.2 1466.44 1475.35 1468.59 Q1473.52 1470.74 1473.52 1474.49 Q1473.52 1478.22 1475.35 1480.39 Q1477.2 1482.55 1480.35 1482.55 Q1483.49 1482.55 1485.32 1480.39 Q1487.17 1478.22 1487.17 1474.49 Q1487.17 1470.74 1485.32 1468.59 Q1483.49 1466.44 1480.35 1466.44 M1489.63 1451.78 L1489.63 1456.04 Q1487.87 1455.21 1486.06 1454.77 Q1484.28 1454.33 1482.52 1454.33 Q1477.89 1454.33 1475.44 1457.45 Q1473.01 1460.58 1472.66 1466.9 Q1474.03 1464.89 1476.09 1463.82 Q1478.15 1462.73 1480.62 1462.73 Q1485.83 1462.73 1488.84 1465.9 Q1491.87 1469.05 1491.87 1474.49 Q1491.87 1479.82 1488.73 1483.03 Q1485.58 1486.25 1480.35 1486.25 Q1474.35 1486.25 1471.18 1481.67 Q1468.01 1477.06 1468.01 1468.33 Q1468.01 1460.14 1471.9 1455.28 Q1475.79 1450.39 1482.34 1450.39 Q1484.1 1450.39 1485.88 1450.74 Q1487.68 1451.09 1489.63 1451.78 Z\" fill=\"#000000\" fill-rule=\"nonzero\" fill-opacity=\"1\" /><path clip-path=\"url(#clip400)\" d=\"M1916.35 1469.17 Q1913.02 1469.17 1911.09 1470.95 Q1909.2 1472.73 1909.2 1475.86 Q1909.2 1478.98 1911.09 1480.77 Q1913.02 1482.55 1916.35 1482.55 Q1919.68 1482.55 1921.6 1480.77 Q1923.52 1478.96 1923.52 1475.86 Q1923.52 1472.73 1921.6 1470.95 Q1919.7 1469.17 1916.35 1469.17 M1911.67 1467.18 Q1908.66 1466.44 1906.97 1464.38 Q1905.31 1462.32 1905.31 1459.35 Q1905.31 1455.21 1908.25 1452.8 Q1911.21 1450.39 1916.35 1450.39 Q1921.51 1450.39 1924.45 1452.8 Q1927.39 1455.21 1927.39 1459.35 Q1927.39 1462.32 1925.7 1464.38 Q1924.03 1466.44 1921.05 1467.18 Q1924.43 1467.96 1926.3 1470.26 Q1928.2 1472.55 1928.2 1475.86 Q1928.2 1480.88 1925.12 1483.57 Q1922.07 1486.25 1916.35 1486.25 Q1910.63 1486.25 1907.55 1483.57 Q1904.5 1480.88 1904.5 1475.86 Q1904.5 1472.55 1906.39 1470.26 Q1908.29 1467.96 1911.67 1467.18 M1909.96 1459.79 Q1909.96 1462.48 1911.63 1463.98 Q1913.32 1465.49 1916.35 1465.49 Q1919.36 1465.49 1921.05 1463.98 Q1922.76 1462.48 1922.76 1459.79 Q1922.76 1457.11 1921.05 1455.6 Q1919.36 1454.1 1916.35 1454.1 Q1913.32 1454.1 1911.63 1455.6 Q1909.96 1457.11 1909.96 1459.79 Z\" fill=\"#000000\" fill-rule=\"nonzero\" fill-opacity=\"1\" /><path clip-path=\"url(#clip400)\" d=\"M2327.44 1481.64 L2335.08 1481.64 L2335.08 1455.28 L2326.77 1456.95 L2326.77 1452.69 L2335.04 1451.02 L2339.71 1451.02 L2339.71 1481.64 L2347.35 1481.64 L2347.35 1485.58 L2327.44 1485.58 L2327.44 1481.64 Z\" fill=\"#000000\" fill-rule=\"nonzero\" fill-opacity=\"1\" /><path clip-path=\"url(#clip400)\" d=\"M2366.8 1454.1 Q2363.18 1454.1 2361.36 1457.66 Q2359.55 1461.2 2359.55 1468.33 Q2359.55 1475.44 2361.36 1479.01 Q2363.18 1482.55 2366.8 1482.55 Q2370.43 1482.55 2372.23 1479.01 Q2374.06 1475.44 2374.06 1468.33 Q2374.06 1461.2 2372.23 1457.66 Q2370.43 1454.1 2366.8 1454.1 M2366.8 1450.39 Q2372.61 1450.39 2375.66 1455 Q2378.74 1459.58 2378.74 1468.33 Q2378.74 1477.06 2375.66 1481.67 Q2372.61 1486.25 2366.8 1486.25 Q2360.99 1486.25 2357.91 1481.67 Q2354.85 1477.06 2354.85 1468.33 Q2354.85 1459.58 2357.91 1455 Q2360.99 1450.39 2366.8 1450.39 Z\" fill=\"#000000\" fill-rule=\"nonzero\" fill-opacity=\"1\" /><path clip-path=\"url(#clip400)\" d=\"M1260.8 1522.27 L1260.8 1532.4 L1272.86 1532.4 L1272.86 1536.95 L1260.8 1536.95 L1260.8 1556.3 Q1260.8 1560.66 1261.98 1561.9 Q1263.19 1563.14 1266.85 1563.14 L1272.86 1563.14 L1272.86 1568.04 L1266.85 1568.04 Q1260.07 1568.04 1257.49 1565.53 Q1254.91 1562.98 1254.91 1556.3 L1254.91 1536.95 L1250.61 1536.95 L1250.61 1532.4 L1254.91 1532.4 L1254.91 1522.27 L1260.8 1522.27 Z\" fill=\"#000000\" fill-rule=\"nonzero\" fill-opacity=\"1\" /><polyline clip-path=\"url(#clip402)\" style=\"stroke:#000000; stroke-linecap:round; stroke-linejoin:round; stroke-width:2; stroke-opacity:0.1; fill:none\" points=\"170.719,1299.12 2352.76,1299.12 \"/>\n",
       "<polyline clip-path=\"url(#clip402)\" style=\"stroke:#000000; stroke-linecap:round; stroke-linejoin:round; stroke-width:2; stroke-opacity:0.1; fill:none\" points=\"170.719,1065.59 2352.76,1065.59 \"/>\n",
       "<polyline clip-path=\"url(#clip402)\" style=\"stroke:#000000; stroke-linecap:round; stroke-linejoin:round; stroke-width:2; stroke-opacity:0.1; fill:none\" points=\"170.719,832.058 2352.76,832.058 \"/>\n",
       "<polyline clip-path=\"url(#clip402)\" style=\"stroke:#000000; stroke-linecap:round; stroke-linejoin:round; stroke-width:2; stroke-opacity:0.1; fill:none\" points=\"170.719,598.526 2352.76,598.526 \"/>\n",
       "<polyline clip-path=\"url(#clip402)\" style=\"stroke:#000000; stroke-linecap:round; stroke-linejoin:round; stroke-width:2; stroke-opacity:0.1; fill:none\" points=\"170.719,364.994 2352.76,364.994 \"/>\n",
       "<polyline clip-path=\"url(#clip402)\" style=\"stroke:#000000; stroke-linecap:round; stroke-linejoin:round; stroke-width:2; stroke-opacity:0.1; fill:none\" points=\"170.719,131.461 2352.76,131.461 \"/>\n",
       "<polyline clip-path=\"url(#clip400)\" style=\"stroke:#000000; stroke-linecap:round; stroke-linejoin:round; stroke-width:4; stroke-opacity:1; fill:none\" points=\"170.719,1423.18 170.719,47.2441 \"/>\n",
       "<polyline clip-path=\"url(#clip400)\" style=\"stroke:#000000; stroke-linecap:round; stroke-linejoin:round; stroke-width:4; stroke-opacity:1; fill:none\" points=\"170.719,1299.12 189.616,1299.12 \"/>\n",
       "<polyline clip-path=\"url(#clip400)\" style=\"stroke:#000000; stroke-linecap:round; stroke-linejoin:round; stroke-width:4; stroke-opacity:1; fill:none\" points=\"170.719,1065.59 189.616,1065.59 \"/>\n",
       "<polyline clip-path=\"url(#clip400)\" style=\"stroke:#000000; stroke-linecap:round; stroke-linejoin:round; stroke-width:4; stroke-opacity:1; fill:none\" points=\"170.719,832.058 189.616,832.058 \"/>\n",
       "<polyline clip-path=\"url(#clip400)\" style=\"stroke:#000000; stroke-linecap:round; stroke-linejoin:round; stroke-width:4; stroke-opacity:1; fill:none\" points=\"170.719,598.526 189.616,598.526 \"/>\n",
       "<polyline clip-path=\"url(#clip400)\" style=\"stroke:#000000; stroke-linecap:round; stroke-linejoin:round; stroke-width:4; stroke-opacity:1; fill:none\" points=\"170.719,364.994 189.616,364.994 \"/>\n",
       "<polyline clip-path=\"url(#clip400)\" style=\"stroke:#000000; stroke-linecap:round; stroke-linejoin:round; stroke-width:4; stroke-opacity:1; fill:none\" points=\"170.719,131.461 189.616,131.461 \"/>\n",
       "<path clip-path=\"url(#clip400)\" d=\"M66.617 1297.77 Q69.9735 1298.49 71.8485 1300.75 Q73.7466 1303.02 73.7466 1306.36 Q73.7466 1311.47 70.2281 1314.27 Q66.7096 1317.07 60.2282 1317.07 Q58.0523 1317.07 55.7375 1316.63 Q53.4458 1316.22 50.9921 1315.36 L50.9921 1310.85 Q52.9366 1311.98 55.2514 1312.56 Q57.5662 1313.14 60.0893 1313.14 Q64.4874 1313.14 66.7791 1311.4 Q69.0939 1309.67 69.0939 1306.36 Q69.0939 1303.3 66.9411 1301.59 Q64.8115 1299.85 60.9921 1299.85 L56.9643 1299.85 L56.9643 1296.01 L61.1773 1296.01 Q64.6263 1296.01 66.455 1294.64 Q68.2837 1293.25 68.2837 1290.66 Q68.2837 1288 66.3856 1286.59 Q64.5106 1285.15 60.9921 1285.15 Q59.0708 1285.15 56.8717 1285.57 Q54.6727 1285.99 52.0338 1286.87 L52.0338 1282.7 Q54.6958 1281.96 57.0106 1281.59 Q59.3486 1281.22 61.4087 1281.22 Q66.7328 1281.22 69.8346 1283.65 Q72.9365 1286.06 72.9365 1290.18 Q72.9365 1293.05 71.2929 1295.04 Q69.6494 1297 66.617 1297.77 Z\" fill=\"#000000\" fill-rule=\"nonzero\" fill-opacity=\"1\" /><path clip-path=\"url(#clip400)\" d=\"M92.6123 1284.92 Q89.0012 1284.92 87.1725 1288.49 Q85.3669 1292.03 85.3669 1299.16 Q85.3669 1306.26 87.1725 1309.83 Q89.0012 1313.37 92.6123 1313.37 Q96.2465 1313.37 98.0521 1309.83 Q99.8808 1306.26 99.8808 1299.16 Q99.8808 1292.03 98.0521 1288.49 Q96.2465 1284.92 92.6123 1284.92 M92.6123 1281.22 Q98.4224 1281.22 101.478 1285.82 Q104.557 1290.41 104.557 1299.16 Q104.557 1307.88 101.478 1312.49 Q98.4224 1317.07 92.6123 1317.07 Q86.8021 1317.07 83.7234 1312.49 Q80.6679 1307.88 80.6679 1299.16 Q80.6679 1290.41 83.7234 1285.82 Q86.8021 1281.22 92.6123 1281.22 Z\" fill=\"#000000\" fill-rule=\"nonzero\" fill-opacity=\"1\" /><path clip-path=\"url(#clip400)\" d=\"M122.774 1284.92 Q119.163 1284.92 117.334 1288.49 Q115.529 1292.03 115.529 1299.16 Q115.529 1306.26 117.334 1309.83 Q119.163 1313.37 122.774 1313.37 Q126.408 1313.37 128.214 1309.83 Q130.043 1306.26 130.043 1299.16 Q130.043 1292.03 128.214 1288.49 Q126.408 1284.92 122.774 1284.92 M122.774 1281.22 Q128.584 1281.22 131.64 1285.82 Q134.719 1290.41 134.719 1299.16 Q134.719 1307.88 131.64 1312.49 Q128.584 1317.07 122.774 1317.07 Q116.964 1317.07 113.885 1312.49 Q110.83 1307.88 110.83 1299.16 Q110.83 1290.41 113.885 1285.82 Q116.964 1281.22 122.774 1281.22 Z\" fill=\"#000000\" fill-rule=\"nonzero\" fill-opacity=\"1\" /><path clip-path=\"url(#clip400)\" d=\"M66.617 1064.24 Q69.9735 1064.95 71.8485 1067.22 Q73.7466 1069.49 73.7466 1072.82 Q73.7466 1077.94 70.2281 1080.74 Q66.7096 1083.54 60.2282 1083.54 Q58.0523 1083.54 55.7375 1083.1 Q53.4458 1082.69 50.9921 1081.83 L50.9921 1077.32 Q52.9366 1078.45 55.2514 1079.03 Q57.5662 1079.61 60.0893 1079.61 Q64.4874 1079.61 66.7791 1077.87 Q69.0939 1076.13 69.0939 1072.82 Q69.0939 1069.77 66.9411 1068.06 Q64.8115 1066.32 60.9921 1066.32 L56.9643 1066.32 L56.9643 1062.48 L61.1773 1062.48 Q64.6263 1062.48 66.455 1061.11 Q68.2837 1059.72 68.2837 1057.13 Q68.2837 1054.47 66.3856 1053.06 Q64.5106 1051.62 60.9921 1051.62 Q59.0708 1051.62 56.8717 1052.04 Q54.6727 1052.45 52.0338 1053.33 L52.0338 1049.17 Q54.6958 1048.43 57.0106 1048.06 Q59.3486 1047.69 61.4087 1047.69 Q66.7328 1047.69 69.8346 1050.12 Q72.9365 1052.52 72.9365 1056.64 Q72.9365 1059.51 71.2929 1061.51 Q69.6494 1063.47 66.617 1064.24 Z\" fill=\"#000000\" fill-rule=\"nonzero\" fill-opacity=\"1\" /><path clip-path=\"url(#clip400)\" d=\"M83.4225 1078.94 L91.0614 1078.94 L91.0614 1052.57 L82.7512 1054.24 L82.7512 1049.98 L91.0151 1048.31 L95.691 1048.31 L95.691 1078.94 L103.33 1078.94 L103.33 1082.87 L83.4225 1082.87 L83.4225 1078.94 Z\" fill=\"#000000\" fill-rule=\"nonzero\" fill-opacity=\"1\" /><path clip-path=\"url(#clip400)\" d=\"M122.774 1051.39 Q119.163 1051.39 117.334 1054.95 Q115.529 1058.5 115.529 1065.63 Q115.529 1072.73 117.334 1076.3 Q119.163 1079.84 122.774 1079.84 Q126.408 1079.84 128.214 1076.3 Q130.043 1072.73 130.043 1065.63 Q130.043 1058.5 128.214 1054.95 Q126.408 1051.39 122.774 1051.39 M122.774 1047.69 Q128.584 1047.69 131.64 1052.29 Q134.719 1056.88 134.719 1065.63 Q134.719 1074.35 131.64 1078.96 Q128.584 1083.54 122.774 1083.54 Q116.964 1083.54 113.885 1078.96 Q110.83 1074.35 110.83 1065.63 Q110.83 1056.88 113.885 1052.29 Q116.964 1047.69 122.774 1047.69 Z\" fill=\"#000000\" fill-rule=\"nonzero\" fill-opacity=\"1\" /><path clip-path=\"url(#clip400)\" d=\"M66.617 830.704 Q69.9735 831.422 71.8485 833.69 Q73.7466 835.959 73.7466 839.292 Q73.7466 844.408 70.2281 847.209 Q66.7096 850.01 60.2282 850.01 Q58.0523 850.01 55.7375 849.57 Q53.4458 849.153 50.9921 848.297 L50.9921 843.783 Q52.9366 844.917 55.2514 845.496 Q57.5662 846.075 60.0893 846.075 Q64.4874 846.075 66.7791 844.338 Q69.0939 842.602 69.0939 839.292 Q69.0939 836.237 66.9411 834.524 Q64.8115 832.788 60.9921 832.788 L56.9643 832.788 L56.9643 828.945 L61.1773 828.945 Q64.6263 828.945 66.455 827.579 Q68.2837 826.19 68.2837 823.598 Q68.2837 820.936 66.3856 819.524 Q64.5106 818.089 60.9921 818.089 Q59.0708 818.089 56.8717 818.505 Q54.6727 818.922 52.0338 819.802 L52.0338 815.635 Q54.6958 814.894 57.0106 814.524 Q59.3486 814.153 61.4087 814.153 Q66.7328 814.153 69.8346 816.584 Q72.9365 818.991 72.9365 823.112 Q72.9365 825.982 71.2929 827.973 Q69.6494 829.94 66.617 830.704 Z\" fill=\"#000000\" fill-rule=\"nonzero\" fill-opacity=\"1\" /><path clip-path=\"url(#clip400)\" d=\"M86.6401 845.403 L102.959 845.403 L102.959 849.338 L81.0151 849.338 L81.0151 845.403 Q83.6771 842.649 88.2604 838.019 Q92.8669 833.366 94.0475 832.024 Q96.2928 829.501 97.1724 827.764 Q98.0752 826.005 98.0752 824.315 Q98.0752 821.561 96.1308 819.825 Q94.2095 818.089 91.1077 818.089 Q88.9086 818.089 86.4549 818.852 Q84.0244 819.616 81.2466 821.167 L81.2466 816.445 Q84.0707 815.311 86.5243 814.732 Q88.978 814.153 91.0151 814.153 Q96.3854 814.153 99.5798 816.839 Q102.774 819.524 102.774 824.014 Q102.774 826.144 101.964 828.065 Q101.177 829.963 99.0706 832.556 Q98.4919 833.227 95.39 836.445 Q92.2882 839.639 86.6401 845.403 Z\" fill=\"#000000\" fill-rule=\"nonzero\" fill-opacity=\"1\" /><path clip-path=\"url(#clip400)\" d=\"M122.774 817.857 Q119.163 817.857 117.334 821.422 Q115.529 824.964 115.529 832.093 Q115.529 839.2 117.334 842.764 Q119.163 846.306 122.774 846.306 Q126.408 846.306 128.214 842.764 Q130.043 839.2 130.043 832.093 Q130.043 824.964 128.214 821.422 Q126.408 817.857 122.774 817.857 M122.774 814.153 Q128.584 814.153 131.64 818.76 Q134.719 823.343 134.719 832.093 Q134.719 840.82 131.64 845.426 Q128.584 850.01 122.774 850.01 Q116.964 850.01 113.885 845.426 Q110.83 840.82 110.83 832.093 Q110.83 823.343 113.885 818.76 Q116.964 814.153 122.774 814.153 Z\" fill=\"#000000\" fill-rule=\"nonzero\" fill-opacity=\"1\" /><path clip-path=\"url(#clip400)\" d=\"M66.617 597.172 Q69.9735 597.89 71.8485 600.158 Q73.7466 602.427 73.7466 605.76 Q73.7466 610.876 70.2281 613.676 Q66.7096 616.477 60.2282 616.477 Q58.0523 616.477 55.7375 616.038 Q53.4458 615.621 50.9921 614.764 L50.9921 610.251 Q52.9366 611.385 55.2514 611.964 Q57.5662 612.542 60.0893 612.542 Q64.4874 612.542 66.7791 610.806 Q69.0939 609.07 69.0939 605.76 Q69.0939 602.704 66.9411 600.991 Q64.8115 599.255 60.9921 599.255 L56.9643 599.255 L56.9643 595.413 L61.1773 595.413 Q64.6263 595.413 66.455 594.047 Q68.2837 592.658 68.2837 590.065 Q68.2837 587.403 66.3856 585.991 Q64.5106 584.556 60.9921 584.556 Q59.0708 584.556 56.8717 584.973 Q54.6727 585.39 52.0338 586.269 L52.0338 582.103 Q54.6958 581.362 57.0106 580.991 Q59.3486 580.621 61.4087 580.621 Q66.7328 580.621 69.8346 583.052 Q72.9365 585.459 72.9365 589.579 Q72.9365 592.45 71.2929 594.44 Q69.6494 596.408 66.617 597.172 Z\" fill=\"#000000\" fill-rule=\"nonzero\" fill-opacity=\"1\" /><path clip-path=\"url(#clip400)\" d=\"M96.7789 597.172 Q100.135 597.89 102.01 600.158 Q103.909 602.427 103.909 605.76 Q103.909 610.876 100.39 613.676 Q96.8715 616.477 90.3901 616.477 Q88.2141 616.477 85.8993 616.038 Q83.6077 615.621 81.154 614.764 L81.154 610.251 Q83.0984 611.385 85.4132 611.964 Q87.728 612.542 90.2512 612.542 Q94.6493 612.542 96.941 610.806 Q99.2558 609.07 99.2558 605.76 Q99.2558 602.704 97.103 600.991 Q94.9734 599.255 91.1539 599.255 L87.1262 599.255 L87.1262 595.413 L91.3391 595.413 Q94.7882 595.413 96.6169 594.047 Q98.4456 592.658 98.4456 590.065 Q98.4456 587.403 96.5474 585.991 Q94.6724 584.556 91.1539 584.556 Q89.2327 584.556 87.0336 584.973 Q84.8345 585.39 82.1957 586.269 L82.1957 582.103 Q84.8577 581.362 87.1725 580.991 Q89.5104 580.621 91.5706 580.621 Q96.8947 580.621 99.9965 583.052 Q103.098 585.459 103.098 589.579 Q103.098 592.45 101.455 594.44 Q99.8113 596.408 96.7789 597.172 Z\" fill=\"#000000\" fill-rule=\"nonzero\" fill-opacity=\"1\" /><path clip-path=\"url(#clip400)\" d=\"M122.774 584.325 Q119.163 584.325 117.334 587.89 Q115.529 591.431 115.529 598.561 Q115.529 605.667 117.334 609.232 Q119.163 612.774 122.774 612.774 Q126.408 612.774 128.214 609.232 Q130.043 605.667 130.043 598.561 Q130.043 591.431 128.214 587.89 Q126.408 584.325 122.774 584.325 M122.774 580.621 Q128.584 580.621 131.64 585.228 Q134.719 589.811 134.719 598.561 Q134.719 607.288 131.64 611.894 Q128.584 616.477 122.774 616.477 Q116.964 616.477 113.885 611.894 Q110.83 607.288 110.83 598.561 Q110.83 589.811 113.885 585.228 Q116.964 580.621 122.774 580.621 Z\" fill=\"#000000\" fill-rule=\"nonzero\" fill-opacity=\"1\" /><path clip-path=\"url(#clip400)\" d=\"M66.617 363.64 Q69.9735 364.357 71.8485 366.626 Q73.7466 368.894 73.7466 372.228 Q73.7466 377.343 70.2281 380.144 Q66.7096 382.945 60.2282 382.945 Q58.0523 382.945 55.7375 382.505 Q53.4458 382.089 50.9921 381.232 L50.9921 376.718 Q52.9366 377.853 55.2514 378.431 Q57.5662 379.01 60.0893 379.01 Q64.4874 379.01 66.7791 377.274 Q69.0939 375.538 69.0939 372.228 Q69.0939 369.172 66.9411 367.459 Q64.8115 365.723 60.9921 365.723 L56.9643 365.723 L56.9643 361.88 L61.1773 361.88 Q64.6263 361.88 66.455 360.515 Q68.2837 359.126 68.2837 356.533 Q68.2837 353.871 66.3856 352.459 Q64.5106 351.024 60.9921 351.024 Q59.0708 351.024 56.8717 351.441 Q54.6727 351.857 52.0338 352.737 L52.0338 348.57 Q54.6958 347.83 57.0106 347.459 Q59.3486 347.089 61.4087 347.089 Q66.7328 347.089 69.8346 349.519 Q72.9365 351.927 72.9365 356.047 Q72.9365 358.917 71.2929 360.908 Q69.6494 362.876 66.617 363.64 Z\" fill=\"#000000\" fill-rule=\"nonzero\" fill-opacity=\"1\" /><path clip-path=\"url(#clip400)\" d=\"M95.4595 351.788 L83.654 370.237 L95.4595 370.237 L95.4595 351.788 M94.2326 347.714 L100.112 347.714 L100.112 370.237 L105.043 370.237 L105.043 374.126 L100.112 374.126 L100.112 382.274 L95.4595 382.274 L95.4595 374.126 L79.8577 374.126 L79.8577 369.612 L94.2326 347.714 Z\" fill=\"#000000\" fill-rule=\"nonzero\" fill-opacity=\"1\" /><path clip-path=\"url(#clip400)\" d=\"M122.774 350.792 Q119.163 350.792 117.334 354.357 Q115.529 357.899 115.529 365.028 Q115.529 372.135 117.334 375.7 Q119.163 379.241 122.774 379.241 Q126.408 379.241 128.214 375.7 Q130.043 372.135 130.043 365.028 Q130.043 357.899 128.214 354.357 Q126.408 350.792 122.774 350.792 M122.774 347.089 Q128.584 347.089 131.64 351.695 Q134.719 356.279 134.719 365.028 Q134.719 373.755 131.64 378.362 Q128.584 382.945 122.774 382.945 Q116.964 382.945 113.885 378.362 Q110.83 373.755 110.83 365.028 Q110.83 356.279 113.885 351.695 Q116.964 347.089 122.774 347.089 Z\" fill=\"#000000\" fill-rule=\"nonzero\" fill-opacity=\"1\" /><path clip-path=\"url(#clip400)\" d=\"M66.617 130.107 Q69.9735 130.825 71.8485 133.093 Q73.7466 135.362 73.7466 138.695 Q73.7466 143.811 70.2281 146.612 Q66.7096 149.413 60.2282 149.413 Q58.0523 149.413 55.7375 148.973 Q53.4458 148.556 50.9921 147.7 L50.9921 143.186 Q52.9366 144.32 55.2514 144.899 Q57.5662 145.478 60.0893 145.478 Q64.4874 145.478 66.7791 143.741 Q69.0939 142.005 69.0939 138.695 Q69.0939 135.64 66.9411 133.927 Q64.8115 132.191 60.9921 132.191 L56.9643 132.191 L56.9643 128.348 L61.1773 128.348 Q64.6263 128.348 66.455 126.982 Q68.2837 125.593 68.2837 123.001 Q68.2837 120.339 66.3856 118.927 Q64.5106 117.492 60.9921 117.492 Q59.0708 117.492 56.8717 117.908 Q54.6727 118.325 52.0338 119.205 L52.0338 115.038 Q54.6958 114.297 57.0106 113.927 Q59.3486 113.556 61.4087 113.556 Q66.7328 113.556 69.8346 115.987 Q72.9365 118.394 72.9365 122.515 Q72.9365 125.385 71.2929 127.376 Q69.6494 129.343 66.617 130.107 Z\" fill=\"#000000\" fill-rule=\"nonzero\" fill-opacity=\"1\" /><path clip-path=\"url(#clip400)\" d=\"M82.6586 114.181 L101.015 114.181 L101.015 118.117 L86.941 118.117 L86.941 126.589 Q87.9595 126.242 88.978 126.08 Q89.9965 125.894 91.0151 125.894 Q96.8021 125.894 100.182 129.066 Q103.561 132.237 103.561 137.654 Q103.561 143.232 100.089 146.334 Q96.6169 149.413 90.2975 149.413 Q88.1216 149.413 85.8531 149.042 Q83.6077 148.672 81.2003 147.931 L81.2003 143.232 Q83.2836 144.366 85.5058 144.922 Q87.728 145.478 90.2049 145.478 Q94.2095 145.478 96.5474 143.371 Q98.8854 141.265 98.8854 137.654 Q98.8854 134.042 96.5474 131.936 Q94.2095 129.83 90.2049 129.83 Q88.3299 129.83 86.4549 130.246 Q84.6031 130.663 82.6586 131.542 L82.6586 114.181 Z\" fill=\"#000000\" fill-rule=\"nonzero\" fill-opacity=\"1\" /><path clip-path=\"url(#clip400)\" d=\"M122.774 117.26 Q119.163 117.26 117.334 120.825 Q115.529 124.367 115.529 131.496 Q115.529 138.603 117.334 142.167 Q119.163 145.709 122.774 145.709 Q126.408 145.709 128.214 142.167 Q130.043 138.603 130.043 131.496 Q130.043 124.367 128.214 120.825 Q126.408 117.26 122.774 117.26 M122.774 113.556 Q128.584 113.556 131.64 118.163 Q134.719 122.746 134.719 131.496 Q134.719 140.223 131.64 144.829 Q128.584 149.413 122.774 149.413 Q116.964 149.413 113.885 144.829 Q110.83 140.223 110.83 131.496 Q110.83 122.746 113.885 118.163 Q116.964 113.556 122.774 113.556 Z\" fill=\"#000000\" fill-rule=\"nonzero\" fill-opacity=\"1\" /><polyline clip-path=\"url(#clip402)\" style=\"stroke:#009af9; stroke-linecap:round; stroke-linejoin:round; stroke-width:4; stroke-opacity:1; fill:none\" points=\"170.719,131.461 172.903,190.63 175.087,246.691 177.271,299.813 179.455,350.155 181.64,397.867 183.824,443.092 186.008,485.966 188.192,526.615 190.377,565.159 192.561,601.712 194.745,636.378 196.929,669.256 199.113,700.443 201.298,730.027 203.482,758.096 205.666,784.73 207.85,810.006 210.035,833.995 212.219,856.768 214.403,878.388 216.587,898.912 218.771,918.398 220.956,936.899 223.14,954.466 225.324,971.148 227.508,986.991 229.693,1002.04 231.877,1016.34 234.061,1029.92 236.245,1042.83 238.429,1055.1 240.614,1066.77 242.798,1077.85 244.982,1088.39 247.166,1098.41 249.351,1107.94 251.535,1116.99 253.719,1125.6 255.903,1133.79 258.087,1141.57 260.272,1148.97 262.456,1156.01 264.64,1162.71 266.824,1169.08 269.009,1175.15 271.193,1180.92 273.377,1186.42 275.561,1191.66 277.745,1196.65 279.93,1201.39 282.114,1205.91 284.298,1210.21 286.482,1214.31 288.666,1218.21 290.851,1221.92 293.035,1225.45 295.219,1228.81 297.403,1232.02 299.588,1235.07 301.772,1237.97 303.956,1240.74 306.14,1243.38 308.324,1245.89 310.509,1248.29 312.693,1250.58 314.877,1252.76 317.061,1254.85 319.246,1256.84 321.43,1258.74 323.614,1260.55 325.798,1262.27 327.982,1263.92 330.167,1265.49 332.351,1266.98 334.535,1268.41 336.719,1269.77 338.904,1271.06 341.088,1272.3 343.272,1273.48 345.456,1274.6 347.64,1275.67 349.825,1276.69 352.009,1277.67 354.193,1278.6 356.377,1279.49 358.562,1280.33 360.746,1281.15 362.93,1281.92 365.114,1282.67 367.298,1283.38 369.483,1284.06 371.667,1284.71 373.851,1285.33 376.035,1285.93 378.22,1286.5 380.404,1287.05 382.588,1287.57 384.772,1288.06 386.956,1288.54 389.141,1288.99 391.325,1289.42 393.509,1289.83 395.693,1290.23 397.878,1290.6 400.062,1290.96 402.246,1291.3 404.43,1291.63 406.614,1291.94 408.799,1292.24 410.983,1292.52 413.167,1292.79 415.351,1293.05 417.536,1293.3 419.72,1293.54 421.904,1293.76 424.088,1293.98 426.272,1294.19 428.457,1294.39 430.641,1294.59 432.825,1294.78 435.009,1294.96 437.194,1295.13 439.378,1295.3 441.562,1295.46 443.746,1295.61 445.93,1295.75 448.115,1295.9 450.299,1296.03 452.483,1296.16 454.667,1296.28 456.852,1296.4 459.036,1296.51 461.22,1296.62 463.404,1296.72 465.588,1296.82 467.773,1296.91 469.957,1297 472.141,1297.09 474.325,1297.17 476.51,1297.24 478.694,1297.32 480.878,1297.39 483.062,1297.45 485.246,1297.52 487.431,1297.58 489.615,1297.64 491.799,1297.69 493.983,1297.74 496.168,1297.8 498.352,1297.84 500.536,1297.89 502.72,1297.94 504.904,1297.98 507.089,1298.02 509.273,1298.07 511.457,1298.11 513.641,1298.15 515.826,1298.18 518.01,1298.22 520.194,1298.26 522.378,1298.29 524.562,1298.33 526.747,1298.36 528.931,1298.39 531.115,1298.42 533.299,1298.45 535.484,1298.48 537.668,1298.5 539.852,1298.53 542.036,1298.55 544.22,1298.58 546.405,1298.6 548.589,1298.62 550.773,1298.64 552.957,1298.66 555.142,1298.68 557.326,1298.7 559.51,1298.71 561.694,1298.73 563.878,1298.75 566.063,1298.76 568.247,1298.77 570.431,1298.79 572.615,1298.8 574.8,1298.81 576.984,1298.82 579.168,1298.83 581.352,1298.84 583.536,1298.85 585.721,1298.86 587.905,1298.87 590.089,1298.87 592.273,1298.88 594.458,1298.89 596.642,1298.89 598.826,1298.9 601.01,1298.91 603.194,1298.91 605.379,1298.92 607.563,1298.92 609.747,1298.93 611.931,1298.94 614.116,1298.94 616.3,1298.95 618.484,1298.95 620.668,1298.96 622.852,1298.97 625.037,1298.97 627.221,1298.98 629.405,1298.98 631.589,1298.99 633.774,1298.99 635.958,1299 638.142,1299 640.326,1299.01 642.51,1299.01 644.695,1299.02 646.879,1299.02 649.063,1299.03 651.247,1299.03 653.432,1299.04 655.616,1299.04 657.8,1299.05 659.984,1299.05 662.168,1299.05 664.353,1299.06 666.537,1299.06 668.721,1299.06 670.905,1299.07 673.089,1299.07 675.274,1299.07 677.458,1299.07 679.642,1299.08 681.826,1299.08 684.011,1299.08 686.195,1299.08 688.379,1299.08 690.563,1299.09 692.747,1299.09 694.932,1299.09 697.116,1299.09 699.3,1299.09 701.484,1299.09 703.669,1299.09 705.853,1299.09 708.037,1299.09 710.221,1299.09 712.405,1299.09 714.59,1299.09 716.774,1299.09 718.958,1299.09 721.142,1299.09 723.327,1299.09 725.511,1299.09 727.695,1299.09 729.879,1299.09 732.063,1299.09 734.248,1299.09 736.432,1299.09 738.616,1299.09 740.8,1299.09 742.985,1299.09 745.169,1299.09 747.353,1299.09 749.537,1299.09 751.721,1299.09 753.906,1299.09 756.09,1299.09 758.274,1299.1 760.458,1299.1 762.643,1299.1 764.827,1299.1 767.011,1299.1 769.195,1299.1 771.379,1299.1 773.564,1299.1 775.748,1299.1 777.932,1299.1 780.116,1299.1 782.301,1299.1 784.485,1299.11 786.669,1299.11 788.853,1299.11 791.037,1299.11 793.222,1299.11 795.406,1299.11 797.59,1299.11 799.774,1299.11 801.959,1299.11 804.143,1299.11 806.327,1299.11 808.511,1299.12 810.695,1299.12 812.88,1299.12 815.064,1299.12 817.248,1299.12 819.432,1299.12 821.617,1299.12 823.801,1299.12 825.985,1299.12 828.169,1299.12 830.353,1299.12 832.538,1299.12 834.722,1299.12 836.906,1299.12 839.09,1299.12 841.275,1299.12 843.459,1299.13 845.643,1299.13 847.827,1299.13 850.011,1299.13 852.196,1299.13 854.38,1299.13 856.564,1299.13 858.748,1299.13 860.933,1299.13 863.117,1299.13 865.301,1299.13 867.485,1299.13 869.669,1299.13 871.854,1299.13 874.038,1299.13 876.222,1299.13 878.406,1299.13 880.591,1299.13 882.775,1299.13 884.959,1299.13 887.143,1299.13 889.327,1299.13 891.512,1299.13 893.696,1299.12 895.88,1299.12 898.064,1299.12 900.249,1299.12 902.433,1299.12 904.617,1299.12 906.801,1299.12 908.985,1299.12 911.17,1299.12 913.354,1299.12 915.538,1299.12 917.722,1299.12 919.907,1299.12 922.091,1299.12 924.275,1299.12 926.459,1299.12 928.643,1299.12 930.828,1299.12 933.012,1299.12 935.196,1299.12 937.38,1299.12 939.565,1299.12 941.749,1299.12 943.933,1299.11 946.117,1299.11 948.301,1299.11 950.486,1299.11 952.67,1299.11 954.854,1299.11 957.038,1299.11 959.223,1299.11 961.407,1299.11 963.591,1299.11 965.775,1299.11 967.959,1299.11 970.144,1299.11 972.328,1299.11 974.512,1299.11 976.696,1299.11 978.881,1299.11 981.065,1299.12 983.249,1299.12 985.433,1299.12 987.617,1299.12 989.802,1299.12 991.986,1299.12 994.17,1299.12 996.354,1299.12 998.539,1299.12 1000.72,1299.12 1002.91,1299.12 1005.09,1299.12 1007.28,1299.12 1009.46,1299.12 1011.64,1299.12 1013.83,1299.12 1016.01,1299.12 1018.2,1299.12 1020.38,1299.12 1022.56,1299.12 1024.75,1299.12 1026.93,1299.12 1029.12,1299.12 1031.3,1299.12 1033.49,1299.12 1035.67,1299.12 1037.85,1299.12 1040.04,1299.12 1042.22,1299.12 1044.41,1299.12 1046.59,1299.12 1048.78,1299.12 1050.96,1299.12 1053.14,1299.12 1055.33,1299.12 1057.51,1299.12 1059.7,1299.12 1061.88,1299.12 1064.07,1299.12 1066.25,1299.12 1068.43,1299.12 1070.62,1299.12 1072.8,1299.12 1074.99,1299.12 1077.17,1299.12 1079.35,1299.12 1081.54,1299.12 1083.72,1299.12 1085.91,1299.12 1088.09,1299.12 1090.28,1299.12 1092.46,1299.12 1094.64,1299.12 1096.83,1299.12 1099.01,1299.12 1101.2,1299.12 1103.38,1299.12 1105.57,1299.12 1107.75,1299.12 1109.93,1299.12 1112.12,1299.12 1114.3,1299.12 1116.49,1299.12 1118.67,1299.12 1120.85,1299.12 1123.04,1299.12 1125.22,1299.12 1127.41,1299.12 1129.59,1299.12 1131.78,1299.12 1133.96,1299.12 1136.14,1299.12 1138.33,1299.12 1140.51,1299.12 1142.7,1299.12 1144.88,1299.12 1147.07,1299.12 1149.25,1299.12 1151.43,1299.12 1153.62,1299.12 1155.8,1299.12 1157.99,1299.12 1160.17,1299.12 1162.36,1299.12 1164.54,1299.12 1166.72,1299.12 1168.91,1299.12 1171.09,1299.12 1173.28,1299.12 1175.46,1299.12 1177.64,1299.12 1179.83,1299.12 1182.01,1299.12 1184.2,1299.12 1186.38,1299.12 1188.57,1299.12 1190.75,1299.13 1192.93,1299.13 1195.12,1299.13 1197.3,1299.13 1199.49,1299.13 1201.67,1299.14 1203.86,1299.14 1206.04,1299.14 1208.22,1299.15 1210.41,1299.15 1212.59,1299.15 1214.78,1299.16 1216.96,1299.16 1219.14,1299.17 1221.33,1299.17 1223.51,1299.17 1225.7,1299.18 1227.88,1299.18 1230.07,1299.19 1232.25,1299.19 1234.43,1299.2 1236.62,1299.2 1238.8,1299.2 1240.99,1299.21 1243.17,1299.21 1245.36,1299.22 1247.54,1299.22 1249.72,1299.23 1251.91,1299.23 1254.09,1299.24 1256.28,1299.24 1258.46,1299.24 1260.65,1299.25 1262.83,1299.25 1265.01,1299.26 1267.2,1299.26 1269.38,1299.27 1271.57,1299.27 1273.75,1299.27 1275.93,1299.28 1278.12,1299.28 1280.3,1299.28 1282.49,1299.29 1284.67,1299.29 1286.86,1299.29 1289.04,1299.3 1291.22,1299.3 1293.41,1299.3 1295.59,1299.3 1297.78,1299.31 1299.96,1299.31 1302.15,1299.31 1304.33,1299.31 1306.51,1299.31 1308.7,1299.31 1310.88,1299.31 1313.07,1299.32 1315.25,1299.32 1317.43,1299.32 1319.62,1299.32 1321.8,1299.32 1323.99,1299.32 1326.17,1299.32 1328.36,1299.32 1330.54,1299.32 1332.72,1299.32 1334.91,1299.31 1337.09,1299.31 1339.28,1299.31 1341.46,1299.31 1343.65,1299.31 1345.83,1299.31 1348.01,1299.3 1350.2,1299.3 1352.38,1299.3 1354.57,1299.3 1356.75,1299.29 1358.94,1299.29 1361.12,1299.29 1363.3,1299.28 1365.49,1299.28 1367.67,1299.27 1369.86,1299.27 1372.04,1299.27 1374.22,1299.26 1376.41,1299.26 1378.59,1299.25 1380.78,1299.25 1382.96,1299.24 1385.15,1299.24 1387.33,1299.23 1389.51,1299.22 1391.7,1299.22 1393.88,1299.21 1396.07,1299.21 1398.25,1299.2 1400.44,1299.19 1402.62,1299.19 1404.8,1299.18 1406.99,1299.17 1409.17,1299.17 1411.36,1299.16 1413.54,1299.15 1415.72,1299.15 1417.91,1299.14 1420.09,1299.13 1422.28,1299.12 1424.46,1299.12 1426.65,1299.11 1428.83,1299.1 1431.01,1299.09 1433.2,1299.08 1435.38,1299.08 1437.57,1299.07 1439.75,1299.06 1441.94,1299.05 1444.12,1299.05 1446.3,1299.04 1448.49,1299.03 1450.67,1299.02 1452.86,1299.01 1455.04,1299.01 1457.23,1299 1459.41,1298.99 1461.59,1298.98 1463.78,1298.98 1465.96,1298.97 1468.15,1298.96 1470.33,1298.96 1472.51,1298.95 1474.7,1298.94 1476.88,1298.94 1479.07,1298.93 1481.25,1298.92 1483.44,1298.92 1485.62,1298.91 1487.8,1298.91 1489.99,1298.9 1492.17,1298.9 1494.36,1298.89 1496.54,1298.89 1498.73,1298.88 1500.91,1298.88 1503.09,1298.88 1505.28,1298.87 1507.46,1298.87 1509.65,1298.87 1511.83,1298.87 1514.01,1298.86 1516.2,1298.86 1518.38,1298.86 1520.57,1298.86 1522.75,1298.86 1524.94,1298.86 1527.12,1298.86 1529.3,1298.87 1531.49,1298.87 1533.67,1298.87 1535.86,1298.87 1538.04,1298.88 1540.23,1298.88 1542.41,1298.89 1544.59,1299.05 1546.78,1299.77 1548.96,1301.05 1551.15,1302.83 1553.33,1305.05 1555.52,1307.67 1557.7,1310.64 1559.88,1313.92 1562.07,1317.45 1564.25,1321.2 1566.44,1325.12 1568.62,1329.17 1570.8,1333.31 1572.99,1337.51 1575.17,1341.71 1577.36,1345.89 1579.54,1350.01 1581.73,1354.03 1583.91,1357.93 1586.09,1361.67 1588.28,1365.21 1590.46,1368.54 1592.65,1371.62 1594.83,1374.42 1597.02,1376.92 1599.2,1379.09 1601.38,1380.9 1603.57,1382.35 1605.75,1383.4 1607.94,1384.04 1610.12,1384.24 1612.3,1383.99 1614.49,1383.27 1616.67,1382.07 1618.86,1380.37 1621.04,1378.16 1623.23,1375.42 1625.41,1372.16 1627.59,1368.35 1629.78,1363.99 1631.96,1359.08 1634.15,1353.6 1636.33,1347.55 1638.52,1340.93 1640.7,1333.74 1642.88,1325.98 1645.07,1317.64 1647.25,1308.72 1649.44,1299.24 1651.62,1289.19 1653.8,1278.59 1655.99,1267.42 1658.17,1255.71 1660.36,1243.46 1662.54,1230.68 1664.73,1217.38 1666.91,1203.58 1669.09,1189.28 1671.28,1174.51 1673.46,1159.27 1675.65,1143.59 1677.83,1127.48 1680.02,1110.97 1682.2,1094.07 1684.38,1076.8 1686.57,1059.19 1688.75,1041.26 1690.94,1023.04 1693.12,1004.55 1695.31,985.829 1697.49,966.895 1699.67,947.781 1701.86,928.52 1704.04,909.143 1706.23,889.685 1708.41,870.18 1710.59,850.665 1712.78,831.177 1714.96,811.754 1717.15,792.436 1719.33,773.264 1721.52,754.28 1723.7,735.528 1725.88,717.052 1728.07,698.898 1730.25,681.113 1732.44,663.744 1734.62,646.841 1736.81,630.455 1738.99,614.638 1741.17,599.441 1743.36,584.92 1745.54,571.129 1747.73,558.126 1749.91,545.967 1752.09,534.713 1754.28,524.318 1756.46,514.21 1758.65,504.29 1760.83,494.555 1763.02,485.006 1765.2,475.641 1767.38,466.46 1769.57,457.461 1771.75,448.644 1773.94,440.007 1776.12,431.548 1778.31,423.268 1780.49,415.164 1782.67,407.235 1784.86,399.48 1787.04,391.897 1789.23,384.485 1791.41,377.242 1793.6,370.167 1795.78,363.259 1797.96,356.514 1800.15,349.933 1802.33,343.512 1804.52,337.251 1806.7,331.146 1808.88,325.197 1811.07,319.402 1813.25,313.758 1815.44,308.263 1817.62,302.915 1819.81,297.713 1821.99,292.653 1824.17,287.734 1826.36,282.953 1828.54,278.308 1830.73,273.796 1832.91,269.415 1835.1,265.163 1837.28,261.037 1839.46,257.035 1841.65,253.153 1843.83,249.389 1846.02,245.741 1848.2,242.205 1850.38,238.778 1852.57,235.459 1854.75,232.243 1856.94,229.128 1859.12,226.111 1861.31,223.189 1863.49,220.358 1865.67,217.616 1867.86,214.959 1870.04,212.384 1872.23,209.887 1874.41,207.466 1876.6,205.116 1878.78,202.835 1880.96,200.618 1883.15,198.463 1885.33,196.365 1887.52,194.321 1889.7,192.328 1891.89,190.381 1894.07,188.476 1896.25,186.61 1898.44,184.78 1900.62,182.979 1902.81,181.206 1904.99,179.456 1907.17,177.724 1909.36,176.007 1911.54,174.301 1913.73,172.6 1915.91,170.901 1918.1,169.2 1920.28,167.492 1922.46,165.772 1924.65,164.037 1926.83,162.289 1929.02,160.57 1931.2,158.884 1933.39,157.231 1935.57,155.611 1937.75,154.022 1939.94,152.466 1942.12,150.942 1944.31,149.448 1946.49,147.986 1948.67,146.555 1950.86,145.154 1953.04,143.782 1955.23,142.441 1957.41,141.128 1959.6,139.845 1961.78,138.59 1963.96,137.363 1966.15,136.164 1968.33,134.993 1970.52,133.848 1972.7,132.731 1974.89,131.639 1977.07,130.574 1979.25,129.534 1981.44,128.519 1983.62,127.53 1985.81,126.564 1987.99,125.622 1990.18,124.704 1992.36,123.809 1994.54,122.937 1996.73,122.087 1998.91,121.259 2001.1,120.453 2003.28,119.667 2005.46,118.902 2007.65,118.157 2009.83,117.432 2012.02,116.726 2014.2,116.039 2016.39,115.371 2018.57,114.72 2020.75,114.086 2022.94,113.47 2025.12,112.87 2027.31,112.287 2029.49,111.719 2031.68,111.165 2033.86,110.627 2036.04,110.103 2038.23,109.592 2040.41,109.095 2042.6,108.61 2044.78,108.137 2046.96,107.676 2049.15,107.226 2051.33,106.787 2053.52,106.358 2055.7,105.938 2057.89,105.528 2060.07,105.126 2062.25,104.732 2064.44,104.345 2066.62,103.966 2068.81,103.593 2070.99,103.226 2073.18,102.864 2075.36,102.507 2077.54,102.154 2079.73,101.805 2081.91,101.458 2084.1,101.115 2086.28,100.773 2088.47,100.433 2090.65,100.096 2092.83,99.7633 2095.02,99.4359 2097.2,99.1134 2099.39,98.7958 2101.57,98.4832 2103.75,98.1756 2105.94,97.8729 2108.12,97.5754 2110.31,97.2828 2112.49,96.9953 2114.68,96.7129 2116.86,96.4356 2119.04,96.1634 2121.23,95.8962 2123.41,95.6342 2125.6,95.3773 2127.78,95.1254 2129.97,94.8787 2132.15,94.637 2134.33,94.4004 2136.52,94.1689 2138.7,93.9425 2140.89,93.7211 2143.07,93.5047 2145.25,93.2933 2147.44,93.0868 2149.62,92.8854 2151.81,92.6889 2153.99,92.4972 2156.18,92.3104 2158.36,92.1285 2160.54,91.9513 2162.73,91.7789 2164.91,91.6113 2167.1,91.4482 2169.28,91.2898 2171.47,91.136 2173.65,90.9867 2175.83,90.8419 2178.02,90.7015 2180.2,90.5654 2182.39,90.4336 2184.57,90.3061 2186.76,90.1827 2188.94,90.0635 2191.12,89.9483 2193.31,89.837 2195.49,89.7296 2197.68,89.626 2199.86,89.5262 2202.04,89.43 2204.23,89.3373 2206.41,89.2482 2208.6,89.1624 2210.78,89.0799 2212.97,89.0006 2215.15,88.9245 2217.33,88.8513 2219.52,88.7811 2221.7,88.7137 2223.89,88.6489 2226.07,88.5868 2228.26,88.5272 2230.44,88.4699 2232.62,88.4149 2234.81,88.3621 2236.99,88.3112 2239.18,88.2623 2241.36,88.2152 2243.54,88.1697 2245.73,88.1257 2247.91,88.0831 2250.1,88.0418 2252.28,88.0016 2254.47,87.9625 2256.65,87.9241 2258.83,87.8865 2261.02,87.8494 2263.2,87.8127 2265.39,87.7763 2267.57,87.7401 2269.76,87.7037 2271.94,87.6672 2274.12,87.6303 2276.31,87.593 2278.49,87.5549 2280.68,87.516 2282.86,87.476 2285.05,87.4349 2287.23,87.3924 2289.41,87.3484 2291.6,87.3027 2293.78,87.255 2295.97,87.2054 2298.15,87.1549 2300.33,87.1055 2302.52,87.0572 2304.7,87.0098 2306.89,86.9635 2309.07,86.9181 2311.26,86.8737 2313.44,86.8302 2315.62,86.7876 2317.81,86.7459 2319.99,86.7051 2322.18,86.6651 2324.36,86.626 2326.55,86.5877 2328.73,86.5501 2330.91,86.5134 2333.1,86.4775 2335.28,86.4422 2337.47,86.4078 2339.65,86.374 2341.83,86.3409 2344.02,86.3086 2346.2,86.2769 2348.39,86.2458 2350.57,86.2154 2352.76,86.1857 \"/>\n",
       "<path clip-path=\"url(#clip400)\" d=\"M1960.27 1377.32 L2280.02 1377.32 L2280.02 1273.64 L1960.27 1273.64  Z\" fill=\"#ffffff\" fill-rule=\"evenodd\" fill-opacity=\"1\"/>\n",
       "<polyline clip-path=\"url(#clip400)\" style=\"stroke:#000000; stroke-linecap:round; stroke-linejoin:round; stroke-width:4; stroke-opacity:1; fill:none\" points=\"1960.27,1377.32 2280.02,1377.32 2280.02,1273.64 1960.27,1273.64 1960.27,1377.32 \"/>\n",
       "<polyline clip-path=\"url(#clip400)\" style=\"stroke:#009af9; stroke-linecap:round; stroke-linejoin:round; stroke-width:4; stroke-opacity:1; fill:none\" points=\"1984.51,1325.48 2129.98,1325.48 \"/>\n",
       "<path clip-path=\"url(#clip400)\" d=\"M2154.23 1308.2 L2183.46 1308.2 L2183.46 1312.13 L2171.19 1312.13 L2171.19 1342.76 L2166.49 1342.76 L2166.49 1312.13 L2154.23 1312.13 L2154.23 1308.2 Z\" fill=\"#000000\" fill-rule=\"nonzero\" fill-opacity=\"1\" /><path clip-path=\"url(#clip400)\" d=\"M2189.78 1319.82 Q2186.36 1319.82 2184.36 1322.5 Q2182.37 1325.16 2182.37 1329.82 Q2182.37 1334.47 2184.34 1337.15 Q2186.33 1339.82 2189.78 1339.82 Q2193.18 1339.82 2195.17 1337.13 Q2197.17 1334.45 2197.17 1329.82 Q2197.17 1325.21 2195.17 1322.52 Q2193.18 1319.82 2189.78 1319.82 M2189.78 1316.2 Q2195.34 1316.2 2198.51 1319.82 Q2201.68 1323.43 2201.68 1329.82 Q2201.68 1336.18 2198.51 1339.82 Q2195.34 1343.43 2189.78 1343.43 Q2184.2 1343.43 2181.03 1339.82 Q2177.88 1336.18 2177.88 1329.82 Q2177.88 1323.43 2181.03 1319.82 Q2184.2 1316.2 2189.78 1316.2 Z\" fill=\"#000000\" fill-rule=\"nonzero\" fill-opacity=\"1\" /><path clip-path=\"url(#clip400)\" d=\"M2218.97 1306.78 Q2215.87 1312.11 2214.36 1317.32 Q2212.86 1322.52 2212.86 1327.87 Q2212.86 1333.22 2214.36 1338.47 Q2215.89 1343.7 2218.97 1349.01 L2215.27 1349.01 Q2211.8 1343.57 2210.06 1338.31 Q2208.35 1333.06 2208.35 1327.87 Q2208.35 1322.71 2210.06 1317.48 Q2211.77 1312.25 2215.27 1306.78 L2218.97 1306.78 Z\" fill=\"#000000\" fill-rule=\"nonzero\" fill-opacity=\"1\" /><path clip-path=\"url(#clip400)\" d=\"M2231.45 1309.47 L2231.45 1316.83 L2240.22 1316.83 L2240.22 1320.14 L2231.45 1320.14 L2231.45 1334.21 Q2231.45 1337.38 2232.3 1338.29 Q2233.18 1339.19 2235.85 1339.19 L2240.22 1339.19 L2240.22 1342.76 L2235.85 1342.76 Q2230.92 1342.76 2229.04 1340.93 Q2227.17 1339.07 2227.17 1334.21 L2227.17 1320.14 L2224.04 1320.14 L2224.04 1316.83 L2227.17 1316.83 L2227.17 1309.47 L2231.45 1309.47 Z\" fill=\"#000000\" fill-rule=\"nonzero\" fill-opacity=\"1\" /><path clip-path=\"url(#clip400)\" d=\"M2245.15 1306.78 L2248.86 1306.78 Q2252.33 1312.25 2254.04 1317.48 Q2255.78 1322.71 2255.78 1327.87 Q2255.78 1333.06 2254.04 1338.31 Q2252.33 1343.57 2248.86 1349.01 L2245.15 1349.01 Q2248.23 1343.7 2249.73 1338.47 Q2251.26 1333.22 2251.26 1327.87 Q2251.26 1322.52 2249.73 1317.32 Q2248.23 1312.11 2245.15 1306.78 Z\" fill=\"#000000\" fill-rule=\"nonzero\" fill-opacity=\"1\" /></svg>\n"
      ]
     },
     "metadata": {},
     "output_type": "display_data"
    }
   ],
   "source": [
    "using ModelingToolkit, OrdinaryDiffEq, Plots, DifferentialEquations\n",
    "\n",
    "@variables t To(t) V(t) qf(t) q(t) Tf(t)\n",
    "D = Differential(t)\n",
    "\n",
    "\n",
    "qfun(t) = t > 5.0 ? 5.10 : 5.20\n",
    "Tfeed(t) = t > 7.0 ? 352 : 300\n",
    "qou(t) = 5.0\n",
    "\n",
    "@register_symbolic qfun(t)\n",
    "@register_symbolic Tfeed(t)\n",
    "@register_symbolic qou(t)\n",
    "\n",
    "eqs = [qf ~ qfun(t),\n",
    "        Tf ~ Tfeed(t),\n",
    "        q ~ qou(t),\n",
    "        D(V) ~ qf - q,\n",
    "        D(To) ~ (qf*Tf-q*To)/V - To*D(V)/V]\n",
    "\n",
    "\n",
    "@named sys = ODESystem(eqs)\n",
    "sys = structural_simplify(sys)\n",
    "\n",
    "u0 = [To =>350\n",
    "    V => 1.0]\n",
    "\n",
    "prob = ODEProblem(sys, u0, (0.0, 10.0))\n",
    "\n",
    "plot(solve(prob), vars = To)\n"
   ]
  },
  {
   "cell_type": "code",
   "execution_count": null,
   "metadata": {},
   "outputs": [],
   "source": [
    "using ModelingToolkit, OrdinaryDiffEq, Plots, DifferentialEquations\n",
    "\n",
    "@variables t Tc(t) Th(t) V(t) Ch(t) Cc(t) Tci(t) Thi(t)\n",
    "D = Differential(t)\n",
    "\n",
    "\n",
    "\n",
    "qfun(t) = t > 5.0 ? 5.10 : 5.20\n",
    "Tfeed(t) = t > 7.0 ? 352 : 300\n",
    "qou(t) = 5.0\n",
    "\n",
    "@register_symbolic qfun(t)\n",
    "@register_symbolic Tfeed(t)\n",
    "@register_symbolic qou(t)\n",
    "\n",
    "eqs = [qf ~ qfun(t),\n",
    "        Tf ~ Tfeed(t),\n",
    "        q ~ qou(t),\n",
    "        D(V) ~ qf - q,\n",
    "        D(To) ~ (qf*Tf-q*To)/V - To*D(V)/V]\n",
    "\n",
    "\n",
    "@named sys = ODESystem(eqs)\n",
    "sys = structural_simplify(sys)\n",
    "\n",
    "u0 = [To =>350\n",
    "    V => 1.0]\n",
    "\n",
    "prob = ODEProblem(sys, u0, (0.0, 10.0))\n",
    "\n",
    "plot(solve(prob), vars = To)\n"
   ]
  },
  {
   "cell_type": "code",
   "execution_count": null,
   "metadata": {},
   "outputs": [],
   "source": [
    "using ModelingToolkit, OrdinaryDiffEq, Plots, DifferentialEquations\n",
    "@parameters m cp\n",
    "@variables t Q̇(t) T(t)\n",
    "\n",
    "D = Differential(t)\n",
    "\n",
    "qfun(t) = t < 30 ? 4.28 * t/30 : 4.28\n",
    "@register_symbolic qfun(t)\n",
    "\n",
    "eqs = [\n",
    "    D(T) ~ Q̇/(m*cp),\n",
    "    Q̇ ~ qfun(t)\n",
    "]\n",
    "\n",
    "u0 = [T => 18,\n",
    "        Q̇ => 0.0]\n",
    "\n",
    "p = [m => 3.0,\n",
    "    cp => 4.182\n",
    "]\n",
    "@named sys = ODESystem(eqs)\n",
    "sys = structural_simplify(sys)\n",
    "\n",
    "\n",
    "prob = ODEProblem(sys, u0, (0.0, 120.0), p)\n",
    "sol = solve(prob)\n",
    "plot(sol, vars = T)\n",
    "\n"
   ]
  },
  {
   "attachments": {},
   "cell_type": "markdown",
   "metadata": {},
   "source": [
    "## USING MODELING TOOLKIT\n",
    "#### Defining domains and energy ports"
   ]
  },
  {
   "cell_type": "code",
   "execution_count": null,
   "metadata": {},
   "outputs": [],
   "source": [
    "using ModelingToolkit, OrdinaryDiffEq, Plots, DifferentialEquations\n",
    "@variables t\n",
    "\n",
    "@connector function FlowPin(; name)\n",
    "    sts = @variables T(t)=300.0 P(t)=20.0 ṁ(t)=1.0 [connect = Flow]\n",
    "    ODESystem(Equation[], t, sts, []; name = name)\n",
    "end\n",
    "\n",
    "@component function FlowPort(; name)\n",
    "    @named fp = FlowPin()\n",
    "    @named fn = FlowPin()\n",
    "    sts = @variables T(t) = 1.0 P(t)=1.0 ṁ(t)=1.0\n",
    "    eqs = [ T ~ fp.T - fn.T\n",
    "            P ~ fp.P - fn.P\n",
    "            0 ~ fp.ṁ - fn.ṁ\n",
    "            ṁ ~ fp.ṁ]\n",
    "    compose(ODESystem(eqs, t, sts, []; name = name), fp, fn)\n",
    "end\n",
    "\n",
    "@connector function HeatPin(; name)\n",
    "    sts = @variables Q̇(t) = 1.0\n",
    "    ODESystem(Equation[], t, sts, []; name = name)\n",
    "end\n",
    "\n",
    "@component function HeatPort(; name)\n",
    "    @named qp = HeatPin()\n",
    "    @named qn = HeatPin()\n",
    "    sts = @variables Q̇(t) = 1.0\n",
    "    eqs = [0 ~ qp.Q̇ - qn.Q̇\n",
    "            Q̇ ~ qp.Q̇]\n",
    "    compose(ODESystem(eqs, t, sts, []; name = name), qp, qn)\n",
    "end\n",
    "\n",
    "@connector function WorkPin(; name)\n",
    "    sts = @variables Ẇ(t) = 1.0\n",
    "    ODESystem(Equation[], t, sts, []; name = name)\n",
    "end\n",
    "\n",
    "@component function WorkPort(; name)\n",
    "    @named wp = WorkPin()\n",
    "    @named wn = WorkPin()\n",
    "    sts = @variables Ẇ(t) = 0.0\n",
    "    eqs = [0 ~ wp.Ẇ - wn.Ẇ\n",
    "            Ẇ ~ wp.Ẇ]\n",
    "    compose(ODESystem(eqs, t, sts, []; name = name), wp, wn)\n",
    "end\n",
    "\n",
    "@named flowport =FlowPort()\n",
    "@unpack T,P,ṁ=flowport\n",
    "\n",
    "@named heatport =HeatPort()\n",
    "@unpack Q̇ = heatport\n",
    "\n",
    "@named workport =WorkPort()\n",
    "@unpack Ẇ = workport"
   ]
  },
  {
   "attachments": {},
   "cell_type": "markdown",
   "metadata": {},
   "source": [
    "## Components"
   ]
  },
  {
   "attachments": {},
   "cell_type": "markdown",
   "metadata": {},
   "source": [
    "#### Grounding elements"
   ]
  },
  {
   "cell_type": "code",
   "execution_count": null,
   "metadata": {},
   "outputs": [],
   "source": [
    "@component function FlowGround(; name)\n",
    "    @named fg = FlowPin()\n",
    "    eqs = [fg.P ~ 0,\n",
    "        fg.T ~ 0,\n",
    "        fg.ṁ ~ 0]\n",
    "    compose(ODESystem(eqs, t, [], []; name = name), fg)\n",
    "end\n",
    "\n",
    "@component function HeatGround(; name)\n",
    "    @named hg = HeatPin()\n",
    "    eqs = [hg.Q̇ ~ 0]\n",
    "    compose(ODESystem(eqs, t, [], []; name = name), hg)\n",
    "end\n",
    "\n",
    "@component function WorkGround(; name)\n",
    "    @named wg = WorkPin()\n",
    "    eqs = [wg.Ẇ ~ 0]\n",
    "    compose(ODESystem(eqs, t, [], []; name = name), wg)\n",
    "end"
   ]
  },
  {
   "attachments": {},
   "cell_type": "markdown",
   "metadata": {},
   "source": [
    "#### Sources"
   ]
  },
  {
   "cell_type": "code",
   "execution_count": null,
   "metadata": {},
   "outputs": [],
   "source": [
    "@component function FlowReservoir(; name, Press = 10.0, Temp = 300.0)\n",
    "    @named flowport = FlowPort()\n",
    "    @unpack T,P = flowport\n",
    "    ps = @parameters Ti = Temp Pi = Press\n",
    "    eqs = [\n",
    "        T~Ti,\n",
    "        P~Pi\n",
    "    ]\n",
    "    extend(ODESystem(eqs, t, [], ps; name = name), flowport)\n",
    "end\n",
    "\n",
    "@component function MassFlowSource(; name, Ṁ = 1.0)\n",
    "    @named flowport = FlowPort()\n",
    "    @unpack ṁ = flowport\n",
    "    ps = @parameters Ṁ = Ṁ\n",
    "    eqs = [\n",
    "        Ṁ ~ ṁ,\n",
    "    ]\n",
    "    extend(ODESystem(eqs, t, [], ps; name = name), flowport)\n",
    "end\n",
    "\n",
    "@component function HeatSource(; name, q̇ = 1.0)\n",
    "    @named heatport = HeatPort()\n",
    "    @unpack Q̇ = heatport\n",
    "    ps = @parameters q̇ = q̇\n",
    "    eqs = [\n",
    "        Q̇ ~ q̇,\n",
    "    ]\n",
    "    extend(ODESystem(eqs, t, [], ps; name = name), heatport)\n",
    "end"
   ]
  },
  {
   "attachments": {},
   "cell_type": "markdown",
   "metadata": {},
   "source": [
    "#### Elements"
   ]
  },
  {
   "cell_type": "code",
   "execution_count": 127,
   "metadata": {},
   "outputs": [
    {
     "data": {
      "text/html": [
       "# 1 method for generic function <b>connect</b>:<ul><li> connect(sys1, sys2, syss...) in Symbolics at <a href=\"file://C:/Users/harvey/.julia/packages/Symbolics/3jLt1/src/equations.jl\" target=\"_blank\">C:\\Users\\harvey\\.julia\\packages\\Symbolics\\3jLt1\\src\\equations.jl:8</a></li> </ul>"
      ],
      "text/plain": [
       "# 1 method for generic function \"connect\":\n",
       "[1] connect(sys1, sys2, syss...) in Symbolics at C:\\Users\\harvey\\.julia\\packages\\Symbolics\\3jLt1\\src\\equations.jl:8"
      ]
     },
     "metadata": {},
     "output_type": "display_data"
    }
   ],
   "source": [
    "@component function HeaterEl(; name, UA = 6000, Tamb = 1000, m = 100)\n",
    "    @named flowport = FlowPort()\n",
    "    @named heatport = HeatPort()\n",
    "    @unpack T, P, ṁ = flowport\n",
    "    @unpack Q̇ = heatport\n",
    "    cp = 5192\n",
    "    D = Differential(t)\n",
    "    eqs = [\n",
    "        D(T) ~ (ṁ*cp)*T - Q̇\n",
    "    ]\n",
    "    extend(extend(ODESystem(eqs, t, [], []; name = name), flowport) , heatport)\n",
    "end\n",
    "\n",
    "@component function flow_continuity(; name)\n",
    "    @named flowport = FlowPort()\n",
    "    @unpack T, P, ṁ = flowport\n",
    "    cp = 5192\n",
    "    eqs = [\n",
    "        T ~ flowport.fp.T - flowport.fn.T\n",
    "        P ~ flowport.fp.P - flowport.fn.P\n",
    "        ṁ ~ flowport.fp.ṁ\n",
    "    ]\n",
    "    extend(ODESystem(eqs, t, [], []; name = name), flowport) \n",
    "end\n",
    "\n",
    "@component function piping(; name, R = .01)\n",
    "    @named flowport = FlowPort()\n",
    "    @unpack T, P, ṁ = flowport\n",
    "    cp = 5192\n",
    "    \n",
    "    D = Differential(t)\n",
    "\n",
    "    eqs = [\n",
    "        P ~ R*ṁ\n",
    "        T ~ 0\n",
    "    ]\n",
    "    extend(ODESystem(eqs, t, [], []; name = name), flowport) \n",
    "end\n",
    "\n",
    "\n",
    "\n",
    "methods(compose)\n",
    "methods(extend)\n",
    "methods(connect)"
   ]
  },
  {
   "cell_type": "code",
   "execution_count": 136,
   "metadata": {},
   "outputs": [
    {
     "name": "stdout",
     "output_type": "stream",
     "text": [
      "sys = structural_simplify(therm_model) = ODESystem(0x0000000000000916, Equation[], t, Any[], SymbolicUtils.BasicSymbolic{Real}[mflow₊Ṁ, flowres₊Ti, flowres₊Pi], nothing, Dict{Any, Any}(:pipes₊fp₊ṁ => pipes₊fp₊ṁ(t), :cont_el₊fp₊T => cont_el₊fp₊T(t), :cont_el₊ṁ => cont_el₊ṁ(t), :cont_el₊fn₊P => cont_el₊fn₊P(t), :flowres₊fp₊T => flowres₊fp₊T(t), :mflow₊P => mflow₊P(t), :mflow₊fp₊P => mflow₊fp₊P(t), :cont_el₊fp₊P => cont_el₊fp₊P(t), :flowground₊fg₊P => flowground₊fg₊P(t), :flowres₊P => flowres₊P(t), :mflow₊Ṁ => mflow₊Ṁ, :cont_el₊P => cont_el₊P(t), :pipes₊P => pipes₊P(t), :flowres₊Pi => flowres₊Pi, :flowground₊fg₊T => flowground₊fg₊T(t), :mflow₊fn₊P => mflow₊fn₊P(t), :pipes₊fn₊P => pipes₊fn₊P(t), :pipes₊fn₊ṁ => pipes₊fn₊ṁ(t), :pipes₊fn₊T => pipes₊fn₊T(t), :mflow₊T => mflow₊T(t), :flowres₊Ti => flowres₊Ti, :mflow₊fn₊ṁ => mflow₊fn₊ṁ(t), :flowres₊fp₊ṁ => flowres₊fp₊ṁ(t), :flowres₊fp₊P => flowres₊fp₊P(t), :mflow₊fn₊T => mflow₊fn₊T(t), :cont_el₊fn₊T => cont_el₊fn₊T(t), :flowground₊fg₊ṁ => flowground₊fg₊ṁ(t), :cont_el₊fn₊ṁ => cont_el₊fn₊ṁ(t), :flowres₊T => flowres₊T(t), :cont_el₊fp₊ṁ => cont_el₊fp₊ṁ(t), :pipes₊fp₊T => pipes₊fp₊T(t), :flowres₊fn₊T => flowres₊fn₊T(t), :flowres₊ṁ => flowres₊ṁ(t), :mflow₊ṁ => mflow₊ṁ(t), :pipes₊T => pipes₊T(t), :mflow₊fp₊T => mflow₊fp₊T(t), :flowres₊fn₊P => flowres₊fn₊P(t), :flowres₊fn₊ṁ => flowres₊fn₊ṁ(t), :cont_el₊T => cont_el₊T(t), :pipes₊ṁ => pipes₊ṁ(t), :mflow₊fp₊ṁ => mflow₊fp₊ṁ(t), :pipes₊fp₊P => pipes₊fp₊P(t)), Any[], Equation[cont_el₊flowport₊fp₊T(t) ~ 0, cont_el₊flowport₊fp₊P(t) ~ 0, pipes₊fp₊T(t) ~ 0, pipes₊fp₊P(t) ~ 0, cont_el₊flowport₊fn₊T(t) ~ 0, cont_el₊fp₊T(t) ~ 0, mflow₊fn₊P(t) ~ 0, mflow₊fn₊T(t) ~ 0, pipes₊fn₊T(t) ~ 0, cont_el₊T(t) ~ 0, flowres₊fp₊P(t) ~ 0, cont_el₊fn₊P(t) ~ 0, cont_el₊fn₊T(t) ~ 0, flowres₊fp₊T(t) ~ 0, pipes₊T(t) ~ 0, flowground₊fg₊ṁ(t) ~ 0, flowground₊fg₊T(t) ~ 0, flowground₊fg₊P(t) ~ 0, flowres₊P(t) ~ flowres₊Pi, flowres₊T(t) ~ flowres₊Ti, pipes₊ṁ(t) ~ -mflow₊Ṁ, mflow₊P(t) ~ -flowres₊P(t), mflow₊fp₊P(t) ~ -flowres₊P(t), flowres₊fn₊P(t) ~ -flowres₊P(t), mflow₊T(t) ~ -flowres₊T(t), mflow₊fp₊T(t) ~ -flowres₊T(t), flowres₊fn₊T(t) ~ -flowres₊T(t), mflow₊ṁ(t) ~ -pipes₊ṁ(t), cont_el₊flowport₊fp₊ṁ(t) ~ -pipes₊ṁ(t), flowres₊ṁ(t) ~ pipes₊ṁ(t), mflow₊fp₊ṁ(t) ~ -pipes₊ṁ(t), mflow₊fn₊ṁ(t) ~ -pipes₊ṁ(t), pipes₊fp₊ṁ(t) ~ pipes₊ṁ(t), pipes₊fn₊ṁ(t) ~ pipes₊ṁ(t), cont_el₊ṁ(t) ~ -pipes₊ṁ(t), cont_el₊fp₊ṁ(t) ~ -pipes₊ṁ(t), cont_el₊fn₊ṁ(t) ~ -pipes₊ṁ(t), flowres₊fp₊ṁ(t) ~ pipes₊ṁ(t), flowres₊fn₊ṁ(t) ~ pipes₊ṁ(t), pipes₊P(t) ~ 0.01pipes₊ṁ(t), pipes₊fn₊P(t) ~ -pipes₊P(t), cont_el₊flowport₊fn₊P(t) ~ pipes₊P(t), cont_el₊fp₊P(t) ~ -pipes₊P(t), cont_el₊P(t) ~ -pipes₊P(t)], Base.RefValue{Vector{Num}}(Num[]), Base.RefValue{Any}(Matrix{Num}(undef, 0, 0)), Base.RefValue{Any}(Matrix{Num}(undef, 0, 0)), Base.RefValue{Matrix{Num}}(Matrix{Num}(undef, 0, 0)), Base.RefValue{Matrix{Num}}(Matrix{Num}(undef, 0, 0)), :therm_model, ODESystem[], Dict{Any, Any}(mflow₊fp₊P(t) => 20.0, mflow₊P(t) => 1.0, flowres₊fp₊T(t) => 300.0, mflow₊fp₊ṁ(t) => 1.0, mflow₊fn₊T(t) => 300.0, flowres₊fp₊ṁ(t) => 1.0, flowground₊fg₊ṁ(t) => 1.0, flowres₊fp₊P(t) => 20.0, flowground₊fg₊P(t) => 20.0, flowground₊fg₊T(t) => 300.0, flowres₊Ti => 300, flowres₊Pi => 25.0, cont_el₊fp₊ṁ(t) => 1.0, flowres₊fn₊ṁ(t) => 1.0, cont_el₊fp₊P(t) => 20.0, mflow₊ṁ(t) => 1.0, cont_el₊fn₊ṁ(t) => 1.0, mflow₊T(t) => 1.0, cont_el₊fn₊P(t) => 20.0, flowres₊fn₊T(t) => 300.0, mflow₊fn₊ṁ(t) => 1.0, cont_el₊ṁ(t) => 1.0, pipes₊fp₊ṁ(t) => 1.0, pipes₊ṁ(t) => 1.0, pipes₊fp₊P(t) => 20.0, mflow₊fn₊P(t) => 20.0, pipes₊fn₊ṁ(t) => 1.0, cont_el₊fn₊T(t) => 300.0, mflow₊fp₊T(t) => 300.0, cont_el₊P(t) => 1.0, cont_el₊fp₊T(t) => 300.0, mflow₊Ṁ => 120, pipes₊T(t) => 1.0, cont_el₊T(t) => 1.0, flowres₊P(t) => 1.0, flowres₊ṁ(t) => 1.0, flowres₊T(t) => 1.0, pipes₊fp₊T(t) => 300.0, pipes₊P(t) => 1.0, pipes₊fn₊T(t) => 300.0, flowres₊fn₊P(t) => 20.0, pipes₊fn₊P(t) => 20.0), nothing, nothing, nothing, ModelingToolkit.SymbolicContinuousCallback[], ModelingToolkit.SymbolicDiscreteCallback[], nothing, nothing, TearingState of ODESystem, ModelingToolkit.Substitutions(Equation[flowres₊P(t) ~ flowres₊Pi, flowres₊T(t) ~ flowres₊Ti, pipes₊ṁ(t) ~ -mflow₊Ṁ, pipes₊P(t) ~ 0.01pipes₊ṁ(t)], [Int64[], Int64[], Int64[], [3]], nothing), false, nothing, nothing)\n",
      "get_variables(therm_model) = Any[]\n"
     ]
    },
    {
     "name": "stderr",
     "output_type": "stream",
     "text": [
      "┌ Warning: fg contains 1 flow variables, yet 2 regular (non-flow, non-stream, non-input, non-output) variables. This could lead to imbalanced model that are difficult to debug. Consider marking some of the regular variables as input/output variables.\n",
      "└ @ ModelingToolkit C:\\Users\\harvey\\.julia\\packages\\ModelingToolkit\\FbXPg\\src\\systems\\connectors.jl:40\n",
      "┌ Warning: fp contains 1 flow variables, yet 2 regular (non-flow, non-stream, non-input, non-output) variables. This could lead to imbalanced model that are difficult to debug. Consider marking some of the regular variables as input/output variables.\n",
      "└ @ ModelingToolkit C:\\Users\\harvey\\.julia\\packages\\ModelingToolkit\\FbXPg\\src\\systems\\connectors.jl:40\n",
      "┌ Warning: fn contains 1 flow variables, yet 2 regular (non-flow, non-stream, non-input, non-output) variables. This could lead to imbalanced model that are difficult to debug. Consider marking some of the regular variables as input/output variables.\n",
      "└ @ ModelingToolkit C:\\Users\\harvey\\.julia\\packages\\ModelingToolkit\\FbXPg\\src\\systems\\connectors.jl:40\n",
      "┌ Warning: fp contains 1 flow variables, yet 2 regular (non-flow, non-stream, non-input, non-output) variables. This could lead to imbalanced model that are difficult to debug. Consider marking some of the regular variables as input/output variables.\n",
      "└ @ ModelingToolkit C:\\Users\\harvey\\.julia\\packages\\ModelingToolkit\\FbXPg\\src\\systems\\connectors.jl:40\n",
      "┌ Warning: fn contains 1 flow variables, yet 2 regular (non-flow, non-stream, non-input, non-output) variables. This could lead to imbalanced model that are difficult to debug. Consider marking some of the regular variables as input/output variables.\n",
      "└ @ ModelingToolkit C:\\Users\\harvey\\.julia\\packages\\ModelingToolkit\\FbXPg\\src\\systems\\connectors.jl:40\n",
      "┌ Warning: fp contains 1 flow variables, yet 2 regular (non-flow, non-stream, non-input, non-output) variables. This could lead to imbalanced model that are difficult to debug. Consider marking some of the regular variables as input/output variables.\n",
      "└ @ ModelingToolkit C:\\Users\\harvey\\.julia\\packages\\ModelingToolkit\\FbXPg\\src\\systems\\connectors.jl:40\n",
      "┌ Warning: fn contains 1 flow variables, yet 2 regular (non-flow, non-stream, non-input, non-output) variables. This could lead to imbalanced model that are difficult to debug. Consider marking some of the regular variables as input/output variables.\n",
      "└ @ ModelingToolkit C:\\Users\\harvey\\.julia\\packages\\ModelingToolkit\\FbXPg\\src\\systems\\connectors.jl:40\n",
      "┌ Warning: fp contains 1 flow variables, yet 2 regular (non-flow, non-stream, non-input, non-output) variables. This could lead to imbalanced model that are difficult to debug. Consider marking some of the regular variables as input/output variables.\n",
      "└ @ ModelingToolkit C:\\Users\\harvey\\.julia\\packages\\ModelingToolkit\\FbXPg\\src\\systems\\connectors.jl:40\n",
      "┌ Warning: fn contains 1 flow variables, yet 2 regular (non-flow, non-stream, non-input, non-output) variables. This could lead to imbalanced model that are difficult to debug. Consider marking some of the regular variables as input/output variables.\n",
      "└ @ ModelingToolkit C:\\Users\\harvey\\.julia\\packages\\ModelingToolkit\\FbXPg\\src\\systems\\connectors.jl:40\n",
      "┌ Warning: hg contains 0 flow variables, yet 1 regular (non-flow, non-stream, non-input, non-output) variables. This could lead to imbalanced model that are difficult to debug. Consider marking some of the regular variables as input/output variables.\n",
      "└ @ ModelingToolkit C:\\Users\\harvey\\.julia\\packages\\ModelingToolkit\\FbXPg\\src\\systems\\connectors.jl:40\n",
      "┌ Warning: qp contains 0 flow variables, yet 1 regular (non-flow, non-stream, non-input, non-output) variables. This could lead to imbalanced model that are difficult to debug. Consider marking some of the regular variables as input/output variables.\n",
      "└ @ ModelingToolkit C:\\Users\\harvey\\.julia\\packages\\ModelingToolkit\\FbXPg\\src\\systems\\connectors.jl:40\n",
      "┌ Warning: qn contains 0 flow variables, yet 1 regular (non-flow, non-stream, non-input, non-output) variables. This could lead to imbalanced model that are difficult to debug. Consider marking some of the regular variables as input/output variables.\n",
      "└ @ ModelingToolkit C:\\Users\\harvey\\.julia\\packages\\ModelingToolkit\\FbXPg\\src\\systems\\connectors.jl:40\n",
      "┌ Warning: fp contains 1 flow variables, yet 2 regular (non-flow, non-stream, non-input, non-output) variables. This could lead to imbalanced model that are difficult to debug. Consider marking some of the regular variables as input/output variables.\n",
      "└ @ ModelingToolkit C:\\Users\\harvey\\.julia\\packages\\ModelingToolkit\\FbXPg\\src\\systems\\connectors.jl:40\n",
      "┌ Warning: fn contains 1 flow variables, yet 2 regular (non-flow, non-stream, non-input, non-output) variables. This could lead to imbalanced model that are difficult to debug. Consider marking some of the regular variables as input/output variables.\n",
      "└ @ ModelingToolkit C:\\Users\\harvey\\.julia\\packages\\ModelingToolkit\\FbXPg\\src\\systems\\connectors.jl:40\n",
      "┌ Warning: qp contains 0 flow variables, yet 1 regular (non-flow, non-stream, non-input, non-output) variables. This could lead to imbalanced model that are difficult to debug. Consider marking some of the regular variables as input/output variables.\n",
      "└ @ ModelingToolkit C:\\Users\\harvey\\.julia\\packages\\ModelingToolkit\\FbXPg\\src\\systems\\connectors.jl:40\n",
      "┌ Warning: qn contains 0 flow variables, yet 1 regular (non-flow, non-stream, non-input, non-output) variables. This could lead to imbalanced model that are difficult to debug. Consider marking some of the regular variables as input/output variables.\n",
      "└ @ ModelingToolkit C:\\Users\\harvey\\.julia\\packages\\ModelingToolkit\\FbXPg\\src\\systems\\connectors.jl:40\n"
     ]
    },
    {
     "name": "stdout",
     "output_type": "stream",
     "text": [
      "equations(sys) = Equation[]\n"
     ]
    },
    {
     "data": {
      "text/latex": [
       "$$ \\begin{align}\n",
       "\\end{align}\n",
       " $$"
      ],
      "text/plain": [
       "Equation[]"
      ]
     },
     "metadata": {},
     "output_type": "display_data"
    }
   ],
   "source": [
    "@named flowG = FlowGround(name = :flowground);\n",
    "@named mflowsource = MassFlowSource(name = :mflow, Ṁ = 120);\n",
    "@named flowres = FlowReservoir(name = :flowres, Press = 25.0, Temp = 300);\n",
    "@named pipes = piping();\n",
    "@named cont_el = flow_continuity();\n",
    "\n",
    "@named heatG    = HeatGround(name = :heatground);\n",
    "@named qsource  = HeatSource(name = :weball,q̇ = 100);\n",
    "@named heater   = HeaterEl(name = :heat);\n",
    "\n",
    "# flow_eq = [connect(flowG.fg , flowres.fp),\n",
    "#             connect(flowres.fn, mflowsource.fp),\n",
    "#             connect(mflowsource.fn, heater.fp),\n",
    "#             connect(heatG.hg, qsource.qp),\n",
    "#             connect(qsource.qn,heater.qp),\n",
    "#             connect(heater.fn, cont_el.fp),\n",
    "#             connect(cont_el.fn,flowres.fp)];\n",
    "            \n",
    "# flow_eq = [connect(flowG.fg , mflowsource.fp),\n",
    "#             connect(mflowsource.fn, flowres.fp),\n",
    "#             connect(flowres.fn, pipes.fp),\n",
    "#             connect(pipes.fn, heater.fp),\n",
    "#             connect(heater.fn, cont_el.fp),\n",
    "#             connect(cont_el.fp, flowG.fg),\n",
    "#             connect(heatG.hg, qsource.qp),\n",
    "#             connect(qsource.qn,heater.qp)];\n",
    "# # @named qsource = HeatSource(name = :weball,q̇ = 100)\n",
    "# @named htr = HeaterEl(name = :wtf)\n",
    "\n",
    "flow_eq = [connect(flowG.fg , flowres.fp),\n",
    "            connect(flowres.fn, mflowsource.fp),\n",
    "            connect(mflowsource.fn, pipes.fp),\n",
    "            connect(pipes.fn,cont_el.fp),\n",
    "            connect(cont_el.fn,flowres.fp)];\n",
    "# connect_eq = [flowG.fg ~ mflowsource.fp,\n",
    "#                 mflowsource.fn ~ flowres.fp]\n",
    "\n",
    "@named outsys = ODESystem(flow_eq,t);\n",
    "@named therm_model = compose(outsys, [flowG, mflowsource, flowres,cont_el, pipes]);\n",
    "\n",
    "@show sys = structural_simplify(therm_model)\n",
    "@show get_variables(therm_model)\n",
    "D = Differential(t)\n",
    "\n",
    "u0 = [mflowsource.ṁ => 100,\n",
    "        D(mflowsource.ṁ) => 0,\n",
    "        qsource.Q̇ => 150,\n",
    "        heater.T => 350]\n",
    "\n",
    "\n",
    "prob = ODAEProblem(sys, u0, (0, 10.0))\n",
    "sol = solve(prob, Tsit5())\n",
    "\n",
    "# sys = therm_model"
   ]
  },
  {
   "cell_type": "code",
   "execution_count": 109,
   "metadata": {},
   "outputs": [
    {
     "ename": "ModelingToolkit.InvalidSystemException",
     "evalue": "InvalidSystemException: The system is structurally singular! Here are the problematic variables: \n heat₊fp₊T(t)",
     "output_type": "error",
     "traceback": [
      "InvalidSystemException: The system is structurally singular! Here are the problematic variables: \n",
      " heat₊fp₊T(t)\n",
      "\n",
      "Stacktrace:\n",
      " [1] check_consistency(state::TearingState{ODESystem}, ag::ModelingToolkit.AliasGraph, orig_inputs::Set{Any})\n",
      "   @ ModelingToolkit.StructuralTransformations C:\\Users\\harvey\\.julia\\packages\\ModelingToolkit\\FbXPg\\src\\structural_transformation\\utils.jl:107\n",
      " [2] _structural_simplify!(state::TearingState{ODESystem}, io::Nothing; simplify::Bool, check_consistency::Bool, kwargs::Base.Pairs{Symbol, Union{}, Tuple{}, NamedTuple{(), Tuple{}}})\n",
      "   @ ModelingToolkit.SystemStructures C:\\Users\\harvey\\.julia\\packages\\ModelingToolkit\\FbXPg\\src\\systems\\systemstructure.jl:605\n",
      " [3] structural_simplify!(state::TearingState{ODESystem}, io::Nothing; simplify::Bool, check_consistency::Bool, kwargs::Base.Pairs{Symbol, Union{}, Tuple{}, NamedTuple{(), Tuple{}}})\n",
      "   @ ModelingToolkit.SystemStructures C:\\Users\\harvey\\.julia\\packages\\ModelingToolkit\\FbXPg\\src\\systems\\systemstructure.jl:561\n",
      " [4] structural_simplify(sys::ODESystem, io::Nothing; simplify::Bool, kwargs::Base.Pairs{Symbol, Union{}, Tuple{}, NamedTuple{(), Tuple{}}})\n",
      "   @ ModelingToolkit C:\\Users\\harvey\\.julia\\packages\\ModelingToolkit\\FbXPg\\src\\systems\\systems.jl:39\n",
      " [5] structural_simplify (repeats 2 times)\n",
      "   @ C:\\Users\\harvey\\.julia\\packages\\ModelingToolkit\\FbXPg\\src\\systems\\systems.jl:19 [inlined]\n",
      " [6] top-level scope\n",
      "   @ show.jl:1047"
     ]
    }
   ],
   "source": [
    "# equations(expand_connections(therm_model))\n",
    "# sys = structural_simplify(therm_model)\n",
    "@show sys = structural_simplify(therm_model)\n",
    "# sys = therm_model\n"
   ]
  },
  {
   "cell_type": "code",
   "execution_count": null,
   "metadata": {},
   "outputs": [],
   "source": [
    "\n",
    "D = Differential(t)\n",
    "u0 = [mflowsource.ṁ => 100,\n",
    "        D(mflowsource.ṁ) => 0,\n",
    "        qsource.Q̇ => 150,\n",
    "        heater.T => 350]\n",
    "\n",
    "prob = ODAEProblem(sys, u0, (0, 10.0))\n",
    "sol = solve(prob, Tsit5())\n",
    "# plot(sol, vars = heater.P)\n",
    "# states(sys)\n",
    "sol"
   ]
  },
  {
   "cell_type": "code",
   "execution_count": 39,
   "metadata": {},
   "outputs": [
    {
     "data": {
      "text/plain": [
       "Dict{Num, Num} with 1 entry:\n",
       "  T2s => T1*((1 / rp)^kc)"
      ]
     },
     "metadata": {},
     "output_type": "display_data"
    }
   ],
   "source": [
    "using Symbolics\n",
    "@variables η T1 T2s T2a Pi Po rp kc cp"
   ]
  },
  {
   "cell_type": "code",
   "execution_count": 55,
   "metadata": {},
   "outputs": [
    {
     "name": "stdout",
     "output_type": "stream",
     "text": [
      "tf = (η + rp^kc - η*(rp^kc)) / (rp^kc)\n"
     ]
    },
    {
     "data": {
      "text/latex": [
       "$$ \\begin{equation}\n",
       "\\frac{\\eta + rp^{kc} - rp^{kc} \\eta}{rp^{kc}}\n",
       "\\end{equation}\n",
       " $$"
      ],
      "text/plain": [
       "(η + rp^kc - η*(rp^kc)) / (rp^kc)"
      ]
     },
     "metadata": {},
     "output_type": "display_data"
    }
   ],
   "source": [
    "swapDict = Dict(T2s => T1*(1/rp)^(kc))\n",
    "eqn = (T2s -T1)*η ~ (T2a-T1)\n",
    "T2aeq = simplify(substitute(Symbolics.solve_for(eqn,T2a),swapDict))\n",
    "tf = simplify(T2aeq/T1)\n",
    "@show tf"
   ]
  },
  {
   "cell_type": "code",
   "execution_count": 54,
   "metadata": {},
   "outputs": [
    {
     "name": "stdout",
     "output_type": "stream",
     "text": [
      "T2eq2 / T1 = (T1 - T1*η - T1*(rp^kc)) / (-T1*η)\n",
      "tf = (1.0 - η - (rp^kc)) / (-η)\n"
     ]
    },
    {
     "data": {
      "text/latex": [
       "$$ \\begin{equation}\n",
       "\\frac{1 - \\eta - rp^{kc}}{ - \\eta}\n",
       "\\end{equation}\n",
       " $$"
      ],
      "text/plain": [
       "(1.0 - η - (rp^kc)) / (-η)"
      ]
     },
     "metadata": {},
     "output_type": "display_data"
    }
   ],
   "source": [
    "# pump\n",
    "swapDict = Dict(T2s => T1*(rp)^(kc))\n",
    "eqn2 = η*(T2a -T1) ~ (T2s-T1)\n",
    "T2eq2 = simplify(substitute(Symbolics.solve_for(eqn2,T2a),swapDict))\n",
    "\n",
    "@show T2eq2/T1\n",
    "tf = simplify(T2eq2/T1)\n",
    "@show tf"
   ]
  },
  {
   "attachments": {},
   "cell_type": "markdown",
   "metadata": {},
   "source": [
    "using Symbolics\n",
    "\n"
   ]
  }
 ],
 "metadata": {
  "kernelspec": {
   "display_name": "Julia 1.8.5",
   "language": "julia",
   "name": "julia-1.8"
  },
  "language_info": {
   "file_extension": ".jl",
   "mimetype": "application/julia",
   "name": "julia",
   "version": "1.8.5"
  },
  "orig_nbformat": 4
 },
 "nbformat": 4,
 "nbformat_minor": 2
}
