{
 "cells": [
  {
   "cell_type": "code",
   "execution_count": null,
   "metadata": {},
   "outputs": [],
   "source": [
    "using ModelingToolkit, ThermalSystem_Models, Logging, Revise, CoolProp, Printf, OrdinaryDiffEq\n",
    "Revise.retry()\n",
    "Logging.disable_logging(Logging.Warn)\n",
    "\n",
    "TSM = ThermalSystem_Models\n",
    "TSMD = TSM.Dynamics\n",
    "TSMT = TSM.DeadTime\n",
    "MTK = ModelingToolkit\n",
    "Steam = TSMD.Steam\n",
    "Gas = TSMD.Gas\n",
    "Liq = TSMD.Liq"
   ]
  },
  {
   "attachments": {},
   "cell_type": "markdown",
   "metadata": {},
   "source": [
    "#### Testing alias elimination"
   ]
  },
  {
   "attachments": {},
   "cell_type": "markdown",
   "metadata": {},
   "source": [
    "CONCLUSION: Did not work - best route forward is to just remap"
   ]
  },
  {
   "cell_type": "code",
   "execution_count": null,
   "metadata": {},
   "outputs": [],
   "source": [
    "using Unitful, Symbolics\n",
    "\n",
    "# actual property functions\n",
    "specific_prop1_func(x,y)  = PropsSI(\"C\",\"P\",x,\"T\",y*u\"K\",\"Helium\").val,\n",
    "specific_prop2_func(x,y)  = PropsSI(\"ISENTRopic_expansion_coefficient\",\"P\",x*u\"bar\",\"T\",y*u\"K\",\"Helium\").val\n",
    "\n",
    "#registered as symbolics\n",
    "Symbolics.@register_symbolic specific_prop1_func(x,y)\n",
    "# Symbolics.@register_symbolic specific_prop2_func(x,y)\n",
    "\n",
    "#general funciton\n",
    "Symbolics.@register_symbolic general_prop1_func(x,y)\n",
    "Symbolics.@register_symbolic general_prop2_func(x,y)\n",
    "\n",
    "\n",
    "subdict = Dict(general_prop1_func => specific_prop1_func,\n",
    "                general_prop2_func => specific_prop2_func)\n",
    "\n",
    "@variables t\n",
    "Tfunc(t) = 300.0\n",
    "Pfunc(t) = 50.0\n",
    "@register_symbolic Tfunc(t) \n",
    "@register_symbolic Pfunc(t)\n",
    "@variables T(t) prop1(t) P(t)\n",
    "\n",
    "equation = [T ~ Tfunc(t),\n",
    "            P ~ Pfunc(t),\n",
    "            prop1 ~ general_prop1_func(T,P)]\n",
    "\n",
    "push!(equation, general_prop1_func(T,P) ~ specific_prop1_func(T,P))\n",
    "\n",
    "@named tstsys = ODESystem(equation,t,[T,P,prop1],[])\n",
    "# alias_elimination(tstsys)\n",
    "slsys = alias_elimination(tstsys)\n",
    "structural_simplify(slsys)"
   ]
  },
  {
   "attachments": {},
   "cell_type": "markdown",
   "metadata": {},
   "source": [
    "## Working on map"
   ]
  },
  {
   "cell_type": "code",
   "execution_count": null,
   "metadata": {},
   "outputs": [],
   "source": [
    "plant_sys,cntrl_vars = TSMD.para_full_system_brayton();\n",
    "TSMD.system_details(plant_sys)\n",
    "@unpack powercycle,intloop = plant_sys\n",
    "subsys = deepcopy(plant_sys)\n",
    "# for pd in [Gas.propDict,Steam.hydro_prop_dict,Liq.propDict]\n",
    "#     subsys = substitute(subsys, pd)\n",
    "# end\n",
    "TSMD.system_details(subsys)\n"
   ]
  },
  {
   "cell_type": "code",
   "execution_count": null,
   "metadata": {},
   "outputs": [],
   "source": [
    "eqs = equations(subsys);\n",
    "cntrl_vars\n",
    "d = Dict()\n",
    "for i = 1:5\n",
    "    d[cntrl_vars[i]] = 100\n",
    "end\n",
    "for i = 1:3\n",
    "    d[cntrl_vars[5+i]] = i*100e6\n",
    "end\n",
    "new_eqs = substitute(eqs,d);\n",
    "@named new_sys = ODESystem(new_eqs,t);\n",
    "TSMD.system_details(new_sys)\n",
    "\n",
    "MTK.linearize(subsys,union(cntrl_vars,parameters(subsys)))"
   ]
  },
  {
   "cell_type": "code",
   "execution_count": null,
   "metadata": {},
   "outputs": [],
   "source": [
    "AbstractTrees.children(x::ODESystem) = TSMD.systems(x)\n",
    "AbstractTrees.nodevalue(x::ODESystem) = x.name\n",
    "AbstractTrees.printnode(x::ODESystem) = print(x.name)\n",
    "cvals(x) = [nodevalue(xx) for xx in children(x)]"
   ]
  },
  {
   "cell_type": "code",
   "execution_count": null,
   "metadata": {},
   "outputs": [],
   "source": [
    "# @named testpart = TSMD.Gas.ActiveThermoTurbine()\n",
    "print_tree(sys)"
   ]
  },
  {
   "cell_type": "code",
   "execution_count": null,
   "metadata": {},
   "outputs": [],
   "source": [
    "lev1 = children(sys)\n",
    "inst = lev1[1]\n",
    "cvals(inst)\n",
    "nextsibling(inst)"
   ]
  },
  {
   "cell_type": "code",
   "execution_count": null,
   "metadata": {},
   "outputs": [],
   "source": [
    "lev2 = children(inst)\n",
    "inst = lev2[1]\n",
    "cvals(inst)\n",
    "print_tree(sys)\n",
    "# lev3 = children(inst)\n",
    "# inst = lev3[1]\n",
    "# cvals(inst)\n",
    "\n"
   ]
  },
  {
   "cell_type": "code",
   "execution_count": null,
   "metadata": {},
   "outputs": [],
   "source": [
    "@named testpart = TSMD.Gas.ActiveThermoTurbine()\n",
    "eqs = equations(testpart)\n",
    "cpf(t) = 5192\n",
    "kkf(t) = 1.6667\n",
    "\n",
    "to_eliminate = collect(keys(Gas.propDict))\n",
    "\n",
    "typeof(to_eliminate[1])\n",
    "eqref = eqs[9]\n",
    "tomathc = to_eliminate[2]\n",
    "\n",
    "sides(x) = [x.lhs, x.rhs] \n",
    "lhs,rhs=sides(eqref)"
   ]
  },
  {
   "attachments": {},
   "cell_type": "markdown",
   "metadata": {},
   "source": [
    "### This is helpful"
   ]
  },
  {
   "cell_type": "code",
   "execution_count": null,
   "metadata": {},
   "outputs": [],
   "source": [
    "v2n = powercycle.var_to_name\n",
    "symnam = collect(keys(powercycle.var_to_name))\n",
    "\n",
    "strnam = [String(s) for s in symnam]\n",
    "\n",
    "tofind = :ṁ\n",
    "tfStr = String(tofind)\n",
    "flowvar = collect(tfStr)[1]\n",
    "flowkeys = Symbol[]\n",
    "flowvals = SymbolicUtils.BasicSymbolic{Real}[]\n",
    "\n",
    "#   finds all system variables with ṁ\n",
    "for (i,str) in enumerate(strnam)\n",
    "    chr = collect(str)[end]\n",
    "    if chr == flowvar\n",
    "        push!(flowkeys,symnam[i])\n",
    "        push!(flowvals,v2n[symnam[i]])\n",
    "    end\n",
    "end"
   ]
  },
  {
   "cell_type": "code",
   "execution_count": null,
   "metadata": {},
   "outputs": [],
   "source": [
    "v2n,flow_symbol,flow_variable = TSMD.mass_flow_vars(powercycle);\n",
    "eqs = TSMD.connection_equations(powercycle);\n",
    "SplitStr = \"₊\"\n",
    "eq = eqs[1]\n",
    "compnames = TSMD.component_names(eqs; unique_only = true)\n",
    "cdict = Dict(cc => ii for (ii,cc) in enumerate(compnames))\n",
    "g = DiGraph()\n",
    "add_vertices!(g,length(compnames))\n",
    "cdict"
   ]
  },
  {
   "cell_type": "code",
   "execution_count": null,
   "metadata": {},
   "outputs": [],
   "source": [
    "for eq in eqs\n",
    "    vars = MTK.get_variables(eq)\n",
    "    symvar = TSMD.variable2symbol(vars); # variables in the form :variablenmame\n",
    "    bol = TSMD.check_for_ṁ(symvar)\n",
    "    if bol == true\n",
    "        # @show symvar\n",
    "        cname = [TSMD.split_variable_sym(s) for s in symvar]\n",
    "        portid = [String(c[end-1]) for c in cname]\n",
    "        portNames = [String(c[1]) for c in cname]\n",
    "        \n",
    "        nIdx = findfirst(x -> x==\"n\",portid)\n",
    "        pIdx = findfirst(x -> x==\"p\",portid)\n",
    "        # @show Symbol(portNames[pIdx])\n",
    "        if !isnothing(nIdx) && !isnothing(pIdx)\n",
    "            add_edge!(g,cdict[Symbol(portNames[nIdx])], cdict[Symbol(portNames[pIdx])])\n",
    "        end\n",
    "    end\n",
    "end\n"
   ]
  },
  {
   "cell_type": "code",
   "execution_count": null,
   "metadata": {},
   "outputs": [],
   "source": [
    "using PlotlyJS, LightGraphs\n",
    "import GraphPlot  # for spring_layout\n",
    "pos_x, pos_y = GraphPlot.spring_layout(g)"
   ]
  },
  {
   "cell_type": "code",
   "execution_count": null,
   "metadata": {},
   "outputs": [],
   "source": [
    "sv = symvar[end]\n",
    "\n",
    "# sep = \"₊\"\n",
    "# name_end = findfirst(x -> x==sep,collect(str))\n",
    "# collect(str)[end-2] == 'n'\n",
    "# occursin(\"n\",str)\n",
    "# String(ex.args)\n",
    "# name_end"
   ]
  },
  {
   "cell_type": "code",
   "execution_count": null,
   "metadata": {},
   "outputs": [],
   "source": [
    "\n",
    "# @show typeof(eqvars[1])\n",
    "# @show typeof(flow_variable[1])\n",
    "# # v2n[eqvars[1]]\n",
    "# display(eqvars)\n",
    "# display(flow_variable)\n",
    "# v2n[eqvars[1]]\n",
    "# # Symbol(String(eqvars[1]))\n",
    "# findfirst(x -> x == eqvars[1], flow_variable)\n",
    "\n",
    "va"
   ]
  },
  {
   "cell_type": "code",
   "execution_count": null,
   "metadata": {},
   "outputs": [],
   "source": [
    "\n",
    "\n",
    "# vars = powercycle.var_to_name[flowidx]\n",
    "# v2n = powercycle.var_to_name\n",
    "# flowidx[1]\n",
    "# typeof(v2n[flowidx[2]])\n",
    "eqAll = equation_dependencies(powercycle)\n",
    "eqFlow = equation_dependencies(powercycle, variables = flowvals);\n",
    "\n",
    "flow_var_idx = findall(x -> !isempty(x),eqFlow);\n",
    "mod_eq_flow = eqFlow[flow_var_idx];\n",
    "\n",
    "eqdict = Dict(s => i for (i,s) in enumerate(flowvals))\n",
    "as = asgraph(mod_eq_flow,eqdict)\n",
    "# flowvals[19]\n",
    "# asg = asdigraph(as, powercycle)\n"
   ]
  },
  {
   "cell_type": "code",
   "execution_count": null,
   "metadata": {},
   "outputs": [],
   "source": [
    "using PlotlyJS, LightGraphs\n",
    "import GraphPlot  # for spring_layout\n",
    "pos_x, pos_y = GraphPlot.spring_layout(as)\n"
   ]
  },
  {
   "cell_type": "code",
   "execution_count": null,
   "metadata": {},
   "outputs": [],
   "source": []
  },
  {
   "cell_type": "code",
   "execution_count": null,
   "metadata": {},
   "outputs": [],
   "source": [
    "newsys = deepcopy(sys);\n",
    "for pd in [Gas.propDict,Steam.hydro_prop_dict,Liq.propDict]\n",
    "    newsys = substitute(newsys, pd);\n",
    "end"
   ]
  },
  {
   "cell_type": "code",
   "execution_count": null,
   "metadata": {},
   "outputs": [],
   "source": [
    "eq = equations(sys)\n",
    "for pd in [Gas.propDict,Steam.hydro_prop_dict,Liq.propDict]\n",
    "    eq = substitute(eq, pd);\n",
    "end\n",
    "@named updatedsys = ODESystem(eq, MTK.get_iv(sys), states(sys), parameters(sys));"
   ]
  },
  {
   "cell_type": "code",
   "execution_count": null,
   "metadata": {},
   "outputs": [],
   "source": [
    "Nsys    = deepcopy(sys);\n",
    "systems = TSMD.systems(Nsys)"
   ]
  },
  {
   "cell_type": "code",
   "execution_count": null,
   "metadata": {},
   "outputs": [],
   "source": [
    "SimplePlant,Plant,copyplant,sol = TSMD.test_full_system_brayton();"
   ]
  },
  {
   "cell_type": "code",
   "execution_count": null,
   "metadata": {},
   "outputs": [],
   "source": [
    "using Symbolics, SymbolicUtils\n",
    "Eq = equations(sys)\n",
    "\n",
    "@syms t ṁ(t) FINDME(t)\n",
    "d = Dict(ṁ => FINDME)\n",
    "subEq = substitute(Eq,d)\n",
    "\n",
    "sts = states(sys)\n",
    "@show typeof(sts[1])\n",
    "@show istree(sts[1])\n",
    "\n",
    "SymbolicUtils.substitute(sts[1],d)\n",
    "# Symbolics.get_variables!(sts[1])\n",
    "propertynames(sts[1])\n",
    "# Meta.@dump(sts)\n",
    "# Meta.parse(eval(nm))\n",
    "exp = Meta.quot(nm)\n",
    "Meta.show_sexpr(exp)\n",
    "dump(exp.args)\n",
    "# ex1 = Meta.parse(Symbol(nm))\n",
    "# dump(sts[1])\n"
   ]
  },
  {
   "cell_type": "code",
   "execution_count": null,
   "metadata": {},
   "outputs": [],
   "source": [
    "using Symbolics, SymbolicUtils\n",
    "\n",
    "@variables"
   ]
  }
 ],
 "metadata": {
  "kernelspec": {
   "display_name": "Julia 1.8.5",
   "language": "julia",
   "name": "julia-1.8"
  },
  "language_info": {
   "file_extension": ".jl",
   "mimetype": "application/julia",
   "name": "julia",
   "version": "1.8.5"
  },
  "orig_nbformat": 4
 },
 "nbformat": 4,
 "nbformat_minor": 2
}
