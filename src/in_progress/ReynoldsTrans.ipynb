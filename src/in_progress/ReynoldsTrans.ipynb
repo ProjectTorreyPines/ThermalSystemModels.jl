{
 "cells": [
  {
   "cell_type": "code",
   "execution_count": 1,
   "metadata": {},
   "outputs": [],
   "source": [
    "using ModelingToolkit, Plots, Revise, Unitful, Symbolics, Logging, XSteam, Printf\n",
    "using Graphs, Plots, GraphRecipes\n",
    "using DifferentialEquations,  OrdinaryDiffEq"
   ]
  },
  {
   "cell_type": "code",
   "execution_count": 3,
   "metadata": {},
   "outputs": [
    {
     "data": {
      "text/latex": [
       "$$ \\begin{align}\n",
       "\\frac{\\mathrm{d}}{\\mathrm{d}t} Bsys =& {\\textnormal{\\.{B}}}out - {\\textnormal{\\.{B}}}in + \\frac{\\mathrm{d}}{\\mathrm{d}t} Bcv\n",
       "\\end{align}\n",
       " $$"
      ],
      "text/plain": [
       "1-element Vector{Equation}:\n",
       " Differential(t)(Bsys) ~ Ḃout + Differential(t)(Bcv) - Ḃin"
      ]
     },
     "metadata": {},
     "output_type": "display_data"
    }
   ],
   "source": [
    "# Basic electric components\n",
    "@variables t\n",
    "const D = Differential(t)\n",
    "\n",
    "@connector function HydraulicPin(; name)\n",
    "    @variables P(t)=1.0 Q(t)=1.0\n",
    "    ODESystem(Equation[], t, [v, i], [], name = name)\n",
    "end\n",
    "\n",
    "function Ground(; name)\n",
    "    @named g = HydraulicPin()\n",
    "    eqs = [g.P ~ 0]\n",
    "    compose(ODESystem(eqs, t, [], [], name = name), g)\n",
    "end\n",
    "\n",
    "function ConstantPressure(; name, P = 1.0)\n",
    "    val = V\n",
    "    @named p = HydraulicPin()\n",
    "    @named n = HydraulicPin()\n",
    "    @parameters V = V\n",
    "    eqs = [P ~ p.P - n.P\n",
    "           0 ~ p.Q + n.Q]\n",
    "    compose(ODESystem(eqs, t, [], [V], name = name), p, n)\n",
    "end\n",
    "\n",
    "function FlowCapacitor(; name, rho = 8050, V = 1, cp = 460, TAmbient = 293.15)\n",
    "    @parameters rho=rho V=V cp=cp\n",
    "    C = rho * V * cp\n",
    "    @named p = HydraulicPin()\n",
    "    @named n = HydraulicPin()\n",
    "    eqs = [\n",
    "        D(h.T) ~ h.Q_flow / C,\n",
    "    ]\n",
    "    compose(ODESystem(eqs, t, [], [rho, V, cp],\n",
    "                      name = name), h)\n",
    "end\n",
    "\n",
    "function Capacitor(; name, C = 1.0)\n",
    "    @named p = Pin()\n",
    "    @named n = Pin()\n",
    "    @variables v(t) = 0.0\n",
    "    @parameters C = C\n",
    "    eqs = [v ~ p.v - n.v\n",
    "           0 ~ p.i + n.i\n",
    "           D(v) ~ p.i / C]\n",
    "    compose(ODESystem(eqs, t, [v], [C],\n",
    "                      name = name), p, n)\n",
    "end\n",
    "\n",
    "function parallel_rc_model(i; name, source, ground, R, C)\n",
    "    resistor = HeatingResistor(name = Symbol(:resistor, i), R = R)\n",
    "    capacitor = Capacitor(name = Symbol(:capacitor, i), C = C)\n",
    "    heat_capacitor = HeatCapacitor(name = Symbol(:heat_capacitor, i))\n",
    "\n",
    "    rc_eqs = [connect(source.p, resistor.p)\n",
    "              connect(resistor.n, capacitor.p)\n",
    "              connect(capacitor.n, source.n, ground.g)\n",
    "              connect(resistor.h, heat_capacitor.h)]\n",
    "\n",
    "    compose(ODESystem(rc_eqs, t, name = Symbol(name, i)),\n",
    "            [resistor, capacitor, source, ground, heat_capacitor])\n",
    "end\n",
    "\n"
   ]
  }
 ],
 "metadata": {
  "kernelspec": {
   "display_name": "Julia 1.8.5",
   "language": "julia",
   "name": "julia-1.8"
  },
  "language_info": {
   "file_extension": ".jl",
   "mimetype": "application/julia",
   "name": "julia",
   "version": "1.8.5"
  },
  "orig_nbformat": 4
 },
 "nbformat": 4,
 "nbformat_minor": 2
}
