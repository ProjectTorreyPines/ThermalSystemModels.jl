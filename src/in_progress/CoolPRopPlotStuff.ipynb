{
 "cells": [
  {
   "cell_type": "code",
   "execution_count": 1,
   "metadata": {},
   "outputs": [],
   "source": [
    "using CoolProp, Plots, Unitful, LinearAlgebra"
   ]
  },
  {
   "attachments": {},
   "cell_type": "markdown",
   "metadata": {},
   "source": [
    "TS Diagram"
   ]
  },
  {
   "cell_type": "code",
   "execution_count": 27,
   "metadata": {},
   "outputs": [
    {
     "data": {
      "text/plain": [
       "100-element Vector{Quantity{Float64, 𝚯, Unitful.FreeUnits{(K,), 𝚯, nothing}}}:\n",
       "  5.029567300227878 K\n",
       "  5.029980263400134 K\n",
       "  5.030393210785271 K\n",
       " 5.0308061423768144 K\n",
       "  5.031219058174282 K\n",
       "  5.031631958173167 K\n",
       " 5.0320448423750035 K\n",
       "  5.032457710777289 K\n",
       "  5.032870563371549 K\n",
       "  5.033283400163298 K\n",
       "                    ⋮\n",
       "  5.067081991091423 K\n",
       " 5.0674935073037854 K\n",
       "  5.067905007501856 K\n",
       "  5.068316491683189 K\n",
       "  5.068727959845314 K\n",
       "  5.069139411985772 K\n",
       "  5.069550848102114 K\n",
       "  5.069962268191851 K\n",
       "  5.070373672252562 K"
      ]
     },
     "metadata": {},
     "output_type": "display_data"
    }
   ],
   "source": [
    "# vfcn = PropsSI.(\"D\",\"SMASS\",s_i,\"P\", P_arr,\"HE\")\n",
    "Srng = LinRange(0.0,30,100)\n",
    "Tmax = 1500u\"°C\"\n",
    "P_isos = 1:2\n",
    "p = plot([];title = \"Helium TS\")\n",
    "\n",
    "# for pis in P_isos\n",
    "#     Tout = PropsSI.(\"T\",\"SMASS\",Srng*u\"kJ/kg/K\",\"P\",pis*u\"MPa\",\"HE\")\n",
    "#     # plot!(Srng,Tout.val; label = \"P = $(pis) MPa\")\n",
    "# end\n",
    "\n",
    "Tout = PropsSI.(\"T\",\"SMASS\",Srng*u\"J/kg/K\",\"P\",1u\"MPa\",\"HE\")\n",
    "\n",
    "# Tarr = uconvert(PropsSI(\"T\", \"P\",1u\"MPa\", \"SMASS\", 0.0u\"J/kg/K\",\"He\")\n",
    "\n",
    "# display(p)\n",
    "# Tout\n"
   ]
  },
  {
   "cell_type": "code",
   "execution_count": null,
   "metadata": {},
   "outputs": [],
   "source": [
    "# P array = P_i -> P_o\n",
    "P_arr = LinRange(P_i,P_o,100)\n",
    "\n",
    "# Isentropic Process\n",
    "vfcn = PropsSI.(\"D\",\"SMASS\",s_i,\"P\", P_arr,\"HE\")\n",
    "\n",
    "\n"
   ]
  }
 ],
 "metadata": {
  "kernelspec": {
   "display_name": "Julia 1.8.5",
   "language": "julia",
   "name": "julia-1.8"
  },
  "language_info": {
   "file_extension": ".jl",
   "mimetype": "application/julia",
   "name": "julia",
   "version": "1.8.5"
  },
  "orig_nbformat": 4
 },
 "nbformat": 4,
 "nbformat_minor": 2
}
