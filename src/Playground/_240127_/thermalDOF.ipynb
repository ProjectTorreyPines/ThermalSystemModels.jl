{
 "cells": [
  {
   "cell_type": "markdown",
   "metadata": {},
   "source": [
    "# Thermal Component Library"
   ]
  },
  {
   "cell_type": "markdown",
   "metadata": {},
   "source": [
    "## Setup"
   ]
  },
  {
   "cell_type": "markdown",
   "metadata": {},
   "source": [
    "### Internals"
   ]
  },
  {
   "cell_type": "code",
   "execution_count": 1,
   "metadata": {},
   "outputs": [],
   "source": [
    "using ModelingToolkit, Plots, DifferentialEquations\n",
    "using OrdinaryDiffEq\n",
    "using Symbolics\n",
    "mtk = ModelingToolkit\n",
    "import ThermalSystem_Models as tsm"
   ]
  },
  {
   "cell_type": "code",
   "execution_count": null,
   "metadata": {},
   "outputs": [],
   "source": [
    "#= Ports =#\n",
    "@variables t\n",
    "const D = Differential(t)\n",
    "\n",
    "function thermal_dof(name)\n",
    "    @variables T(t)=300  [description = \"Temperature (K)\"]\n",
    "    @variables ds(t)=0.0 [description = \"Entropy Flow Rate = dS/dt W/K\"]\n",
    "    ODESystem(Equation[], t,[T,ds],[]; name = name)\n",
    "end\n",
    "\n",
    "function mechanical_dof(name)\n",
    "    @variables P(t)=101325  [description = \"Pressure, (Pa)\"]\n",
    "    @variables dv(t)=0.0    [description = \"Volume flow rate, m^3/s, = v*A\"]\n",
    "    ODESystem(Equation[], t,[T,ds],[]; name = name)\n",
    "end\n",
    "\n",
    "function energy_dof(name)\n",
    "    @variables dE(t) = 0 [description = \"Energy Rate (W)\"]\n",
    "    ODESystem(Equation[], t,[dE],[]; name = name)\n",
    "end\n",
    "\n",
    "function signal_dof(name)\n",
    "    @variables sig(t) = 0   [description = \"Signal (unitless)\"]\n",
    "    ODESystem(Equation[], t,[sig],[]; name = name)\n",
    "end\n",
    "\n",
    "function eConnect(pins...)\n",
    "    eqns = [sum(pin -> pin.dE, pins) ~ 0.0]\n",
    "end\n",
    "\n",
    "function thermalConnect(pins...)\n",
    "    eqs = [\n",
    "        sum(pin -> pin.ds, pins) ~ 0.0, # Entropy flow rate\n",
    "    ]\n",
    "    for pin in pins[2:end]\n",
    "        push!(eqs, pins[1].T ~ pin.T)   # p_1 = p_2, p_1 = p_3,...\n",
    "    end\n",
    "    eqs\n",
    "end"
   ]
  },
  {
   "cell_type": "markdown",
   "metadata": {},
   "source": [
    "### Components"
   ]
  },
  {
   "cell_type": "code",
   "execution_count": null,
   "metadata": {},
   "outputs": [],
   "source": [
    "# Energy to thermal dof transformer\n",
    "function e2t_transformer(name)\n",
    "    e = energy_dof(:e)  # (+) e.De = energy into the system\n",
    "    q = thermal_dof(:q)\n",
    "    eqs = [e.dE ~ -q.T * q.ds]\n",
    "    compose(ODESystem(eqs, t,[],[]; name = name),e,q)\n",
    "end\n",
    "\n",
    "# constant energy flow source\n",
    "function constantEnergyFlowSource(name; eflow)\n",
    "    e = energy_dof(:e)\n",
    "    eqs = [e.dE ~ -eflow]\n",
    "    compose(ODESystem(eqs,t,[],[]; name = name),e)\n",
    "end\n",
    "\n",
    "function thermalGround(name; temperature = 300)\n",
    "    q = thermal_dof(:q)\n",
    "    eqs = [q.T ~ temperature]\n",
    "    compose(ODESystem(eqs, t,[],[]; name = name), q)\n",
    "end\n",
    "\n",
    "function pointMass(name; mass = 1.0, specific_heat = 10)\n",
    "    @parameters m=mass cp=specific_heat\n",
    "    C = m * cp\n",
    "    q = thermal_dof(:q);\n",
    "    eqs = [D(q.T) ~ (q.T * q.ds)/ C]\n",
    "    compose(ODESystem(eqs, t, [], [m,cp],name = name), q)\n",
    "end\n",
    "\n",
    "function thermalResistor(name; UA = 1.0)\n",
    "    @parameters R=1/UA\n",
    "\n",
    "    qi = thermal_dof(:qi)\n",
    "    qo = thermal_dof(:qo)\n",
    "\n",
    "    eqs = [ qi.T*qi.ds ~ 1/R * (qi.T - qo.T),\n",
    "            0 ~ qo.T*qo.ds +  qi.T*qi.ds]\n",
    "    compose(ODESystem(eqs, t, [], [R], name = name), qi,qo)\n",
    "end\n"
   ]
  },
  {
   "cell_type": "code",
   "execution_count": null,
   "metadata": {},
   "outputs": [],
   "source": []
  }
 ],
 "metadata": {
  "kernelspec": {
   "display_name": "Julia 1.10.0",
   "language": "julia",
   "name": "julia-1.10"
  },
  "language_info": {
   "file_extension": ".jl",
   "mimetype": "application/julia",
   "name": "julia",
   "version": "1.10.0"
  }
 },
 "nbformat": 4,
 "nbformat_minor": 2
}
